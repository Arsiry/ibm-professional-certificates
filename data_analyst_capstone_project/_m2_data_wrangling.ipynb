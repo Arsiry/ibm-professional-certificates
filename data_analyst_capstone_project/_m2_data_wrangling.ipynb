{
 "cells": [
  {
   "cell_type": "markdown",
   "metadata": {},
   "source": [
    "<p style=\"text-align:center\">\n",
    "    <a href=\"https://skills.network/?utm_medium=Exinfluencer&utm_source=Exinfluencer&utm_content=000026UJ&utm_term=10006555&utm_id=NA-SkillsNetwork-Channel-SkillsNetworkCoursesIBMDA0321ENSkillsNetwork928-2022-01-01\" target=\"_blank\">\n",
    "    <img src=\"https://cf-courses-data.s3.us.cloud-object-storage.appdomain.cloud/assets/logos/SN_web_lightmode.png\" width=\"200\" alt=\"Skills Network Logo\"  />\n",
    "    </a>\n",
    "</p>\n"
   ]
  },
  {
   "cell_type": "markdown",
   "metadata": {},
   "source": [
    "# **Data Wrangling Lab**\n"
   ]
  },
  {
   "cell_type": "markdown",
   "metadata": {},
   "source": [
    "Estimated time needed: **45 to 60** minutes\n"
   ]
  },
  {
   "cell_type": "markdown",
   "metadata": {},
   "source": [
    "In this assignment you will be performing data wrangling.\n"
   ]
  },
  {
   "cell_type": "markdown",
   "metadata": {},
   "source": [
    "## Objectives\n"
   ]
  },
  {
   "cell_type": "markdown",
   "metadata": {},
   "source": [
    "In this lab you will perform the following:\n"
   ]
  },
  {
   "cell_type": "markdown",
   "metadata": {},
   "source": [
    "-   Identify duplicate values in the dataset.\n",
    "\n",
    "-   Remove duplicate values from the dataset.\n",
    "\n",
    "-   Identify missing values in the dataset.\n",
    "\n",
    "-   Impute the missing values in the dataset.\n",
    "\n",
    "-   Normalize data in the dataset.\n"
   ]
  },
  {
   "cell_type": "markdown",
   "metadata": {},
   "source": [
    "<hr>\n"
   ]
  },
  {
   "cell_type": "markdown",
   "metadata": {},
   "source": [
    "## Hands on Lab\n"
   ]
  },
  {
   "cell_type": "markdown",
   "metadata": {},
   "source": [
    "Import pandas module.\n"
   ]
  },
  {
   "cell_type": "code",
   "execution_count": 1,
   "metadata": {},
   "outputs": [],
   "source": [
    "import pandas as pd"
   ]
  },
  {
   "cell_type": "code",
   "execution_count": 2,
   "metadata": {},
   "outputs": [],
   "source": [
    "import warnings\n",
    "\n",
    "warnings.filterwarnings('ignore')"
   ]
  },
  {
   "cell_type": "markdown",
   "metadata": {},
   "source": [
    "Load the dataset into a dataframe.\n"
   ]
  },
  {
   "cell_type": "code",
   "execution_count": 3,
   "metadata": {},
   "outputs": [],
   "source": [
    "df = pd.read_csv(\"https://cf-courses-data.s3.us.cloud-object-storage.appdomain.cloud/IBM-DA0321EN-SkillsNetwork/LargeData/m1_survey_data.csv\")"
   ]
  },
  {
   "cell_type": "code",
   "execution_count": 4,
   "metadata": {},
   "outputs": [
    {
     "data": {
      "text/html": [
       "<div>\n",
       "<style scoped>\n",
       "    .dataframe tbody tr th:only-of-type {\n",
       "        vertical-align: middle;\n",
       "    }\n",
       "\n",
       "    .dataframe tbody tr th {\n",
       "        vertical-align: top;\n",
       "    }\n",
       "\n",
       "    .dataframe thead th {\n",
       "        text-align: right;\n",
       "    }\n",
       "</style>\n",
       "<table border=\"1\" class=\"dataframe\">\n",
       "  <thead>\n",
       "    <tr style=\"text-align: right;\">\n",
       "      <th></th>\n",
       "      <th>Respondent</th>\n",
       "      <th>MainBranch</th>\n",
       "      <th>Hobbyist</th>\n",
       "      <th>OpenSourcer</th>\n",
       "      <th>OpenSource</th>\n",
       "      <th>Employment</th>\n",
       "      <th>Country</th>\n",
       "      <th>Student</th>\n",
       "      <th>EdLevel</th>\n",
       "      <th>UndergradMajor</th>\n",
       "      <th>...</th>\n",
       "      <th>WelcomeChange</th>\n",
       "      <th>SONewContent</th>\n",
       "      <th>Age</th>\n",
       "      <th>Gender</th>\n",
       "      <th>Trans</th>\n",
       "      <th>Sexuality</th>\n",
       "      <th>Ethnicity</th>\n",
       "      <th>Dependents</th>\n",
       "      <th>SurveyLength</th>\n",
       "      <th>SurveyEase</th>\n",
       "    </tr>\n",
       "  </thead>\n",
       "  <tbody>\n",
       "    <tr>\n",
       "      <th>0</th>\n",
       "      <td>4</td>\n",
       "      <td>I am a developer by profession</td>\n",
       "      <td>No</td>\n",
       "      <td>Never</td>\n",
       "      <td>The quality of OSS and closed source software ...</td>\n",
       "      <td>Employed full-time</td>\n",
       "      <td>United States</td>\n",
       "      <td>No</td>\n",
       "      <td>Bachelor’s degree (BA, BS, B.Eng., etc.)</td>\n",
       "      <td>Computer science, computer engineering, or sof...</td>\n",
       "      <td>...</td>\n",
       "      <td>Just as welcome now as I felt last year</td>\n",
       "      <td>Tech articles written by other developers;Indu...</td>\n",
       "      <td>22.0</td>\n",
       "      <td>Man</td>\n",
       "      <td>No</td>\n",
       "      <td>Straight / Heterosexual</td>\n",
       "      <td>White or of European descent</td>\n",
       "      <td>No</td>\n",
       "      <td>Appropriate in length</td>\n",
       "      <td>Easy</td>\n",
       "    </tr>\n",
       "    <tr>\n",
       "      <th>1</th>\n",
       "      <td>9</td>\n",
       "      <td>I am a developer by profession</td>\n",
       "      <td>Yes</td>\n",
       "      <td>Once a month or more often</td>\n",
       "      <td>The quality of OSS and closed source software ...</td>\n",
       "      <td>Employed full-time</td>\n",
       "      <td>New Zealand</td>\n",
       "      <td>No</td>\n",
       "      <td>Some college/university study without earning ...</td>\n",
       "      <td>Computer science, computer engineering, or sof...</td>\n",
       "      <td>...</td>\n",
       "      <td>Just as welcome now as I felt last year</td>\n",
       "      <td>NaN</td>\n",
       "      <td>23.0</td>\n",
       "      <td>Man</td>\n",
       "      <td>No</td>\n",
       "      <td>Bisexual</td>\n",
       "      <td>White or of European descent</td>\n",
       "      <td>No</td>\n",
       "      <td>Appropriate in length</td>\n",
       "      <td>Neither easy nor difficult</td>\n",
       "    </tr>\n",
       "    <tr>\n",
       "      <th>2</th>\n",
       "      <td>13</td>\n",
       "      <td>I am a developer by profession</td>\n",
       "      <td>Yes</td>\n",
       "      <td>Less than once a month but more than once per ...</td>\n",
       "      <td>OSS is, on average, of HIGHER quality than pro...</td>\n",
       "      <td>Employed full-time</td>\n",
       "      <td>United States</td>\n",
       "      <td>No</td>\n",
       "      <td>Master’s degree (MA, MS, M.Eng., MBA, etc.)</td>\n",
       "      <td>Computer science, computer engineering, or sof...</td>\n",
       "      <td>...</td>\n",
       "      <td>Somewhat more welcome now than last year</td>\n",
       "      <td>Tech articles written by other developers;Cour...</td>\n",
       "      <td>28.0</td>\n",
       "      <td>Man</td>\n",
       "      <td>No</td>\n",
       "      <td>Straight / Heterosexual</td>\n",
       "      <td>White or of European descent</td>\n",
       "      <td>Yes</td>\n",
       "      <td>Appropriate in length</td>\n",
       "      <td>Easy</td>\n",
       "    </tr>\n",
       "    <tr>\n",
       "      <th>3</th>\n",
       "      <td>16</td>\n",
       "      <td>I am a developer by profession</td>\n",
       "      <td>Yes</td>\n",
       "      <td>Never</td>\n",
       "      <td>The quality of OSS and closed source software ...</td>\n",
       "      <td>Employed full-time</td>\n",
       "      <td>United Kingdom</td>\n",
       "      <td>No</td>\n",
       "      <td>Master’s degree (MA, MS, M.Eng., MBA, etc.)</td>\n",
       "      <td>NaN</td>\n",
       "      <td>...</td>\n",
       "      <td>Just as welcome now as I felt last year</td>\n",
       "      <td>Tech articles written by other developers;Indu...</td>\n",
       "      <td>26.0</td>\n",
       "      <td>Man</td>\n",
       "      <td>No</td>\n",
       "      <td>Straight / Heterosexual</td>\n",
       "      <td>White or of European descent</td>\n",
       "      <td>No</td>\n",
       "      <td>Appropriate in length</td>\n",
       "      <td>Neither easy nor difficult</td>\n",
       "    </tr>\n",
       "    <tr>\n",
       "      <th>4</th>\n",
       "      <td>17</td>\n",
       "      <td>I am a developer by profession</td>\n",
       "      <td>Yes</td>\n",
       "      <td>Less than once a month but more than once per ...</td>\n",
       "      <td>The quality of OSS and closed source software ...</td>\n",
       "      <td>Employed full-time</td>\n",
       "      <td>Australia</td>\n",
       "      <td>No</td>\n",
       "      <td>Bachelor’s degree (BA, BS, B.Eng., etc.)</td>\n",
       "      <td>Computer science, computer engineering, or sof...</td>\n",
       "      <td>...</td>\n",
       "      <td>Just as welcome now as I felt last year</td>\n",
       "      <td>Tech articles written by other developers;Indu...</td>\n",
       "      <td>29.0</td>\n",
       "      <td>Man</td>\n",
       "      <td>No</td>\n",
       "      <td>Straight / Heterosexual</td>\n",
       "      <td>Hispanic or Latino/Latina;Multiracial</td>\n",
       "      <td>No</td>\n",
       "      <td>Appropriate in length</td>\n",
       "      <td>Easy</td>\n",
       "    </tr>\n",
       "  </tbody>\n",
       "</table>\n",
       "<p>5 rows × 85 columns</p>\n",
       "</div>"
      ],
      "text/plain": [
       "   Respondent                      MainBranch Hobbyist  \\\n",
       "0           4  I am a developer by profession       No   \n",
       "1           9  I am a developer by profession      Yes   \n",
       "2          13  I am a developer by profession      Yes   \n",
       "3          16  I am a developer by profession      Yes   \n",
       "4          17  I am a developer by profession      Yes   \n",
       "\n",
       "                                         OpenSourcer  \\\n",
       "0                                              Never   \n",
       "1                         Once a month or more often   \n",
       "2  Less than once a month but more than once per ...   \n",
       "3                                              Never   \n",
       "4  Less than once a month but more than once per ...   \n",
       "\n",
       "                                          OpenSource          Employment  \\\n",
       "0  The quality of OSS and closed source software ...  Employed full-time   \n",
       "1  The quality of OSS and closed source software ...  Employed full-time   \n",
       "2  OSS is, on average, of HIGHER quality than pro...  Employed full-time   \n",
       "3  The quality of OSS and closed source software ...  Employed full-time   \n",
       "4  The quality of OSS and closed source software ...  Employed full-time   \n",
       "\n",
       "          Country Student                                            EdLevel  \\\n",
       "0   United States      No           Bachelor’s degree (BA, BS, B.Eng., etc.)   \n",
       "1     New Zealand      No  Some college/university study without earning ...   \n",
       "2   United States      No        Master’s degree (MA, MS, M.Eng., MBA, etc.)   \n",
       "3  United Kingdom      No        Master’s degree (MA, MS, M.Eng., MBA, etc.)   \n",
       "4       Australia      No           Bachelor’s degree (BA, BS, B.Eng., etc.)   \n",
       "\n",
       "                                      UndergradMajor  ...  \\\n",
       "0  Computer science, computer engineering, or sof...  ...   \n",
       "1  Computer science, computer engineering, or sof...  ...   \n",
       "2  Computer science, computer engineering, or sof...  ...   \n",
       "3                                                NaN  ...   \n",
       "4  Computer science, computer engineering, or sof...  ...   \n",
       "\n",
       "                              WelcomeChange  \\\n",
       "0   Just as welcome now as I felt last year   \n",
       "1   Just as welcome now as I felt last year   \n",
       "2  Somewhat more welcome now than last year   \n",
       "3   Just as welcome now as I felt last year   \n",
       "4   Just as welcome now as I felt last year   \n",
       "\n",
       "                                        SONewContent   Age Gender Trans  \\\n",
       "0  Tech articles written by other developers;Indu...  22.0    Man    No   \n",
       "1                                                NaN  23.0    Man    No   \n",
       "2  Tech articles written by other developers;Cour...  28.0    Man    No   \n",
       "3  Tech articles written by other developers;Indu...  26.0    Man    No   \n",
       "4  Tech articles written by other developers;Indu...  29.0    Man    No   \n",
       "\n",
       "                 Sexuality                              Ethnicity Dependents  \\\n",
       "0  Straight / Heterosexual           White or of European descent         No   \n",
       "1                 Bisexual           White or of European descent         No   \n",
       "2  Straight / Heterosexual           White or of European descent        Yes   \n",
       "3  Straight / Heterosexual           White or of European descent         No   \n",
       "4  Straight / Heterosexual  Hispanic or Latino/Latina;Multiracial         No   \n",
       "\n",
       "            SurveyLength                  SurveyEase  \n",
       "0  Appropriate in length                        Easy  \n",
       "1  Appropriate in length  Neither easy nor difficult  \n",
       "2  Appropriate in length                        Easy  \n",
       "3  Appropriate in length  Neither easy nor difficult  \n",
       "4  Appropriate in length                        Easy  \n",
       "\n",
       "[5 rows x 85 columns]"
      ]
     },
     "execution_count": 4,
     "metadata": {},
     "output_type": "execute_result"
    }
   ],
   "source": [
    "df.head()"
   ]
  },
  {
   "cell_type": "markdown",
   "metadata": {},
   "source": [
    "## Finding duplicates\n"
   ]
  },
  {
   "cell_type": "markdown",
   "metadata": {},
   "source": [
    "In this section you will identify duplicate values in the dataset.\n"
   ]
  },
  {
   "cell_type": "markdown",
   "metadata": {},
   "source": [
    " Find how many duplicate rows exist in the dataframe.\n"
   ]
  },
  {
   "cell_type": "code",
   "execution_count": 5,
   "metadata": {},
   "outputs": [
    {
     "name": "stdout",
     "output_type": "stream",
     "text": [
      "Number of duplicate rows: 154\n",
      "First few duplicate rows:\n"
     ]
    },
    {
     "data": {
      "text/html": [
       "<div>\n",
       "<style scoped>\n",
       "    .dataframe tbody tr th:only-of-type {\n",
       "        vertical-align: middle;\n",
       "    }\n",
       "\n",
       "    .dataframe tbody tr th {\n",
       "        vertical-align: top;\n",
       "    }\n",
       "\n",
       "    .dataframe thead th {\n",
       "        text-align: right;\n",
       "    }\n",
       "</style>\n",
       "<table border=\"1\" class=\"dataframe\">\n",
       "  <thead>\n",
       "    <tr style=\"text-align: right;\">\n",
       "      <th></th>\n",
       "      <th>Respondent</th>\n",
       "      <th>MainBranch</th>\n",
       "      <th>Hobbyist</th>\n",
       "      <th>OpenSourcer</th>\n",
       "      <th>OpenSource</th>\n",
       "      <th>Employment</th>\n",
       "      <th>Country</th>\n",
       "      <th>Student</th>\n",
       "      <th>EdLevel</th>\n",
       "      <th>UndergradMajor</th>\n",
       "      <th>...</th>\n",
       "      <th>WelcomeChange</th>\n",
       "      <th>SONewContent</th>\n",
       "      <th>Age</th>\n",
       "      <th>Gender</th>\n",
       "      <th>Trans</th>\n",
       "      <th>Sexuality</th>\n",
       "      <th>Ethnicity</th>\n",
       "      <th>Dependents</th>\n",
       "      <th>SurveyLength</th>\n",
       "      <th>SurveyEase</th>\n",
       "    </tr>\n",
       "  </thead>\n",
       "  <tbody>\n",
       "    <tr>\n",
       "      <th>1168</th>\n",
       "      <td>2339</td>\n",
       "      <td>I am a developer by profession</td>\n",
       "      <td>Yes</td>\n",
       "      <td>Once a month or more often</td>\n",
       "      <td>OSS is, on average, of HIGHER quality than pro...</td>\n",
       "      <td>Employed full-time</td>\n",
       "      <td>United States</td>\n",
       "      <td>No</td>\n",
       "      <td>Some college/university study without earning ...</td>\n",
       "      <td>Computer science, computer engineering, or sof...</td>\n",
       "      <td>...</td>\n",
       "      <td>Just as welcome now as I felt last year</td>\n",
       "      <td>NaN</td>\n",
       "      <td>24.0</td>\n",
       "      <td>Man</td>\n",
       "      <td>No</td>\n",
       "      <td>Straight / Heterosexual</td>\n",
       "      <td>White or of European descent</td>\n",
       "      <td>No</td>\n",
       "      <td>Appropriate in length</td>\n",
       "      <td>Easy</td>\n",
       "    </tr>\n",
       "    <tr>\n",
       "      <th>1169</th>\n",
       "      <td>2342</td>\n",
       "      <td>I am a developer by profession</td>\n",
       "      <td>Yes</td>\n",
       "      <td>Never</td>\n",
       "      <td>The quality of OSS and closed source software ...</td>\n",
       "      <td>Employed full-time</td>\n",
       "      <td>United Kingdom</td>\n",
       "      <td>No</td>\n",
       "      <td>Some college/university study without earning ...</td>\n",
       "      <td>Information systems, information technology, o...</td>\n",
       "      <td>...</td>\n",
       "      <td>Somewhat more welcome now than last year</td>\n",
       "      <td>Tech meetups or events in your area;Courses on...</td>\n",
       "      <td>24.0</td>\n",
       "      <td>Man</td>\n",
       "      <td>No</td>\n",
       "      <td>Straight / Heterosexual</td>\n",
       "      <td>White or of European descent</td>\n",
       "      <td>No</td>\n",
       "      <td>Too long</td>\n",
       "      <td>Easy</td>\n",
       "    </tr>\n",
       "    <tr>\n",
       "      <th>1170</th>\n",
       "      <td>2343</td>\n",
       "      <td>I am a developer by profession</td>\n",
       "      <td>Yes</td>\n",
       "      <td>Less than once a month but more than once per ...</td>\n",
       "      <td>OSS is, on average, of LOWER quality than prop...</td>\n",
       "      <td>Employed full-time</td>\n",
       "      <td>Canada</td>\n",
       "      <td>No</td>\n",
       "      <td>Master’s degree (MA, MS, M.Eng., MBA, etc.)</td>\n",
       "      <td>Computer science, computer engineering, or sof...</td>\n",
       "      <td>...</td>\n",
       "      <td>Somewhat more welcome now than last year</td>\n",
       "      <td>Tech articles written by other developers;Indu...</td>\n",
       "      <td>27.0</td>\n",
       "      <td>Man</td>\n",
       "      <td>No</td>\n",
       "      <td>Straight / Heterosexual</td>\n",
       "      <td>Black or of African descent;White or of Europe...</td>\n",
       "      <td>No</td>\n",
       "      <td>Appropriate in length</td>\n",
       "      <td>Neither easy nor difficult</td>\n",
       "    </tr>\n",
       "    <tr>\n",
       "      <th>1171</th>\n",
       "      <td>2344</td>\n",
       "      <td>I am a developer by profession</td>\n",
       "      <td>Yes</td>\n",
       "      <td>Never</td>\n",
       "      <td>The quality of OSS and closed source software ...</td>\n",
       "      <td>Employed full-time</td>\n",
       "      <td>United States</td>\n",
       "      <td>No</td>\n",
       "      <td>Bachelor’s degree (BA, BS, B.Eng., etc.)</td>\n",
       "      <td>Computer science, computer engineering, or sof...</td>\n",
       "      <td>...</td>\n",
       "      <td>Just as welcome now as I felt last year</td>\n",
       "      <td>Tech articles written by other developers;Indu...</td>\n",
       "      <td>24.0</td>\n",
       "      <td>Man</td>\n",
       "      <td>No</td>\n",
       "      <td>Straight / Heterosexual</td>\n",
       "      <td>White or of European descent</td>\n",
       "      <td>No</td>\n",
       "      <td>Appropriate in length</td>\n",
       "      <td>Easy</td>\n",
       "    </tr>\n",
       "    <tr>\n",
       "      <th>1172</th>\n",
       "      <td>2347</td>\n",
       "      <td>I am a developer by profession</td>\n",
       "      <td>Yes</td>\n",
       "      <td>Never</td>\n",
       "      <td>OSS is, on average, of HIGHER quality than pro...</td>\n",
       "      <td>Employed full-time</td>\n",
       "      <td>United Kingdom</td>\n",
       "      <td>No</td>\n",
       "      <td>Master’s degree (MA, MS, M.Eng., MBA, etc.)</td>\n",
       "      <td>Computer science, computer engineering, or sof...</td>\n",
       "      <td>...</td>\n",
       "      <td>Just as welcome now as I felt last year</td>\n",
       "      <td>NaN</td>\n",
       "      <td>NaN</td>\n",
       "      <td>Woman</td>\n",
       "      <td>No</td>\n",
       "      <td>Straight / Heterosexual</td>\n",
       "      <td>Biracial</td>\n",
       "      <td>No</td>\n",
       "      <td>Too long</td>\n",
       "      <td>Easy</td>\n",
       "    </tr>\n",
       "  </tbody>\n",
       "</table>\n",
       "<p>5 rows × 85 columns</p>\n",
       "</div>"
      ],
      "text/plain": [
       "      Respondent                      MainBranch Hobbyist  \\\n",
       "1168        2339  I am a developer by profession      Yes   \n",
       "1169        2342  I am a developer by profession      Yes   \n",
       "1170        2343  I am a developer by profession      Yes   \n",
       "1171        2344  I am a developer by profession      Yes   \n",
       "1172        2347  I am a developer by profession      Yes   \n",
       "\n",
       "                                            OpenSourcer  \\\n",
       "1168                         Once a month or more often   \n",
       "1169                                              Never   \n",
       "1170  Less than once a month but more than once per ...   \n",
       "1171                                              Never   \n",
       "1172                                              Never   \n",
       "\n",
       "                                             OpenSource          Employment  \\\n",
       "1168  OSS is, on average, of HIGHER quality than pro...  Employed full-time   \n",
       "1169  The quality of OSS and closed source software ...  Employed full-time   \n",
       "1170  OSS is, on average, of LOWER quality than prop...  Employed full-time   \n",
       "1171  The quality of OSS and closed source software ...  Employed full-time   \n",
       "1172  OSS is, on average, of HIGHER quality than pro...  Employed full-time   \n",
       "\n",
       "             Country Student  \\\n",
       "1168   United States      No   \n",
       "1169  United Kingdom      No   \n",
       "1170          Canada      No   \n",
       "1171   United States      No   \n",
       "1172  United Kingdom      No   \n",
       "\n",
       "                                                EdLevel  \\\n",
       "1168  Some college/university study without earning ...   \n",
       "1169  Some college/university study without earning ...   \n",
       "1170        Master’s degree (MA, MS, M.Eng., MBA, etc.)   \n",
       "1171           Bachelor’s degree (BA, BS, B.Eng., etc.)   \n",
       "1172        Master’s degree (MA, MS, M.Eng., MBA, etc.)   \n",
       "\n",
       "                                         UndergradMajor  ...  \\\n",
       "1168  Computer science, computer engineering, or sof...  ...   \n",
       "1169  Information systems, information technology, o...  ...   \n",
       "1170  Computer science, computer engineering, or sof...  ...   \n",
       "1171  Computer science, computer engineering, or sof...  ...   \n",
       "1172  Computer science, computer engineering, or sof...  ...   \n",
       "\n",
       "                                 WelcomeChange  \\\n",
       "1168   Just as welcome now as I felt last year   \n",
       "1169  Somewhat more welcome now than last year   \n",
       "1170  Somewhat more welcome now than last year   \n",
       "1171   Just as welcome now as I felt last year   \n",
       "1172   Just as welcome now as I felt last year   \n",
       "\n",
       "                                           SONewContent   Age Gender Trans  \\\n",
       "1168                                                NaN  24.0    Man    No   \n",
       "1169  Tech meetups or events in your area;Courses on...  24.0    Man    No   \n",
       "1170  Tech articles written by other developers;Indu...  27.0    Man    No   \n",
       "1171  Tech articles written by other developers;Indu...  24.0    Man    No   \n",
       "1172                                                NaN   NaN  Woman    No   \n",
       "\n",
       "                    Sexuality  \\\n",
       "1168  Straight / Heterosexual   \n",
       "1169  Straight / Heterosexual   \n",
       "1170  Straight / Heterosexual   \n",
       "1171  Straight / Heterosexual   \n",
       "1172  Straight / Heterosexual   \n",
       "\n",
       "                                              Ethnicity Dependents  \\\n",
       "1168                       White or of European descent         No   \n",
       "1169                       White or of European descent         No   \n",
       "1170  Black or of African descent;White or of Europe...         No   \n",
       "1171                       White or of European descent         No   \n",
       "1172                                           Biracial         No   \n",
       "\n",
       "               SurveyLength                  SurveyEase  \n",
       "1168  Appropriate in length                        Easy  \n",
       "1169               Too long                        Easy  \n",
       "1170  Appropriate in length  Neither easy nor difficult  \n",
       "1171  Appropriate in length                        Easy  \n",
       "1172               Too long                        Easy  \n",
       "\n",
       "[5 rows x 85 columns]"
      ]
     },
     "execution_count": 5,
     "metadata": {},
     "output_type": "execute_result"
    }
   ],
   "source": [
    "# Count the number of duplicate rows in the DataFrame\n",
    "duplicate_count = df.duplicated().sum()\n",
    "print(f\"Number of duplicate rows: {duplicate_count}\")\n",
    "\n",
    "# Display the first few duplicate rows to understand their structure\n",
    "duplicate_rows = df[df.duplicated()]\n",
    "print(\"First few duplicate rows:\")\n",
    "duplicate_rows.head()"
   ]
  },
  {
   "cell_type": "code",
   "execution_count": 6,
   "metadata": {},
   "outputs": [
    {
     "name": "stdout",
     "output_type": "stream",
     "text": [
      "Number of duplicate rows: 154\n",
      "First few duplicate rows:\n"
     ]
    },
    {
     "data": {
      "text/html": [
       "<div>\n",
       "<style scoped>\n",
       "    .dataframe tbody tr th:only-of-type {\n",
       "        vertical-align: middle;\n",
       "    }\n",
       "\n",
       "    .dataframe tbody tr th {\n",
       "        vertical-align: top;\n",
       "    }\n",
       "\n",
       "    .dataframe thead th {\n",
       "        text-align: right;\n",
       "    }\n",
       "</style>\n",
       "<table border=\"1\" class=\"dataframe\">\n",
       "  <thead>\n",
       "    <tr style=\"text-align: right;\">\n",
       "      <th></th>\n",
       "      <th>Respondent</th>\n",
       "      <th>MainBranch</th>\n",
       "      <th>Hobbyist</th>\n",
       "      <th>OpenSourcer</th>\n",
       "      <th>OpenSource</th>\n",
       "      <th>Employment</th>\n",
       "      <th>Country</th>\n",
       "      <th>Student</th>\n",
       "      <th>EdLevel</th>\n",
       "      <th>UndergradMajor</th>\n",
       "      <th>...</th>\n",
       "      <th>WelcomeChange</th>\n",
       "      <th>SONewContent</th>\n",
       "      <th>Age</th>\n",
       "      <th>Gender</th>\n",
       "      <th>Trans</th>\n",
       "      <th>Sexuality</th>\n",
       "      <th>Ethnicity</th>\n",
       "      <th>Dependents</th>\n",
       "      <th>SurveyLength</th>\n",
       "      <th>SurveyEase</th>\n",
       "    </tr>\n",
       "  </thead>\n",
       "  <tbody>\n",
       "    <tr>\n",
       "      <th>1168</th>\n",
       "      <td>2339</td>\n",
       "      <td>I am a developer by profession</td>\n",
       "      <td>Yes</td>\n",
       "      <td>Once a month or more often</td>\n",
       "      <td>OSS is, on average, of HIGHER quality than pro...</td>\n",
       "      <td>Employed full-time</td>\n",
       "      <td>United States</td>\n",
       "      <td>No</td>\n",
       "      <td>Some college/university study without earning ...</td>\n",
       "      <td>Computer science, computer engineering, or sof...</td>\n",
       "      <td>...</td>\n",
       "      <td>Just as welcome now as I felt last year</td>\n",
       "      <td>NaN</td>\n",
       "      <td>24.0</td>\n",
       "      <td>Man</td>\n",
       "      <td>No</td>\n",
       "      <td>Straight / Heterosexual</td>\n",
       "      <td>White or of European descent</td>\n",
       "      <td>No</td>\n",
       "      <td>Appropriate in length</td>\n",
       "      <td>Easy</td>\n",
       "    </tr>\n",
       "    <tr>\n",
       "      <th>1169</th>\n",
       "      <td>2342</td>\n",
       "      <td>I am a developer by profession</td>\n",
       "      <td>Yes</td>\n",
       "      <td>Never</td>\n",
       "      <td>The quality of OSS and closed source software ...</td>\n",
       "      <td>Employed full-time</td>\n",
       "      <td>United Kingdom</td>\n",
       "      <td>No</td>\n",
       "      <td>Some college/university study without earning ...</td>\n",
       "      <td>Information systems, information technology, o...</td>\n",
       "      <td>...</td>\n",
       "      <td>Somewhat more welcome now than last year</td>\n",
       "      <td>Tech meetups or events in your area;Courses on...</td>\n",
       "      <td>24.0</td>\n",
       "      <td>Man</td>\n",
       "      <td>No</td>\n",
       "      <td>Straight / Heterosexual</td>\n",
       "      <td>White or of European descent</td>\n",
       "      <td>No</td>\n",
       "      <td>Too long</td>\n",
       "      <td>Easy</td>\n",
       "    </tr>\n",
       "    <tr>\n",
       "      <th>1170</th>\n",
       "      <td>2343</td>\n",
       "      <td>I am a developer by profession</td>\n",
       "      <td>Yes</td>\n",
       "      <td>Less than once a month but more than once per ...</td>\n",
       "      <td>OSS is, on average, of LOWER quality than prop...</td>\n",
       "      <td>Employed full-time</td>\n",
       "      <td>Canada</td>\n",
       "      <td>No</td>\n",
       "      <td>Master’s degree (MA, MS, M.Eng., MBA, etc.)</td>\n",
       "      <td>Computer science, computer engineering, or sof...</td>\n",
       "      <td>...</td>\n",
       "      <td>Somewhat more welcome now than last year</td>\n",
       "      <td>Tech articles written by other developers;Indu...</td>\n",
       "      <td>27.0</td>\n",
       "      <td>Man</td>\n",
       "      <td>No</td>\n",
       "      <td>Straight / Heterosexual</td>\n",
       "      <td>Black or of African descent;White or of Europe...</td>\n",
       "      <td>No</td>\n",
       "      <td>Appropriate in length</td>\n",
       "      <td>Neither easy nor difficult</td>\n",
       "    </tr>\n",
       "    <tr>\n",
       "      <th>1171</th>\n",
       "      <td>2344</td>\n",
       "      <td>I am a developer by profession</td>\n",
       "      <td>Yes</td>\n",
       "      <td>Never</td>\n",
       "      <td>The quality of OSS and closed source software ...</td>\n",
       "      <td>Employed full-time</td>\n",
       "      <td>United States</td>\n",
       "      <td>No</td>\n",
       "      <td>Bachelor’s degree (BA, BS, B.Eng., etc.)</td>\n",
       "      <td>Computer science, computer engineering, or sof...</td>\n",
       "      <td>...</td>\n",
       "      <td>Just as welcome now as I felt last year</td>\n",
       "      <td>Tech articles written by other developers;Indu...</td>\n",
       "      <td>24.0</td>\n",
       "      <td>Man</td>\n",
       "      <td>No</td>\n",
       "      <td>Straight / Heterosexual</td>\n",
       "      <td>White or of European descent</td>\n",
       "      <td>No</td>\n",
       "      <td>Appropriate in length</td>\n",
       "      <td>Easy</td>\n",
       "    </tr>\n",
       "    <tr>\n",
       "      <th>1172</th>\n",
       "      <td>2347</td>\n",
       "      <td>I am a developer by profession</td>\n",
       "      <td>Yes</td>\n",
       "      <td>Never</td>\n",
       "      <td>OSS is, on average, of HIGHER quality than pro...</td>\n",
       "      <td>Employed full-time</td>\n",
       "      <td>United Kingdom</td>\n",
       "      <td>No</td>\n",
       "      <td>Master’s degree (MA, MS, M.Eng., MBA, etc.)</td>\n",
       "      <td>Computer science, computer engineering, or sof...</td>\n",
       "      <td>...</td>\n",
       "      <td>Just as welcome now as I felt last year</td>\n",
       "      <td>NaN</td>\n",
       "      <td>NaN</td>\n",
       "      <td>Woman</td>\n",
       "      <td>No</td>\n",
       "      <td>Straight / Heterosexual</td>\n",
       "      <td>Biracial</td>\n",
       "      <td>No</td>\n",
       "      <td>Too long</td>\n",
       "      <td>Easy</td>\n",
       "    </tr>\n",
       "  </tbody>\n",
       "</table>\n",
       "<p>5 rows × 85 columns</p>\n",
       "</div>"
      ],
      "text/plain": [
       "      Respondent                      MainBranch Hobbyist  \\\n",
       "1168        2339  I am a developer by profession      Yes   \n",
       "1169        2342  I am a developer by profession      Yes   \n",
       "1170        2343  I am a developer by profession      Yes   \n",
       "1171        2344  I am a developer by profession      Yes   \n",
       "1172        2347  I am a developer by profession      Yes   \n",
       "\n",
       "                                            OpenSourcer  \\\n",
       "1168                         Once a month or more often   \n",
       "1169                                              Never   \n",
       "1170  Less than once a month but more than once per ...   \n",
       "1171                                              Never   \n",
       "1172                                              Never   \n",
       "\n",
       "                                             OpenSource          Employment  \\\n",
       "1168  OSS is, on average, of HIGHER quality than pro...  Employed full-time   \n",
       "1169  The quality of OSS and closed source software ...  Employed full-time   \n",
       "1170  OSS is, on average, of LOWER quality than prop...  Employed full-time   \n",
       "1171  The quality of OSS and closed source software ...  Employed full-time   \n",
       "1172  OSS is, on average, of HIGHER quality than pro...  Employed full-time   \n",
       "\n",
       "             Country Student  \\\n",
       "1168   United States      No   \n",
       "1169  United Kingdom      No   \n",
       "1170          Canada      No   \n",
       "1171   United States      No   \n",
       "1172  United Kingdom      No   \n",
       "\n",
       "                                                EdLevel  \\\n",
       "1168  Some college/university study without earning ...   \n",
       "1169  Some college/university study without earning ...   \n",
       "1170        Master’s degree (MA, MS, M.Eng., MBA, etc.)   \n",
       "1171           Bachelor’s degree (BA, BS, B.Eng., etc.)   \n",
       "1172        Master’s degree (MA, MS, M.Eng., MBA, etc.)   \n",
       "\n",
       "                                         UndergradMajor  ...  \\\n",
       "1168  Computer science, computer engineering, or sof...  ...   \n",
       "1169  Information systems, information technology, o...  ...   \n",
       "1170  Computer science, computer engineering, or sof...  ...   \n",
       "1171  Computer science, computer engineering, or sof...  ...   \n",
       "1172  Computer science, computer engineering, or sof...  ...   \n",
       "\n",
       "                                 WelcomeChange  \\\n",
       "1168   Just as welcome now as I felt last year   \n",
       "1169  Somewhat more welcome now than last year   \n",
       "1170  Somewhat more welcome now than last year   \n",
       "1171   Just as welcome now as I felt last year   \n",
       "1172   Just as welcome now as I felt last year   \n",
       "\n",
       "                                           SONewContent   Age Gender Trans  \\\n",
       "1168                                                NaN  24.0    Man    No   \n",
       "1169  Tech meetups or events in your area;Courses on...  24.0    Man    No   \n",
       "1170  Tech articles written by other developers;Indu...  27.0    Man    No   \n",
       "1171  Tech articles written by other developers;Indu...  24.0    Man    No   \n",
       "1172                                                NaN   NaN  Woman    No   \n",
       "\n",
       "                    Sexuality  \\\n",
       "1168  Straight / Heterosexual   \n",
       "1169  Straight / Heterosexual   \n",
       "1170  Straight / Heterosexual   \n",
       "1171  Straight / Heterosexual   \n",
       "1172  Straight / Heterosexual   \n",
       "\n",
       "                                              Ethnicity Dependents  \\\n",
       "1168                       White or of European descent         No   \n",
       "1169                       White or of European descent         No   \n",
       "1170  Black or of African descent;White or of Europe...         No   \n",
       "1171                       White or of European descent         No   \n",
       "1172                                           Biracial         No   \n",
       "\n",
       "               SurveyLength                  SurveyEase  \n",
       "1168  Appropriate in length                        Easy  \n",
       "1169               Too long                        Easy  \n",
       "1170  Appropriate in length  Neither easy nor difficult  \n",
       "1171  Appropriate in length                        Easy  \n",
       "1172               Too long                        Easy  \n",
       "\n",
       "[5 rows x 85 columns]"
      ]
     },
     "execution_count": 6,
     "metadata": {},
     "output_type": "execute_result"
    }
   ],
   "source": [
    "# Count the number of duplicate rows in the column Respondent\n",
    "duplicate_count = df.Respondent.duplicated().sum()\n",
    "print(f\"Number of duplicate rows: {duplicate_count}\")\n",
    "\n",
    "# Display the first few duplicate rows to understand their structure\n",
    "duplicate_rows = df[df.Respondent.duplicated()]\n",
    "print(\"First few duplicate rows:\")\n",
    "duplicate_rows.head()"
   ]
  },
  {
   "cell_type": "markdown",
   "metadata": {},
   "source": [
    "## Removing duplicates\n"
   ]
  },
  {
   "cell_type": "markdown",
   "metadata": {},
   "source": [
    "Remove the duplicate rows from the dataframe.\n"
   ]
  },
  {
   "cell_type": "code",
   "execution_count": 7,
   "metadata": {},
   "outputs": [
    {
     "name": "stdout",
     "output_type": "stream",
     "text": [
      "Shape of the dataset after removing duplicates: (11398, 85)\n"
     ]
    }
   ],
   "source": [
    "# Remove duplicate rows\n",
    "df_unique = df.drop_duplicates()\n",
    "\n",
    "# Display the shape of the dataset after removal\n",
    "print(f\"Shape of the dataset after removing duplicates: {df_unique.shape}\")"
   ]
  },
  {
   "cell_type": "markdown",
   "metadata": {},
   "source": [
    "Verify if duplicates were actually dropped.\n"
   ]
  },
  {
   "cell_type": "code",
   "execution_count": 8,
   "metadata": {},
   "outputs": [
    {
     "name": "stdout",
     "output_type": "stream",
     "text": [
      "Number of duplicate rows after removal: 0\n"
     ]
    }
   ],
   "source": [
    "# Count duplicates in the new dataset\n",
    "remaining_duplicates = df_unique.duplicated().sum()\n",
    "\n",
    "# Verify and print the result\n",
    "print(f\"Number of duplicate rows after removal: {remaining_duplicates}\")"
   ]
  },
  {
   "cell_type": "code",
   "execution_count": 9,
   "metadata": {},
   "outputs": [
    {
     "data": {
      "text/plain": [
       "(11398,)"
      ]
     },
     "execution_count": 9,
     "metadata": {},
     "output_type": "execute_result"
    }
   ],
   "source": [
    "df_unique.Respondent.unique().shape"
   ]
  },
  {
   "cell_type": "markdown",
   "metadata": {},
   "source": [
    "## Finding Missing values\n"
   ]
  },
  {
   "cell_type": "markdown",
   "metadata": {},
   "source": [
    "Find the missing values for all columns.\n"
   ]
  },
  {
   "cell_type": "code",
   "execution_count": 10,
   "metadata": {},
   "outputs": [
    {
     "data": {
      "text/html": [
       "<div>\n",
       "<style scoped>\n",
       "    .dataframe tbody tr th:only-of-type {\n",
       "        vertical-align: middle;\n",
       "    }\n",
       "\n",
       "    .dataframe tbody tr th {\n",
       "        vertical-align: top;\n",
       "    }\n",
       "\n",
       "    .dataframe thead th {\n",
       "        text-align: right;\n",
       "    }\n",
       "</style>\n",
       "<table border=\"1\" class=\"dataframe\">\n",
       "  <thead>\n",
       "    <tr style=\"text-align: right;\">\n",
       "      <th></th>\n",
       "      <th>Missing Values</th>\n",
       "      <th>Percentage</th>\n",
       "    </tr>\n",
       "  </thead>\n",
       "  <tbody>\n",
       "    <tr>\n",
       "      <th>UndergradMajor</th>\n",
       "      <td>737</td>\n",
       "      <td>6.466047</td>\n",
       "    </tr>\n",
       "    <tr>\n",
       "      <th>MgrMoney</th>\n",
       "      <td>497</td>\n",
       "      <td>4.360414</td>\n",
       "    </tr>\n",
       "    <tr>\n",
       "      <th>MgrIdiot</th>\n",
       "      <td>493</td>\n",
       "      <td>4.325320</td>\n",
       "    </tr>\n",
       "    <tr>\n",
       "      <th>EduOther</th>\n",
       "      <td>164</td>\n",
       "      <td>1.438849</td>\n",
       "    </tr>\n",
       "    <tr>\n",
       "      <th>EdLevel</th>\n",
       "      <td>112</td>\n",
       "      <td>0.982629</td>\n",
       "    </tr>\n",
       "    <tr>\n",
       "      <th>OrgSize</th>\n",
       "      <td>96</td>\n",
       "      <td>0.842253</td>\n",
       "    </tr>\n",
       "    <tr>\n",
       "      <th>OpenSource</th>\n",
       "      <td>81</td>\n",
       "      <td>0.710651</td>\n",
       "    </tr>\n",
       "    <tr>\n",
       "      <th>DevType</th>\n",
       "      <td>65</td>\n",
       "      <td>0.570275</td>\n",
       "    </tr>\n",
       "    <tr>\n",
       "      <th>Student</th>\n",
       "      <td>51</td>\n",
       "      <td>0.447447</td>\n",
       "    </tr>\n",
       "    <tr>\n",
       "      <th>YearsCodePro</th>\n",
       "      <td>16</td>\n",
       "      <td>0.140376</td>\n",
       "    </tr>\n",
       "    <tr>\n",
       "      <th>Age1stCode</th>\n",
       "      <td>13</td>\n",
       "      <td>0.114055</td>\n",
       "    </tr>\n",
       "    <tr>\n",
       "      <th>YearsCode</th>\n",
       "      <td>9</td>\n",
       "      <td>0.078961</td>\n",
       "    </tr>\n",
       "    <tr>\n",
       "      <th>JobSat</th>\n",
       "      <td>1</td>\n",
       "      <td>0.008773</td>\n",
       "    </tr>\n",
       "    <tr>\n",
       "      <th>Hobbyist</th>\n",
       "      <td>0</td>\n",
       "      <td>0.000000</td>\n",
       "    </tr>\n",
       "    <tr>\n",
       "      <th>MainBranch</th>\n",
       "      <td>0</td>\n",
       "      <td>0.000000</td>\n",
       "    </tr>\n",
       "    <tr>\n",
       "      <th>Respondent</th>\n",
       "      <td>0</td>\n",
       "      <td>0.000000</td>\n",
       "    </tr>\n",
       "    <tr>\n",
       "      <th>OpenSourcer</th>\n",
       "      <td>0</td>\n",
       "      <td>0.000000</td>\n",
       "    </tr>\n",
       "    <tr>\n",
       "      <th>Country</th>\n",
       "      <td>0</td>\n",
       "      <td>0.000000</td>\n",
       "    </tr>\n",
       "    <tr>\n",
       "      <th>Employment</th>\n",
       "      <td>0</td>\n",
       "      <td>0.000000</td>\n",
       "    </tr>\n",
       "    <tr>\n",
       "      <th>CareerSat</th>\n",
       "      <td>0</td>\n",
       "      <td>0.000000</td>\n",
       "    </tr>\n",
       "  </tbody>\n",
       "</table>\n",
       "</div>"
      ],
      "text/plain": [
       "                Missing Values  Percentage\n",
       "UndergradMajor             737    6.466047\n",
       "MgrMoney                   497    4.360414\n",
       "MgrIdiot                   493    4.325320\n",
       "EduOther                   164    1.438849\n",
       "EdLevel                    112    0.982629\n",
       "OrgSize                     96    0.842253\n",
       "OpenSource                  81    0.710651\n",
       "DevType                     65    0.570275\n",
       "Student                     51    0.447447\n",
       "YearsCodePro                16    0.140376\n",
       "Age1stCode                  13    0.114055\n",
       "YearsCode                    9    0.078961\n",
       "JobSat                       1    0.008773\n",
       "Hobbyist                     0    0.000000\n",
       "MainBranch                   0    0.000000\n",
       "Respondent                   0    0.000000\n",
       "OpenSourcer                  0    0.000000\n",
       "Country                      0    0.000000\n",
       "Employment                   0    0.000000\n",
       "CareerSat                    0    0.000000"
      ]
     },
     "execution_count": 10,
     "metadata": {},
     "output_type": "execute_result"
    }
   ],
   "source": [
    "df_1 = df_unique.iloc[:, list(range(0, 20))]\n",
    "# Count missing values in each column\n",
    "missing_values = df_1.isnull().sum()\n",
    "\n",
    "# Calculate percentage of missing values\n",
    "missing_percentage = (missing_values / len(df_1)) * 100\n",
    "\n",
    "# Create a summary table\n",
    "missing_summary = pd.DataFrame({\n",
    "    'Missing Values': missing_values,\n",
    "    'Percentage': missing_percentage\n",
    "}).sort_values(by='Missing Values', ascending=False)\n",
    "\n",
    "# Display the summary\n",
    "missing_summary"
   ]
  },
  {
   "cell_type": "code",
   "execution_count": 11,
   "metadata": {},
   "outputs": [
    {
     "data": {
      "text/html": [
       "<div>\n",
       "<style scoped>\n",
       "    .dataframe tbody tr th:only-of-type {\n",
       "        vertical-align: middle;\n",
       "    }\n",
       "\n",
       "    .dataframe tbody tr th {\n",
       "        vertical-align: top;\n",
       "    }\n",
       "\n",
       "    .dataframe thead th {\n",
       "        text-align: right;\n",
       "    }\n",
       "</style>\n",
       "<table border=\"1\" class=\"dataframe\">\n",
       "  <thead>\n",
       "    <tr style=\"text-align: right;\">\n",
       "      <th></th>\n",
       "      <th>Missing Values</th>\n",
       "      <th>Percentage</th>\n",
       "    </tr>\n",
       "  </thead>\n",
       "  <tbody>\n",
       "    <tr>\n",
       "      <th>CodeRevHrs</th>\n",
       "      <td>2426</td>\n",
       "      <td>21.284436</td>\n",
       "    </tr>\n",
       "    <tr>\n",
       "      <th>ConvertedComp</th>\n",
       "      <td>816</td>\n",
       "      <td>7.159151</td>\n",
       "    </tr>\n",
       "    <tr>\n",
       "      <th>CompTotal</th>\n",
       "      <td>809</td>\n",
       "      <td>7.097736</td>\n",
       "    </tr>\n",
       "    <tr>\n",
       "      <th>LastInt</th>\n",
       "      <td>413</td>\n",
       "      <td>3.623443</td>\n",
       "    </tr>\n",
       "    <tr>\n",
       "      <th>CompFreq</th>\n",
       "      <td>206</td>\n",
       "      <td>1.807335</td>\n",
       "    </tr>\n",
       "    <tr>\n",
       "      <th>WorkChallenge</th>\n",
       "      <td>164</td>\n",
       "      <td>1.438849</td>\n",
       "    </tr>\n",
       "    <tr>\n",
       "      <th>WorkWeekHrs</th>\n",
       "      <td>122</td>\n",
       "      <td>1.070363</td>\n",
       "    </tr>\n",
       "    <tr>\n",
       "      <th>WorkPlan</th>\n",
       "      <td>121</td>\n",
       "      <td>1.061590</td>\n",
       "    </tr>\n",
       "    <tr>\n",
       "      <th>ResumeUpdate</th>\n",
       "      <td>39</td>\n",
       "      <td>0.342165</td>\n",
       "    </tr>\n",
       "    <tr>\n",
       "      <th>FizzBuzz</th>\n",
       "      <td>37</td>\n",
       "      <td>0.324618</td>\n",
       "    </tr>\n",
       "    <tr>\n",
       "      <th>WorkLoc</th>\n",
       "      <td>32</td>\n",
       "      <td>0.280751</td>\n",
       "    </tr>\n",
       "    <tr>\n",
       "      <th>WorkRemote</th>\n",
       "      <td>8</td>\n",
       "      <td>0.070188</td>\n",
       "    </tr>\n",
       "    <tr>\n",
       "      <th>ImpSyn</th>\n",
       "      <td>5</td>\n",
       "      <td>0.043867</td>\n",
       "    </tr>\n",
       "    <tr>\n",
       "      <th>JobFactors</th>\n",
       "      <td>3</td>\n",
       "      <td>0.026320</td>\n",
       "    </tr>\n",
       "    <tr>\n",
       "      <th>CodeRev</th>\n",
       "      <td>1</td>\n",
       "      <td>0.008773</td>\n",
       "    </tr>\n",
       "    <tr>\n",
       "      <th>LastHireDate</th>\n",
       "      <td>0</td>\n",
       "      <td>0.000000</td>\n",
       "    </tr>\n",
       "    <tr>\n",
       "      <th>JobSeek</th>\n",
       "      <td>0</td>\n",
       "      <td>0.000000</td>\n",
       "    </tr>\n",
       "    <tr>\n",
       "      <th>CurrencyDesc</th>\n",
       "      <td>0</td>\n",
       "      <td>0.000000</td>\n",
       "    </tr>\n",
       "    <tr>\n",
       "      <th>CurrencySymbol</th>\n",
       "      <td>0</td>\n",
       "      <td>0.000000</td>\n",
       "    </tr>\n",
       "  </tbody>\n",
       "</table>\n",
       "</div>"
      ],
      "text/plain": [
       "                Missing Values  Percentage\n",
       "CodeRevHrs                2426   21.284436\n",
       "ConvertedComp              816    7.159151\n",
       "CompTotal                  809    7.097736\n",
       "LastInt                    413    3.623443\n",
       "CompFreq                   206    1.807335\n",
       "WorkChallenge              164    1.438849\n",
       "WorkWeekHrs                122    1.070363\n",
       "WorkPlan                   121    1.061590\n",
       "ResumeUpdate                39    0.342165\n",
       "FizzBuzz                    37    0.324618\n",
       "WorkLoc                     32    0.280751\n",
       "WorkRemote                   8    0.070188\n",
       "ImpSyn                       5    0.043867\n",
       "JobFactors                   3    0.026320\n",
       "CodeRev                      1    0.008773\n",
       "LastHireDate                 0    0.000000\n",
       "JobSeek                      0    0.000000\n",
       "CurrencyDesc                 0    0.000000\n",
       "CurrencySymbol               0    0.000000"
      ]
     },
     "execution_count": 11,
     "metadata": {},
     "output_type": "execute_result"
    }
   ],
   "source": [
    "df_2 = df_unique.iloc[:, list(range(21, 40))]\n",
    "# Count missing values in each column\n",
    "missing_values = df_2.isnull().sum()\n",
    "\n",
    "# Calculate percentage of missing values\n",
    "missing_percentage = (missing_values / len(df_2)) * 100\n",
    "\n",
    "# Create a summary table\n",
    "missing_summary = pd.DataFrame({\n",
    "    'Missing Values': missing_values,\n",
    "    'Percentage': missing_percentage\n",
    "}).sort_values(by='Missing Values', ascending=False)\n",
    "\n",
    "# Display the summary\n",
    "missing_summary"
   ]
  },
  {
   "cell_type": "code",
   "execution_count": 12,
   "metadata": {},
   "outputs": [
    {
     "data": {
      "text/html": [
       "<div>\n",
       "<style scoped>\n",
       "    .dataframe tbody tr th:only-of-type {\n",
       "        vertical-align: middle;\n",
       "    }\n",
       "\n",
       "    .dataframe tbody tr th {\n",
       "        vertical-align: top;\n",
       "    }\n",
       "\n",
       "    .dataframe thead th {\n",
       "        text-align: right;\n",
       "    }\n",
       "</style>\n",
       "<table border=\"1\" class=\"dataframe\">\n",
       "  <thead>\n",
       "    <tr style=\"text-align: right;\">\n",
       "      <th></th>\n",
       "      <th>Missing Values</th>\n",
       "      <th>Percentage</th>\n",
       "    </tr>\n",
       "  </thead>\n",
       "  <tbody>\n",
       "    <tr>\n",
       "      <th>BlockchainIs</th>\n",
       "      <td>2610</td>\n",
       "      <td>22.898754</td>\n",
       "    </tr>\n",
       "    <tr>\n",
       "      <th>BlockchainOrg</th>\n",
       "      <td>2322</td>\n",
       "      <td>20.371995</td>\n",
       "    </tr>\n",
       "    <tr>\n",
       "      <th>MiscTechWorkedWith</th>\n",
       "      <td>2182</td>\n",
       "      <td>19.143709</td>\n",
       "    </tr>\n",
       "    <tr>\n",
       "      <th>WebFrameDesireNextYear</th>\n",
       "      <td>1617</td>\n",
       "      <td>14.186699</td>\n",
       "    </tr>\n",
       "    <tr>\n",
       "      <th>MiscTechDesireNextYear</th>\n",
       "      <td>1455</td>\n",
       "      <td>12.765397</td>\n",
       "    </tr>\n",
       "    <tr>\n",
       "      <th>WebFrameWorkedWith</th>\n",
       "      <td>1393</td>\n",
       "      <td>12.221442</td>\n",
       "    </tr>\n",
       "    <tr>\n",
       "      <th>DatabaseDesireNextYear</th>\n",
       "      <td>1042</td>\n",
       "      <td>9.141955</td>\n",
       "    </tr>\n",
       "    <tr>\n",
       "      <th>PlatformDesireNextYear</th>\n",
       "      <td>544</td>\n",
       "      <td>4.772767</td>\n",
       "    </tr>\n",
       "    <tr>\n",
       "      <th>DatabaseWorkedWith</th>\n",
       "      <td>453</td>\n",
       "      <td>3.974381</td>\n",
       "    </tr>\n",
       "    <tr>\n",
       "      <th>PlatformWorkedWith</th>\n",
       "      <td>411</td>\n",
       "      <td>3.605896</td>\n",
       "    </tr>\n",
       "    <tr>\n",
       "      <th>PurchaseHow</th>\n",
       "      <td>196</td>\n",
       "      <td>1.719600</td>\n",
       "    </tr>\n",
       "    <tr>\n",
       "      <th>LanguageDesireNextYear</th>\n",
       "      <td>134</td>\n",
       "      <td>1.175645</td>\n",
       "    </tr>\n",
       "    <tr>\n",
       "      <th>BetterLife</th>\n",
       "      <td>98</td>\n",
       "      <td>0.859800</td>\n",
       "    </tr>\n",
       "    <tr>\n",
       "      <th>Containers</th>\n",
       "      <td>82</td>\n",
       "      <td>0.719424</td>\n",
       "    </tr>\n",
       "    <tr>\n",
       "      <th>PurchaseWhat</th>\n",
       "      <td>38</td>\n",
       "      <td>0.333392</td>\n",
       "    </tr>\n",
       "    <tr>\n",
       "      <th>ITperson</th>\n",
       "      <td>35</td>\n",
       "      <td>0.307071</td>\n",
       "    </tr>\n",
       "    <tr>\n",
       "      <th>OpSys</th>\n",
       "      <td>34</td>\n",
       "      <td>0.298298</td>\n",
       "    </tr>\n",
       "    <tr>\n",
       "      <th>DevEnviron</th>\n",
       "      <td>29</td>\n",
       "      <td>0.254431</td>\n",
       "    </tr>\n",
       "    <tr>\n",
       "      <th>LanguageWorkedWith</th>\n",
       "      <td>11</td>\n",
       "      <td>0.096508</td>\n",
       "    </tr>\n",
       "  </tbody>\n",
       "</table>\n",
       "</div>"
      ],
      "text/plain": [
       "                        Missing Values  Percentage\n",
       "BlockchainIs                      2610   22.898754\n",
       "BlockchainOrg                     2322   20.371995\n",
       "MiscTechWorkedWith                2182   19.143709\n",
       "WebFrameDesireNextYear            1617   14.186699\n",
       "MiscTechDesireNextYear            1455   12.765397\n",
       "WebFrameWorkedWith                1393   12.221442\n",
       "DatabaseDesireNextYear            1042    9.141955\n",
       "PlatformDesireNextYear             544    4.772767\n",
       "DatabaseWorkedWith                 453    3.974381\n",
       "PlatformWorkedWith                 411    3.605896\n",
       "PurchaseHow                        196    1.719600\n",
       "LanguageDesireNextYear             134    1.175645\n",
       "BetterLife                          98    0.859800\n",
       "Containers                          82    0.719424\n",
       "PurchaseWhat                        38    0.333392\n",
       "ITperson                            35    0.307071\n",
       "OpSys                               34    0.298298\n",
       "DevEnviron                          29    0.254431\n",
       "LanguageWorkedWith                  11    0.096508"
      ]
     },
     "execution_count": 12,
     "metadata": {},
     "output_type": "execute_result"
    }
   ],
   "source": [
    "df_3 = df_unique.iloc[:, list(range(41, 60))]\n",
    "# Count missing values in each column\n",
    "missing_values = df_3.isnull().sum()\n",
    "\n",
    "# Calculate percentage of missing values\n",
    "missing_percentage = (missing_values / len(df_3)) * 100\n",
    "\n",
    "# Create a summary table\n",
    "missing_summary = pd.DataFrame({\n",
    "    'Missing Values': missing_values,\n",
    "    'Percentage': missing_percentage\n",
    "}).sort_values(by='Missing Values', ascending=False)\n",
    "\n",
    "# Display the summary\n",
    "missing_summary"
   ]
  },
  {
   "cell_type": "code",
   "execution_count": 13,
   "metadata": {},
   "outputs": [
    {
     "data": {
      "text/html": [
       "<div>\n",
       "<style scoped>\n",
       "    .dataframe tbody tr th:only-of-type {\n",
       "        vertical-align: middle;\n",
       "    }\n",
       "\n",
       "    .dataframe tbody tr th {\n",
       "        vertical-align: top;\n",
       "    }\n",
       "\n",
       "    .dataframe thead th {\n",
       "        text-align: right;\n",
       "    }\n",
       "</style>\n",
       "<table border=\"1\" class=\"dataframe\">\n",
       "  <thead>\n",
       "    <tr style=\"text-align: right;\">\n",
       "      <th></th>\n",
       "      <th>Missing Values</th>\n",
       "      <th>Percentage</th>\n",
       "    </tr>\n",
       "  </thead>\n",
       "  <tbody>\n",
       "    <tr>\n",
       "      <th>SONewContent</th>\n",
       "      <td>1965</td>\n",
       "      <td>17.239867</td>\n",
       "    </tr>\n",
       "    <tr>\n",
       "      <th>SOHowMuchTime</th>\n",
       "      <td>1917</td>\n",
       "      <td>16.818740</td>\n",
       "    </tr>\n",
       "    <tr>\n",
       "      <th>SOPartFreq</th>\n",
       "      <td>1128</td>\n",
       "      <td>9.896473</td>\n",
       "    </tr>\n",
       "    <tr>\n",
       "      <th>ScreenName</th>\n",
       "      <td>507</td>\n",
       "      <td>4.448149</td>\n",
       "    </tr>\n",
       "    <tr>\n",
       "      <th>SOVisit1st</th>\n",
       "      <td>325</td>\n",
       "      <td>2.851377</td>\n",
       "    </tr>\n",
       "    <tr>\n",
       "      <th>SocialMedia</th>\n",
       "      <td>293</td>\n",
       "      <td>2.570626</td>\n",
       "    </tr>\n",
       "    <tr>\n",
       "      <th>Age</th>\n",
       "      <td>287</td>\n",
       "      <td>2.517986</td>\n",
       "    </tr>\n",
       "    <tr>\n",
       "      <th>Trans</th>\n",
       "      <td>123</td>\n",
       "      <td>1.079137</td>\n",
       "    </tr>\n",
       "    <tr>\n",
       "      <th>WelcomeChange</th>\n",
       "      <td>85</td>\n",
       "      <td>0.745745</td>\n",
       "    </tr>\n",
       "    <tr>\n",
       "      <th>Gender</th>\n",
       "      <td>73</td>\n",
       "      <td>0.640463</td>\n",
       "    </tr>\n",
       "    <tr>\n",
       "      <th>SOTimeSaved</th>\n",
       "      <td>50</td>\n",
       "      <td>0.438673</td>\n",
       "    </tr>\n",
       "    <tr>\n",
       "      <th>Extraversion</th>\n",
       "      <td>20</td>\n",
       "      <td>0.175469</td>\n",
       "    </tr>\n",
       "    <tr>\n",
       "      <th>SOJobs</th>\n",
       "      <td>6</td>\n",
       "      <td>0.052641</td>\n",
       "    </tr>\n",
       "    <tr>\n",
       "      <th>EntTeams</th>\n",
       "      <td>5</td>\n",
       "      <td>0.043867</td>\n",
       "    </tr>\n",
       "    <tr>\n",
       "      <th>SOVisitFreq</th>\n",
       "      <td>5</td>\n",
       "      <td>0.043867</td>\n",
       "    </tr>\n",
       "    <tr>\n",
       "      <th>SOFindAnswer</th>\n",
       "      <td>3</td>\n",
       "      <td>0.026320</td>\n",
       "    </tr>\n",
       "    <tr>\n",
       "      <th>SOVisitTo</th>\n",
       "      <td>1</td>\n",
       "      <td>0.008773</td>\n",
       "    </tr>\n",
       "    <tr>\n",
       "      <th>SOAccount</th>\n",
       "      <td>1</td>\n",
       "      <td>0.008773</td>\n",
       "    </tr>\n",
       "    <tr>\n",
       "      <th>SOComm</th>\n",
       "      <td>0</td>\n",
       "      <td>0.000000</td>\n",
       "    </tr>\n",
       "  </tbody>\n",
       "</table>\n",
       "</div>"
      ],
      "text/plain": [
       "               Missing Values  Percentage\n",
       "SONewContent             1965   17.239867\n",
       "SOHowMuchTime            1917   16.818740\n",
       "SOPartFreq               1128    9.896473\n",
       "ScreenName                507    4.448149\n",
       "SOVisit1st                325    2.851377\n",
       "SocialMedia               293    2.570626\n",
       "Age                       287    2.517986\n",
       "Trans                     123    1.079137\n",
       "WelcomeChange              85    0.745745\n",
       "Gender                     73    0.640463\n",
       "SOTimeSaved                50    0.438673\n",
       "Extraversion               20    0.175469\n",
       "SOJobs                      6    0.052641\n",
       "EntTeams                    5    0.043867\n",
       "SOVisitFreq                 5    0.043867\n",
       "SOFindAnswer                3    0.026320\n",
       "SOVisitTo                   1    0.008773\n",
       "SOAccount                   1    0.008773\n",
       "SOComm                      0    0.000000"
      ]
     },
     "execution_count": 13,
     "metadata": {},
     "output_type": "execute_result"
    }
   ],
   "source": [
    "df_4 = df_unique.iloc[:, list(range(61, 80))]\n",
    "# Count missing values in each column\n",
    "missing_values = df_4.isnull().sum()\n",
    "\n",
    "# Calculate percentage of missing values\n",
    "missing_percentage = (missing_values / len(df_4)) * 100\n",
    "\n",
    "# Create a summary table\n",
    "missing_summary = pd.DataFrame({\n",
    "    'Missing Values': missing_values,\n",
    "    'Percentage': missing_percentage\n",
    "}).sort_values(by='Missing Values', ascending=False)\n",
    "\n",
    "# Display the summary\n",
    "missing_summary"
   ]
  },
  {
   "cell_type": "code",
   "execution_count": 14,
   "metadata": {},
   "outputs": [
    {
     "data": {
      "text/html": [
       "<div>\n",
       "<style scoped>\n",
       "    .dataframe tbody tr th:only-of-type {\n",
       "        vertical-align: middle;\n",
       "    }\n",
       "\n",
       "    .dataframe tbody tr th {\n",
       "        vertical-align: top;\n",
       "    }\n",
       "\n",
       "    .dataframe thead th {\n",
       "        text-align: right;\n",
       "    }\n",
       "</style>\n",
       "<table border=\"1\" class=\"dataframe\">\n",
       "  <thead>\n",
       "    <tr style=\"text-align: right;\">\n",
       "      <th></th>\n",
       "      <th>Missing Values</th>\n",
       "      <th>Percentage</th>\n",
       "    </tr>\n",
       "  </thead>\n",
       "  <tbody>\n",
       "    <tr>\n",
       "      <th>Ethnicity</th>\n",
       "      <td>675</td>\n",
       "      <td>5.922092</td>\n",
       "    </tr>\n",
       "    <tr>\n",
       "      <th>Dependents</th>\n",
       "      <td>140</td>\n",
       "      <td>1.228286</td>\n",
       "    </tr>\n",
       "    <tr>\n",
       "      <th>SurveyLength</th>\n",
       "      <td>19</td>\n",
       "      <td>0.166696</td>\n",
       "    </tr>\n",
       "  </tbody>\n",
       "</table>\n",
       "</div>"
      ],
      "text/plain": [
       "              Missing Values  Percentage\n",
       "Ethnicity                675    5.922092\n",
       "Dependents               140    1.228286\n",
       "SurveyLength              19    0.166696"
      ]
     },
     "execution_count": 14,
     "metadata": {},
     "output_type": "execute_result"
    }
   ],
   "source": [
    "df_5 = df_unique.iloc[:, list(range(81, 84))]\n",
    "# Count missing values in each column\n",
    "missing_values = df_5.isnull().sum()\n",
    "\n",
    "# Calculate percentage of missing values\n",
    "missing_percentage = (missing_values / len(df_5)) * 100\n",
    "\n",
    "# Create a summary table\n",
    "missing_summary = pd.DataFrame({\n",
    "    'Missing Values': missing_values,\n",
    "    'Percentage': missing_percentage\n",
    "}).sort_values(by='Missing Values', ascending=False)\n",
    "\n",
    "# Display the summary\n",
    "missing_summary"
   ]
  },
  {
   "cell_type": "markdown",
   "metadata": {},
   "source": [
    "Find out how many rows are missing in the column 'WorkLoc'\n"
   ]
  },
  {
   "cell_type": "code",
   "execution_count": 15,
   "metadata": {},
   "outputs": [
    {
     "name": "stdout",
     "output_type": "stream",
     "text": [
      "Missing values in the column WorkLoc: 32\n"
     ]
    }
   ],
   "source": [
    "WorkLoc_missing_values = df_unique.WorkLoc.isnull().sum()\n",
    "print(f\"Missing values in the column WorkLoc: {WorkLoc_missing_values}\")"
   ]
  },
  {
   "cell_type": "markdown",
   "metadata": {},
   "source": [
    "## Imputing missing values\n"
   ]
  },
  {
   "cell_type": "markdown",
   "metadata": {},
   "source": [
    "Find the  value counts for the column WorkLoc.\n"
   ]
  },
  {
   "cell_type": "code",
   "execution_count": 16,
   "metadata": {},
   "outputs": [
    {
     "data": {
      "text/plain": [
       "WorkLoc\n",
       "Office                                            6806\n",
       "Home                                              3589\n",
       "Other place, such as a coworking space or cafe     971\n",
       "Name: count, dtype: int64"
      ]
     },
     "execution_count": 16,
     "metadata": {},
     "output_type": "execute_result"
    }
   ],
   "source": [
    "df_unique.WorkLoc.value_counts()"
   ]
  },
  {
   "cell_type": "markdown",
   "metadata": {},
   "source": [
    "Identify the value that is most frequent (majority) in the WorkLoc column.\n"
   ]
  },
  {
   "cell_type": "code",
   "execution_count": 17,
   "metadata": {},
   "outputs": [
    {
     "name": "stdout",
     "output_type": "stream",
     "text": [
      "The most frequent value in the 'WorkLoc' column is: Office\n"
     ]
    }
   ],
   "source": [
    "# make a note of the majority value here, for future reference\n",
    "# Office\n",
    "\n",
    "# Find the most frequent value in the 'RemoteWork' column\n",
    "most_frequent_value = df_unique['WorkLoc'].mode()[0]\n",
    "\n",
    "# Display the result\n",
    "print(f\"The most frequent value in the 'WorkLoc' column is: {most_frequent_value}\")"
   ]
  },
  {
   "cell_type": "markdown",
   "metadata": {},
   "source": [
    "Impute (replace) all the empty rows in the column WorkLoc with the value that you have identified as majority.\n"
   ]
  },
  {
   "cell_type": "code",
   "execution_count": 18,
   "metadata": {},
   "outputs": [],
   "source": [
    "# Replace missing values in 'RemoteWork' with the most frequent value\n",
    "df_unique['WorkLoc'].fillna(most_frequent_value, inplace=True)\n"
   ]
  },
  {
   "cell_type": "markdown",
   "metadata": {},
   "source": [
    "After imputation there should ideally not be any empty rows in the WorkLoc column.\n"
   ]
  },
  {
   "cell_type": "markdown",
   "metadata": {},
   "source": [
    "Verify if imputing was successful.\n"
   ]
  },
  {
   "cell_type": "code",
   "execution_count": 19,
   "metadata": {},
   "outputs": [
    {
     "name": "stdout",
     "output_type": "stream",
     "text": [
      "Missing values in the column WorkLoc: 0\n"
     ]
    }
   ],
   "source": [
    "WorkLoc_missing_values = df_unique.WorkLoc.isnull().sum()\n",
    "print(f\"Missing values in the column WorkLoc: {WorkLoc_missing_values}\")"
   ]
  },
  {
   "cell_type": "code",
   "execution_count": 20,
   "metadata": {},
   "outputs": [
    {
     "data": {
      "text/plain": [
       "ConvertedComp\n",
       "2000000.0    138\n",
       "1000000.0    105\n",
       "100000.0      99\n",
       "150000.0      92\n",
       "120000.0      86\n",
       "            ... \n",
       "52800.0        1\n",
       "13848.0        1\n",
       "41591.0        1\n",
       "33648.0        1\n",
       "41217.0        1\n",
       "Name: count, Length: 3515, dtype: int64"
      ]
     },
     "execution_count": 20,
     "metadata": {},
     "output_type": "execute_result"
    }
   ],
   "source": [
    "df_unique.ConvertedComp.value_counts()"
   ]
  },
  {
   "cell_type": "code",
   "execution_count": 21,
   "metadata": {},
   "outputs": [
    {
     "name": "stdout",
     "output_type": "stream",
     "text": [
      "Missing values in the column WorkLoc: 816\n"
     ]
    }
   ],
   "source": [
    "ConvertedComp_missing_values = df_unique.ConvertedComp.isnull().sum()\n",
    "print(f\"Missing values in the column WorkLoc: {ConvertedComp_missing_values}\")"
   ]
  },
  {
   "cell_type": "markdown",
   "metadata": {},
   "source": [
    "## Normalizing data\n"
   ]
  },
  {
   "cell_type": "markdown",
   "metadata": {},
   "source": [
    "There are two columns in the dataset that talk about compensation.\n",
    "\n",
    "One is \"CompFreq\". This column shows how often a developer is paid (Yearly, Monthly, Weekly).\n",
    "\n",
    "The other is \"CompTotal\". This column talks about how much the developer is paid per Year, Month, or Week depending upon his/her \"CompFreq\". \n",
    "\n",
    "This makes it difficult to compare the total compensation of the developers.\n",
    "\n",
    "In this section you will create a new column called 'NormalizedAnnualCompensation' which contains the 'Annual Compensation' irrespective of the 'CompFreq'.\n",
    "\n",
    "Once this column is ready, it makes comparison of salaries easy.\n"
   ]
  },
  {
   "cell_type": "code",
   "execution_count": 22,
   "metadata": {},
   "outputs": [
    {
     "data": {
      "text/plain": [
       "CompTotal\n",
       "70000.0     241\n",
       "60000.0     239\n",
       "50000.0     223\n",
       "100000.0    218\n",
       "80000.0     194\n",
       "           ... \n",
       "111600.0      1\n",
       "456000.0      1\n",
       "22730.0       1\n",
       "552000.0      1\n",
       "4605.0        1\n",
       "Name: count, Length: 1509, dtype: int64"
      ]
     },
     "execution_count": 22,
     "metadata": {},
     "output_type": "execute_result"
    }
   ],
   "source": [
    "df_unique.CompTotal.value_counts()"
   ]
  },
  {
   "cell_type": "code",
   "execution_count": 23,
   "metadata": {},
   "outputs": [
    {
     "name": "stdout",
     "output_type": "stream",
     "text": [
      "Missing values in the column CompTotal: 809\n"
     ]
    }
   ],
   "source": [
    "CompTotal_missing_values = df_unique.CompTotal.isnull().sum()\n",
    "print(f\"Missing values in the column CompTotal: {CompTotal_missing_values}\")"
   ]
  },
  {
   "cell_type": "markdown",
   "metadata": {},
   "source": [
    "<hr>\n"
   ]
  },
  {
   "cell_type": "markdown",
   "metadata": {},
   "source": [
    "List out the various categories in the column 'CompFreq'\n"
   ]
  },
  {
   "cell_type": "code",
   "execution_count": 24,
   "metadata": {},
   "outputs": [
    {
     "data": {
      "text/plain": [
       "CompFreq\n",
       "Yearly     6073\n",
       "Monthly    4788\n",
       "Weekly      331\n",
       "Name: count, dtype: int64"
      ]
     },
     "execution_count": 24,
     "metadata": {},
     "output_type": "execute_result"
    }
   ],
   "source": [
    "df_unique.CompFreq.value_counts()"
   ]
  },
  {
   "cell_type": "markdown",
   "metadata": {},
   "source": [
    "Create a new column named 'NormalizedAnnualCompensation'. Use the hint given below if needed.\n"
   ]
  },
  {
   "cell_type": "markdown",
   "metadata": {},
   "source": [
    "Double click to see the **Hint**.\n",
    "\n",
    "<!--\n",
    "\n",
    "Use the below logic to arrive at the values for the column NormalizedAnnualCompensation.\n",
    "\n",
    "If the CompFreq is Yearly then use the exising value in CompTotal\n",
    "If the CompFreq is Monthly then multiply the value in CompTotal with 12 (months in an year)\n",
    "If the CompFreq is Weekly then multiply the value in CompTotal with 52 (weeks in an year)\n",
    "\n",
    "-->\n"
   ]
  },
  {
   "cell_type": "code",
   "execution_count": 25,
   "metadata": {},
   "outputs": [
    {
     "data": {
      "text/plain": [
       "NormalizedAnnualCompensation\n",
       "60000.0     241\n",
       "120000.0    170\n",
       "70000.0     169\n",
       "90000.0     156\n",
       "100000.0    152\n",
       "           ... \n",
       "11.0          1\n",
       "25444.0       1\n",
       "55260.0       1\n",
       "460000.0      1\n",
       "374000.0      1\n",
       "Name: count, Length: 1731, dtype: int64"
      ]
     },
     "execution_count": 25,
     "metadata": {},
     "output_type": "execute_result"
    }
   ],
   "source": [
    "# Define a function to normalize compensation to annual\n",
    "def normalize_annual_compensation(row):\n",
    "    if row['CompFreq'] == 'Yearly':\n",
    "        return row['CompTotal']\n",
    "    elif row['CompFreq'] == 'Monthly':\n",
    "        return row['CompTotal'] * 12\n",
    "    elif row['CompFreq'] == 'Weekly':\n",
    "        return row['CompTotal'] * 52\n",
    "    else:\n",
    "        return None  # Handle unknown frequency if necessary\n",
    "\n",
    "# Apply the function to create the new column\n",
    "df_unique['NormalizedAnnualCompensation'] = df_unique.apply(normalize_annual_compensation, axis=1)\n",
    "\n",
    "# Display the updated DataFrame\n",
    "df_unique['NormalizedAnnualCompensation'].value_counts()"
   ]
  },
  {
   "cell_type": "code",
   "execution_count": 26,
   "metadata": {},
   "outputs": [
    {
     "name": "stdout",
     "output_type": "stream",
     "text": [
      "The most frequent value in the 'NormalizedAnnualCompensation' column is: 60000.0\n"
     ]
    }
   ],
   "source": [
    "# Find the most frequent value in the 'NormalizedAnnualCompensation' column\n",
    "most_frequent_value = df_unique['NormalizedAnnualCompensation'].mode()[0]\n",
    "\n",
    "# Display the result\n",
    "print(f\"The most frequent value in the 'NormalizedAnnualCompensation' column is: {most_frequent_value}\")"
   ]
  },
  {
   "cell_type": "code",
   "execution_count": 27,
   "metadata": {},
   "outputs": [
    {
     "data": {
      "text/plain": [
       "Employment\n",
       "Employed full-time    10968\n",
       "Employed part-time      430\n",
       "Name: count, dtype: int64"
      ]
     },
     "execution_count": 27,
     "metadata": {},
     "output_type": "execute_result"
    }
   ],
   "source": [
    "df_unique.Employment.value_counts()"
   ]
  },
  {
   "cell_type": "code",
   "execution_count": 28,
   "metadata": {},
   "outputs": [
    {
     "data": {
      "text/plain": [
       "UndergradMajor\n",
       "Computer science, computer engineering, or software engineering          6953\n",
       "Information systems, information technology, or system administration     794\n",
       "Another engineering discipline (ex. civil, electrical, mechanical)        759\n",
       "Web development or web design                                             410\n",
       "A natural science (ex. biology, chemistry, physics)                       403\n",
       "Mathematics or statistics                                                 372\n",
       "A business discipline (ex. accounting, finance, marketing)                244\n",
       "A social science (ex. anthropology, psychology, political science)        210\n",
       "A humanities discipline (ex. literature, history, philosophy)             207\n",
       "Fine arts or performing arts (ex. graphic design, music, studio art)      161\n",
       "I never declared a major                                                  124\n",
       "A health science (ex. nursing, pharmacy, radiology)                        24\n",
       "Name: count, dtype: int64"
      ]
     },
     "execution_count": 28,
     "metadata": {},
     "output_type": "execute_result"
    }
   ],
   "source": [
    "df_unique.UndergradMajor.value_counts()"
   ]
  },
  {
   "cell_type": "code",
   "execution_count": 29,
   "metadata": {},
   "outputs": [
    {
     "data": {
      "text/plain": [
       "array(['United States', 'New Zealand', 'United Kingdom', 'Australia',\n",
       "       'Brazil', 'Lithuania', 'Israel', 'South Africa', 'Czech Republic',\n",
       "       'Spain', 'Germany', 'Serbia', 'India', 'Sweden', 'China', 'France',\n",
       "       'Netherlands', 'Philippines', 'Ireland', 'Pakistan', 'Austria',\n",
       "       'Canada', 'Croatia', 'Italy', 'Russian Federation', 'Argentina',\n",
       "       'Romania', 'Iran', 'Hungary', 'Latvia', 'Hong Kong (S.A.R.)',\n",
       "       'United Arab Emirates', 'Poland', 'Portugal', 'Bulgaria',\n",
       "       'Nicaragua', 'Denmark', 'Japan', 'Guatemala', 'Bangladesh',\n",
       "       'Ukraine', 'Mexico', 'Egypt', 'Switzerland', 'Mauritius',\n",
       "       'South Korea', 'Slovenia', 'Estonia', 'Norway', 'Singapore',\n",
       "       'Republic of Moldova', 'Belgium', 'Nigeria', 'Turkey', 'Thailand',\n",
       "       'Mongolia', 'Chile', 'Malaysia', 'Georgia', 'Luxembourg',\n",
       "       'Dominican Republic', 'Cape Verde', 'Burundi', 'Finland', 'Greece',\n",
       "       'Colombia', 'Taiwan', 'Yemen', 'Indonesia', 'Belarus', 'Slovakia',\n",
       "       'Nepal', 'Kenya', 'Venezuela, Bolivarian Republic of...',\n",
       "       'Armenia', 'Panama', 'Lebanon', 'Kuwait', 'Algeria',\n",
       "       \"Côte d'Ivoire\", 'Bosnia and Herzegovina', 'Brunei Darussalam',\n",
       "       'Costa Rica', 'Jordan', 'Zimbabwe', 'Ecuador', 'Albania',\n",
       "       'Azerbaijan', 'Other Country (Not Listed Above)', 'Uzbekistan',\n",
       "       'The former Yugoslav Republic of Macedonia', 'Sri Lanka', 'Ghana',\n",
       "       'Paraguay', 'Peru', 'Viet Nam', 'Malta', 'Rwanda', 'El Salvador',\n",
       "       'Uruguay', 'Tunisia', 'Bolivia', 'Honduras', 'Liechtenstein',\n",
       "       'Qatar', 'Cameroon', 'Turkmenistan', 'Kyrgyzstan', 'Somalia',\n",
       "       'Republic of Korea', 'Cuba', 'Montenegro', 'Monaco', 'Cyprus',\n",
       "       'Uganda', 'Senegal', 'Syrian Arab Republic', 'Morocco', 'Ethiopia',\n",
       "       'United Republic of Tanzania', 'Iceland', 'Swaziland',\n",
       "       'Congo, Republic of the...', 'Saudi Arabia', 'Afghanistan',\n",
       "       'Bahrain', 'Timor-Leste', 'Jamaica', 'Myanmar', 'Sudan',\n",
       "       'Libyan Arab Jamahiriya', 'Togo', 'Cambodia', 'Mozambique', 'Iraq'],\n",
       "      dtype=object)"
      ]
     },
     "execution_count": 29,
     "metadata": {},
     "output_type": "execute_result"
    }
   ],
   "source": [
    "df_unique.Country.unique()"
   ]
  },
  {
   "cell_type": "markdown",
   "metadata": {},
   "source": [
    "## Explore Each Columns\n"
   ]
  },
  {
   "cell_type": "code",
   "execution_count": 30,
   "metadata": {},
   "outputs": [
    {
     "data": {
      "text/plain": [
       "array([    4,     9,    13, ..., 25138, 25141, 25142])"
      ]
     },
     "execution_count": 30,
     "metadata": {},
     "output_type": "execute_result"
    }
   ],
   "source": [
    "df_unique.Respondent.unique()"
   ]
  },
  {
   "cell_type": "code",
   "execution_count": 31,
   "metadata": {},
   "outputs": [
    {
     "data": {
      "text/plain": [
       "array(['I am a developer by profession',\n",
       "       'I am not primarily a developer, but I write code sometimes as part of my work'],\n",
       "      dtype=object)"
      ]
     },
     "execution_count": 31,
     "metadata": {},
     "output_type": "execute_result"
    }
   ],
   "source": [
    "df_unique.MainBranch.unique()"
   ]
  },
  {
   "cell_type": "code",
   "execution_count": 32,
   "metadata": {},
   "outputs": [
    {
     "data": {
      "text/plain": [
       "array(['No', 'Yes'], dtype=object)"
      ]
     },
     "execution_count": 32,
     "metadata": {},
     "output_type": "execute_result"
    }
   ],
   "source": [
    "df_unique.Hobbyist.unique()"
   ]
  },
  {
   "cell_type": "code",
   "execution_count": 33,
   "metadata": {},
   "outputs": [
    {
     "data": {
      "text/plain": [
       "array(['Never', 'Once a month or more often',\n",
       "       'Less than once a month but more than once per year',\n",
       "       'Less than once per year'], dtype=object)"
      ]
     },
     "execution_count": 33,
     "metadata": {},
     "output_type": "execute_result"
    }
   ],
   "source": [
    "df_unique.OpenSourcer.unique()"
   ]
  },
  {
   "cell_type": "code",
   "execution_count": 34,
   "metadata": {},
   "outputs": [
    {
     "data": {
      "text/plain": [
       "array(['The quality of OSS and closed source software is about the same',\n",
       "       'OSS is, on average, of HIGHER quality than proprietary / closed source software',\n",
       "       'OSS is, on average, of LOWER quality than proprietary / closed source software',\n",
       "       nan], dtype=object)"
      ]
     },
     "execution_count": 34,
     "metadata": {},
     "output_type": "execute_result"
    }
   ],
   "source": [
    "df_unique.OpenSource.unique()"
   ]
  },
  {
   "cell_type": "code",
   "execution_count": 35,
   "metadata": {},
   "outputs": [],
   "source": [
    "df_unique['OpenSource'].fillna('not answer', inplace=True)\n"
   ]
  },
  {
   "cell_type": "code",
   "execution_count": 36,
   "metadata": {},
   "outputs": [
    {
     "data": {
      "text/plain": [
       "array(['Employed full-time', 'Employed part-time'], dtype=object)"
      ]
     },
     "execution_count": 36,
     "metadata": {},
     "output_type": "execute_result"
    }
   ],
   "source": [
    "df_unique.Employment.unique()"
   ]
  },
  {
   "cell_type": "code",
   "execution_count": 37,
   "metadata": {},
   "outputs": [
    {
     "data": {
      "text/plain": [
       "array(['United States', 'New Zealand', 'United Kingdom', 'Australia',\n",
       "       'Brazil', 'Lithuania', 'Israel', 'South Africa', 'Czech Republic',\n",
       "       'Spain', 'Germany', 'Serbia', 'India', 'Sweden', 'China', 'France',\n",
       "       'Netherlands', 'Philippines', 'Ireland', 'Pakistan', 'Austria',\n",
       "       'Canada', 'Croatia', 'Italy', 'Russian Federation', 'Argentina',\n",
       "       'Romania', 'Iran', 'Hungary', 'Latvia', 'Hong Kong (S.A.R.)',\n",
       "       'United Arab Emirates', 'Poland', 'Portugal', 'Bulgaria',\n",
       "       'Nicaragua', 'Denmark', 'Japan', 'Guatemala', 'Bangladesh',\n",
       "       'Ukraine', 'Mexico', 'Egypt', 'Switzerland', 'Mauritius',\n",
       "       'South Korea', 'Slovenia', 'Estonia', 'Norway', 'Singapore',\n",
       "       'Republic of Moldova', 'Belgium', 'Nigeria', 'Turkey', 'Thailand',\n",
       "       'Mongolia', 'Chile', 'Malaysia', 'Georgia', 'Luxembourg',\n",
       "       'Dominican Republic', 'Cape Verde', 'Burundi', 'Finland', 'Greece',\n",
       "       'Colombia', 'Taiwan', 'Yemen', 'Indonesia', 'Belarus', 'Slovakia',\n",
       "       'Nepal', 'Kenya', 'Venezuela, Bolivarian Republic of...',\n",
       "       'Armenia', 'Panama', 'Lebanon', 'Kuwait', 'Algeria',\n",
       "       \"Côte d'Ivoire\", 'Bosnia and Herzegovina', 'Brunei Darussalam',\n",
       "       'Costa Rica', 'Jordan', 'Zimbabwe', 'Ecuador', 'Albania',\n",
       "       'Azerbaijan', 'Other Country (Not Listed Above)', 'Uzbekistan',\n",
       "       'The former Yugoslav Republic of Macedonia', 'Sri Lanka', 'Ghana',\n",
       "       'Paraguay', 'Peru', 'Viet Nam', 'Malta', 'Rwanda', 'El Salvador',\n",
       "       'Uruguay', 'Tunisia', 'Bolivia', 'Honduras', 'Liechtenstein',\n",
       "       'Qatar', 'Cameroon', 'Turkmenistan', 'Kyrgyzstan', 'Somalia',\n",
       "       'Republic of Korea', 'Cuba', 'Montenegro', 'Monaco', 'Cyprus',\n",
       "       'Uganda', 'Senegal', 'Syrian Arab Republic', 'Morocco', 'Ethiopia',\n",
       "       'United Republic of Tanzania', 'Iceland', 'Swaziland',\n",
       "       'Congo, Republic of the...', 'Saudi Arabia', 'Afghanistan',\n",
       "       'Bahrain', 'Timor-Leste', 'Jamaica', 'Myanmar', 'Sudan',\n",
       "       'Libyan Arab Jamahiriya', 'Togo', 'Cambodia', 'Mozambique', 'Iraq'],\n",
       "      dtype=object)"
      ]
     },
     "execution_count": 37,
     "metadata": {},
     "output_type": "execute_result"
    }
   ],
   "source": [
    "df_unique.Country.unique()"
   ]
  },
  {
   "cell_type": "code",
   "execution_count": 38,
   "metadata": {},
   "outputs": [
    {
     "data": {
      "text/plain": [
       "array(['No', 'Yes, full-time', 'Yes, part-time', nan], dtype=object)"
      ]
     },
     "execution_count": 38,
     "metadata": {},
     "output_type": "execute_result"
    }
   ],
   "source": [
    "df_unique.Student.unique()"
   ]
  },
  {
   "cell_type": "code",
   "execution_count": 39,
   "metadata": {},
   "outputs": [],
   "source": [
    "df_unique['Student'].fillna('not answer', inplace=True)"
   ]
  },
  {
   "cell_type": "code",
   "execution_count": 40,
   "metadata": {},
   "outputs": [
    {
     "data": {
      "text/plain": [
       "array(['Bachelor’s degree (BA, BS, B.Eng., etc.)',\n",
       "       'Some college/university study without earning a degree',\n",
       "       'Master’s degree (MA, MS, M.Eng., MBA, etc.)',\n",
       "       'Primary/elementary school', 'Associate degree',\n",
       "       'Secondary school (e.g. American high school, German Realschule or Gymnasium, etc.)',\n",
       "       nan, 'Other doctoral degree (Ph.D, Ed.D., etc.)',\n",
       "       'I never completed any formal education',\n",
       "       'Professional degree (JD, MD, etc.)'], dtype=object)"
      ]
     },
     "execution_count": 40,
     "metadata": {},
     "output_type": "execute_result"
    }
   ],
   "source": [
    "df_unique.EdLevel.unique()"
   ]
  },
  {
   "cell_type": "code",
   "execution_count": 41,
   "metadata": {},
   "outputs": [],
   "source": [
    "df_unique['EdLevel'].fillna('not answer', inplace=True)"
   ]
  },
  {
   "cell_type": "code",
   "execution_count": 42,
   "metadata": {},
   "outputs": [
    {
     "data": {
      "text/plain": [
       "array(['Computer science, computer engineering, or software engineering',\n",
       "       nan,\n",
       "       'Information systems, information technology, or system administration',\n",
       "       'Another engineering discipline (ex. civil, electrical, mechanical)',\n",
       "       'A business discipline (ex. accounting, finance, marketing)',\n",
       "       'Web development or web design', 'Mathematics or statistics',\n",
       "       'A social science (ex. anthropology, psychology, political science)',\n",
       "       'Fine arts or performing arts (ex. graphic design, music, studio art)',\n",
       "       'A natural science (ex. biology, chemistry, physics)',\n",
       "       'A humanities discipline (ex. literature, history, philosophy)',\n",
       "       'I never declared a major',\n",
       "       'A health science (ex. nursing, pharmacy, radiology)'],\n",
       "      dtype=object)"
      ]
     },
     "execution_count": 42,
     "metadata": {},
     "output_type": "execute_result"
    }
   ],
   "source": [
    "df_unique.UndergradMajor.unique()"
   ]
  },
  {
   "cell_type": "code",
   "execution_count": 43,
   "metadata": {},
   "outputs": [],
   "source": [
    "df_unique['UndergradMajor'].fillna('not answer', inplace=True)"
   ]
  },
  {
   "cell_type": "code",
   "execution_count": 44,
   "metadata": {},
   "outputs": [
    {
     "data": {
      "text/plain": [
       "array(['100 to 499 employees', '10 to 19 employees', '20 to 99 employees',\n",
       "       '1,000 to 4,999 employees', '10,000 or more employees',\n",
       "       '2-9 employees', '500 to 999 employees',\n",
       "       '5,000 to 9,999 employees', nan,\n",
       "       'Just me - I am a freelancer, sole proprietor, etc.'], dtype=object)"
      ]
     },
     "execution_count": 44,
     "metadata": {},
     "output_type": "execute_result"
    }
   ],
   "source": [
    "df_unique.OrgSize.unique()"
   ]
  },
  {
   "cell_type": "code",
   "execution_count": 45,
   "metadata": {},
   "outputs": [],
   "source": [
    "df_unique['OrgSize'].fillna('not answer', inplace=True)"
   ]
  },
  {
   "cell_type": "code",
   "execution_count": 46,
   "metadata": {},
   "outputs": [
    {
     "data": {
      "text/plain": [
       "array(['Developer, full-stack',\n",
       "       'Database administrator;Developer, back-end;Developer, front-end;Developer, full-stack;Developer, QA or test;DevOps specialist',\n",
       "       'Data or business analyst;Database administrator;Developer, back-end;Developer, desktop or enterprise applications;Developer, front-end;Developer, full-stack;Developer, mobile;DevOps specialist;Engineer, data;Engineer, site reliability;Engineering manager;Senior executive/VP;System administrator',\n",
       "       ...,\n",
       "       'Data or business analyst;Database administrator;Designer;Developer, back-end;Developer, desktop or enterprise applications;Developer, front-end;Developer, full-stack;Developer, QA or test;DevOps specialist;Product manager',\n",
       "       'Designer;Developer, back-end;Developer, desktop or enterprise applications;Developer, embedded applications or devices;DevOps specialist',\n",
       "       'Database administrator;Developer, back-end;Developer, desktop or enterprise applications;Developer, embedded applications or devices;Developer, front-end;Developer, full-stack;Developer, game or graphics;Developer, mobile;Engineer, data;Engineer, site reliability;System administrator'],\n",
       "      dtype=object)"
      ]
     },
     "execution_count": 46,
     "metadata": {},
     "output_type": "execute_result"
    }
   ],
   "source": [
    "df_unique.DevType.unique()"
   ]
  },
  {
   "cell_type": "code",
   "execution_count": 47,
   "metadata": {},
   "outputs": [],
   "source": [
    "def process_complex_column(df, column_name):\n",
    "    \"\"\"\n",
    "    Process the  column to count occurrences and create binary columns for each unique value.\n",
    "\n",
    "    Args:\n",
    "        df (pd.DataFrame): The input dataframe.\n",
    "        column_name (str): The name of the column to process.\n",
    "\n",
    "    Returns:\n",
    "        pd.DataFrame, pd.Series: Updated dataframe and counts of unique value.\n",
    "    \"\"\"\n",
    "    # Split and count unique endorsements\n",
    "    value_counts = df[column_name].str.split(';').explode().value_counts()\n",
    "\n",
    "    # Generate binary columns for each unique endorsement\n",
    "    unique_values = value_counts.index\n",
    "    for col in unique_values:\n",
    "        binary_column_name = f\"{column_name}_{col.replace(' ', '').replace(':', '').replace(';', '').replace(',', '')}\"\n",
    "        df[binary_column_name] = df[column_name].str.contains(col, case=False, na=False).astype(int)\n",
    "\n",
    "    df = df.drop(column_name, axis=1)\n",
    "\n",
    "    return df, value_counts"
   ]
  },
  {
   "cell_type": "code",
   "execution_count": 48,
   "metadata": {},
   "outputs": [
    {
     "name": "stdout",
     "output_type": "stream",
     "text": [
      "DevType\n",
      "Developer, full-stack                            6928\n",
      "Developer, back-end                              6290\n",
      "Developer, front-end                             3920\n",
      "Developer, desktop or enterprise applications    2575\n",
      "Developer, mobile                                1959\n",
      "DevOps specialist                                1639\n",
      "Database administrator                           1413\n",
      "System administrator                             1202\n",
      "Designer                                          988\n",
      "Developer, QA or test                             911\n",
      "Developer, embedded applications or devices       854\n",
      "Engineer, data                                    832\n",
      "Data scientist or machine learning specialist     803\n",
      "Data or business analyst                          802\n",
      "Student                                           766\n",
      "Academic researcher                               556\n",
      "Educator                                          514\n",
      "Product manager                                   480\n",
      "Developer, game or graphics                       472\n",
      "Engineer, site reliability                        449\n",
      "Engineering manager                               386\n",
      "Scientist                                         354\n",
      "Senior executive/VP                               160\n",
      "Marketing or sales professional                    61\n",
      "Name: count, dtype: int64\n"
     ]
    }
   ],
   "source": [
    "df_unique, DevType_Counts = process_complex_column(df_unique, 'DevType')\n",
    "print(DevType_Counts)"
   ]
  },
  {
   "cell_type": "code",
   "execution_count": 49,
   "metadata": {},
   "outputs": [
    {
     "data": {
      "text/plain": [
       "array(['3', '12', '17', '10', '5', '14', '8', '35', '2', '4', '30', '9',\n",
       "       '26', '15', '7', '20', '13', '1', '6', '28', '11', '33', '41',\n",
       "       '16', '24', '23', '27', '18', '22', '19', '21', '25', '36',\n",
       "       'Less than 1 year', '32', '34', '31', '39', '29', '40', '44', '37',\n",
       "       '45', '43', '38', nan, '47', '42', '50', '49', '46', '48'],\n",
       "      dtype=object)"
      ]
     },
     "execution_count": 49,
     "metadata": {},
     "output_type": "execute_result"
    }
   ],
   "source": [
    "df_unique.YearsCode.unique()"
   ]
  },
  {
   "cell_type": "code",
   "execution_count": 50,
   "metadata": {},
   "outputs": [
    {
     "name": "stdout",
     "output_type": "stream",
     "text": [
      "[ 3.  12.  17.  10.   5.  14.   8.  35.   2.   4.  30.   9.  26.  15.\n",
      "  7.  20.  13.   1.   6.  28.  11.  33.  41.  16.  24.  23.  27.  18.\n",
      " 22.  19.  21.  25.  36.   0.5 32.  34.  31.  39.  29.  40.  44.  37.\n",
      " 45.  43.  38.   nan 47.  42.  50.  49.  46.  48. ]\n"
     ]
    }
   ],
   "source": [
    "YearsCode_Mapping = {\n",
    "    'Less than 1 year': '0.5'\n",
    "}\n",
    "\n",
    "df_unique['YearsCode'] = df_unique['YearsCode'].replace(YearsCode_Mapping)\n",
    "df_unique['YearsCode'] = df_unique['YearsCode'].astype(float)\n",
    "print(df_unique['YearsCode'].unique())"
   ]
  },
  {
   "cell_type": "code",
   "execution_count": 51,
   "metadata": {},
   "outputs": [
    {
     "data": {
      "text/plain": [
       "array(['16', '11', '17', '18', '13', '12', '19', '21', '8', '20', '14',\n",
       "       '6', '15', '10', '29', '9', '23', '22', '30', '7', '27', '24',\n",
       "       'Younger than 5 years', '26', '25', nan, '38', '28', '5', '31',\n",
       "       '36', '34', '32', '33', '35', '40', '37', '43', '39', '42', '45'],\n",
       "      dtype=object)"
      ]
     },
     "execution_count": 51,
     "metadata": {},
     "output_type": "execute_result"
    }
   ],
   "source": [
    "df_unique.Age1stCode.unique()"
   ]
  },
  {
   "cell_type": "code",
   "execution_count": 52,
   "metadata": {},
   "outputs": [
    {
     "name": "stdout",
     "output_type": "stream",
     "text": [
      "[16. 11. 17. 18. 13. 12. 19. 21.  8. 20. 14.  6. 15. 10. 29.  9. 23. 22.\n",
      " 30.  7. 27. 24.  4. 26. 25. nan 38. 28.  5. 31. 36. 34. 32. 33. 35. 40.\n",
      " 37. 43. 39. 42. 45.]\n"
     ]
    }
   ],
   "source": [
    "Age1stCode_Mapping = {\n",
    "    'Younger than 5 years': '4'\n",
    "}\n",
    "\n",
    "df_unique['Age1stCode'] = df_unique['Age1stCode'].replace(Age1stCode_Mapping)\n",
    "df_unique['Age1stCode'] = df_unique['Age1stCode'].astype(float)\n",
    "print(df_unique['Age1stCode'].unique())"
   ]
  },
  {
   "cell_type": "code",
   "execution_count": 53,
   "metadata": {},
   "outputs": [
    {
     "data": {
      "text/plain": [
       "array(['Less than 1 year', '4', '8', '3', '2', '13', '18', '1', '22',\n",
       "       '23', '19', '10', '9', '7', '5', '6', '20', '12', '35', '11', '15',\n",
       "       '16', '21', '29', '14', '26', '30', '25', '17', nan, '28', '37',\n",
       "       '40', '33', '24', '32', '34', '27', '39', '31', '38', '44', '43',\n",
       "       '36', '48', '42', '45', '47'], dtype=object)"
      ]
     },
     "execution_count": 53,
     "metadata": {},
     "output_type": "execute_result"
    }
   ],
   "source": [
    "df_unique.YearsCodePro.unique()"
   ]
  },
  {
   "cell_type": "code",
   "execution_count": 54,
   "metadata": {},
   "outputs": [
    {
     "name": "stdout",
     "output_type": "stream",
     "text": [
      "[ 0.5  4.   8.   3.   2.  13.  18.   1.  22.  23.  19.  10.   9.   7.\n",
      "  5.   6.  20.  12.  35.  11.  15.  16.  21.  29.  14.  26.  30.  25.\n",
      " 17.   nan 28.  37.  40.  33.  24.  32.  34.  27.  39.  31.  38.  44.\n",
      " 43.  36.  48.  42.  45.  47. ]\n"
     ]
    }
   ],
   "source": [
    "YearsCodePro_Mapping = {\n",
    "    'Less than 1 year': '0.5'\n",
    "}\n",
    "\n",
    "df_unique['YearsCodePro'] = df_unique['YearsCodePro'].replace(YearsCodePro_Mapping)\n",
    "df_unique['YearsCodePro'] = df_unique['YearsCodePro'].astype(float)\n",
    "print(df_unique['YearsCodePro'].unique())"
   ]
  },
  {
   "cell_type": "code",
   "execution_count": 55,
   "metadata": {},
   "outputs": [
    {
     "data": {
      "text/plain": [
       "array(['Very satisfied', 'Slightly satisfied', 'Very dissatisfied',\n",
       "       'Slightly dissatisfied', 'Neither satisfied nor dissatisfied'],\n",
       "      dtype=object)"
      ]
     },
     "execution_count": 55,
     "metadata": {},
     "output_type": "execute_result"
    }
   ],
   "source": [
    "df_unique.CareerSat.unique()"
   ]
  },
  {
   "cell_type": "code",
   "execution_count": 56,
   "metadata": {},
   "outputs": [
    {
     "data": {
      "text/plain": [
       "array(['Slightly satisfied', 'Very satisfied',\n",
       "       'Neither satisfied nor dissatisfied', 'Slightly dissatisfied',\n",
       "       'Very dissatisfied', nan], dtype=object)"
      ]
     },
     "execution_count": 56,
     "metadata": {},
     "output_type": "execute_result"
    }
   ],
   "source": [
    "df_unique.JobSat.unique()"
   ]
  },
  {
   "cell_type": "code",
   "execution_count": 57,
   "metadata": {},
   "outputs": [],
   "source": [
    "df_unique['JobSat'].fillna('not answer', inplace=True)"
   ]
  },
  {
   "cell_type": "code",
   "execution_count": 58,
   "metadata": {},
   "outputs": [
    {
     "data": {
      "text/plain": [
       "array(['Very confident', 'Somewhat confident', nan,\n",
       "       'Not at all confident', \"I don't have a manager\"], dtype=object)"
      ]
     },
     "execution_count": 58,
     "metadata": {},
     "output_type": "execute_result"
    }
   ],
   "source": [
    "df_unique.MgrIdiot.unique()"
   ]
  },
  {
   "cell_type": "code",
   "execution_count": 59,
   "metadata": {},
   "outputs": [],
   "source": [
    "df_unique['MgrIdiot'].fillna('not answer', inplace=True)"
   ]
  },
  {
   "cell_type": "code",
   "execution_count": 60,
   "metadata": {},
   "outputs": [
    {
     "data": {
      "text/plain": [
       "array(['No', nan, 'Not sure', 'Yes'], dtype=object)"
      ]
     },
     "execution_count": 60,
     "metadata": {},
     "output_type": "execute_result"
    }
   ],
   "source": [
    "df_unique.MgrMoney.unique()"
   ]
  },
  {
   "cell_type": "code",
   "execution_count": 61,
   "metadata": {},
   "outputs": [],
   "source": [
    "df_unique['MgrMoney'].fillna('not answer', inplace=True)"
   ]
  },
  {
   "cell_type": "code",
   "execution_count": 62,
   "metadata": {},
   "outputs": [
    {
     "data": {
      "text/plain": [
       "array(['I am not interested in new job opportunities',\n",
       "       'I’m not actively looking, but I am open to new opportunities',\n",
       "       'I am actively looking for a job'], dtype=object)"
      ]
     },
     "execution_count": 62,
     "metadata": {},
     "output_type": "execute_result"
    }
   ],
   "source": [
    "df_unique.JobSeek.unique()"
   ]
  },
  {
   "cell_type": "code",
   "execution_count": 63,
   "metadata": {},
   "outputs": [
    {
     "data": {
      "text/plain": [
       "array(['Less than a year ago', '3-4 years ago', 'More than 4 years ago',\n",
       "       '1-2 years ago',\n",
       "       'NA - I am an independent contractor or self employed',\n",
       "       \"I've never had a job\"], dtype=object)"
      ]
     },
     "execution_count": 63,
     "metadata": {},
     "output_type": "execute_result"
    }
   ],
   "source": [
    "df_unique.LastHireDate.unique()"
   ]
  },
  {
   "cell_type": "code",
   "execution_count": 64,
   "metadata": {},
   "outputs": [
    {
     "data": {
      "text/plain": [
       "array(['Write code by hand (e.g., on a whiteboard);Interview with people in senior / management roles',\n",
       "       'Write any code;Interview with people in peer roles;Interview with people in senior / management roles',\n",
       "       'Complete a take-home project;Interview with people in peer roles;Interview with people in senior / management roles',\n",
       "       'Interview with people in senior / management roles',\n",
       "       'Complete a take-home project;Interview with people in senior / management roles',\n",
       "       'Interview with people in peer roles;Interview with people in senior / management roles',\n",
       "       'Write any code;Write code by hand (e.g., on a whiteboard);Interview with people in senior / management roles',\n",
       "       'Write code by hand (e.g., on a whiteboard);Interview with people in peer roles',\n",
       "       'Write any code;Write code by hand (e.g., on a whiteboard);Solve a brain-teaser style puzzle;Interview with people in peer roles;Interview with people in senior / management roles',\n",
       "       'Write any code;Write code by hand (e.g., on a whiteboard);Complete a take-home project;Solve a brain-teaser style puzzle;Interview with people in peer roles;Interview with people in senior / management roles',\n",
       "       nan,\n",
       "       'Write any code;Write code by hand (e.g., on a whiteboard);Complete a take-home project;Solve a brain-teaser style puzzle;Interview with people in senior / management roles',\n",
       "       'Write any code;Complete a take-home project;Interview with people in peer roles;Interview with people in senior / management roles',\n",
       "       'Solve a brain-teaser style puzzle;Interview with people in senior / management roles',\n",
       "       'Interview with people in peer roles',\n",
       "       'Write any code;Complete a take-home project',\n",
       "       'Write any code;Write code by hand (e.g., on a whiteboard);Interview with people in peer roles;Interview with people in senior / management roles',\n",
       "       'Write any code;Solve a brain-teaser style puzzle;Interview with people in peer roles;Interview with people in senior / management roles',\n",
       "       'Solve a brain-teaser style puzzle;Interview with people in peer roles;Interview with people in senior / management roles',\n",
       "       'Write code by hand (e.g., on a whiteboard);Solve a brain-teaser style puzzle;Interview with people in peer roles;Interview with people in senior / management roles',\n",
       "       'Complete a take-home project;Solve a brain-teaser style puzzle;Interview with people in peer roles;Interview with people in senior / management roles',\n",
       "       'Complete a take-home project',\n",
       "       'Write any code;Write code by hand (e.g., on a whiteboard)',\n",
       "       'Write any code;Write code by hand (e.g., on a whiteboard);Complete a take-home project;Interview with people in peer roles;Interview with people in senior / management roles',\n",
       "       'Write any code;Complete a take-home project;Solve a brain-teaser style puzzle;Interview with people in peer roles;Interview with people in senior / management roles',\n",
       "       'Write any code;Solve a brain-teaser style puzzle;Interview with people in senior / management roles',\n",
       "       'Write code by hand (e.g., on a whiteboard);Interview with people in peer roles;Interview with people in senior / management roles',\n",
       "       'Complete a take-home project;Solve a brain-teaser style puzzle;Interview with people in peer roles',\n",
       "       'Write code by hand (e.g., on a whiteboard);Solve a brain-teaser style puzzle',\n",
       "       'Write any code;Interview with people in senior / management roles',\n",
       "       'Write code by hand (e.g., on a whiteboard)',\n",
       "       'Write any code;Complete a take-home project;Interview with people in peer roles',\n",
       "       'Write any code;Write code by hand (e.g., on a whiteboard);Solve a brain-teaser style puzzle;Interview with people in senior / management roles',\n",
       "       'Write any code;Complete a take-home project;Interview with people in senior / management roles',\n",
       "       'Write any code;Solve a brain-teaser style puzzle',\n",
       "       'Solve a brain-teaser style puzzle',\n",
       "       'Write any code;Write code by hand (e.g., on a whiteboard);Complete a take-home project;Interview with people in senior / management roles',\n",
       "       'Write any code;Interview with people in peer roles',\n",
       "       'Solve a brain-teaser style puzzle;Interview with people in peer roles',\n",
       "       'Complete a take-home project;Interview with people in peer roles',\n",
       "       'Write any code',\n",
       "       'Write code by hand (e.g., on a whiteboard);Complete a take-home project;Solve a brain-teaser style puzzle;Interview with people in senior / management roles',\n",
       "       'Write code by hand (e.g., on a whiteboard);Complete a take-home project',\n",
       "       'Write code by hand (e.g., on a whiteboard);Complete a take-home project;Solve a brain-teaser style puzzle;Interview with people in peer roles;Interview with people in senior / management roles',\n",
       "       'Write any code;Complete a take-home project;Solve a brain-teaser style puzzle',\n",
       "       'Write code by hand (e.g., on a whiteboard);Solve a brain-teaser style puzzle;Interview with people in senior / management roles',\n",
       "       'Write code by hand (e.g., on a whiteboard);Complete a take-home project;Interview with people in peer roles;Interview with people in senior / management roles',\n",
       "       'Write any code;Write code by hand (e.g., on a whiteboard);Solve a brain-teaser style puzzle;Interview with people in peer roles',\n",
       "       'Write any code;Write code by hand (e.g., on a whiteboard);Complete a take-home project',\n",
       "       'Write any code;Write code by hand (e.g., on a whiteboard);Solve a brain-teaser style puzzle',\n",
       "       'Complete a take-home project;Solve a brain-teaser style puzzle;Interview with people in senior / management roles',\n",
       "       'Write any code;Write code by hand (e.g., on a whiteboard);Complete a take-home project;Solve a brain-teaser style puzzle',\n",
       "       'Write any code;Complete a take-home project;Solve a brain-teaser style puzzle;Interview with people in senior / management roles',\n",
       "       'Write any code;Complete a take-home project;Solve a brain-teaser style puzzle;Interview with people in peer roles',\n",
       "       'Write code by hand (e.g., on a whiteboard);Solve a brain-teaser style puzzle;Interview with people in peer roles',\n",
       "       'Write any code;Write code by hand (e.g., on a whiteboard);Interview with people in peer roles',\n",
       "       'Write code by hand (e.g., on a whiteboard);Complete a take-home project;Interview with people in peer roles',\n",
       "       'Write any code;Write code by hand (e.g., on a whiteboard);Complete a take-home project;Interview with people in peer roles',\n",
       "       'Write any code;Solve a brain-teaser style puzzle;Interview with people in peer roles',\n",
       "       'Write any code;Write code by hand (e.g., on a whiteboard);Complete a take-home project;Solve a brain-teaser style puzzle;Interview with people in peer roles',\n",
       "       'Write code by hand (e.g., on a whiteboard);Complete a take-home project;Interview with people in senior / management roles',\n",
       "       'Complete a take-home project;Solve a brain-teaser style puzzle',\n",
       "       'Write code by hand (e.g., on a whiteboard);Complete a take-home project;Solve a brain-teaser style puzzle',\n",
       "       'Write code by hand (e.g., on a whiteboard);Complete a take-home project;Solve a brain-teaser style puzzle;Interview with people in peer roles'],\n",
       "      dtype=object)"
      ]
     },
     "execution_count": 64,
     "metadata": {},
     "output_type": "execute_result"
    }
   ],
   "source": [
    "df_unique.LastInt.unique()"
   ]
  },
  {
   "cell_type": "code",
   "execution_count": 65,
   "metadata": {},
   "outputs": [
    {
     "name": "stdout",
     "output_type": "stream",
     "text": [
      "LastInt\n",
      "Interview with people in senior / management roles    9147\n",
      "Interview with people in peer roles                   6927\n",
      "Write any code                                        4393\n",
      "Write code by hand (e.g., on a whiteboard)            3121\n",
      "Complete a take-home project                          2807\n",
      "Solve a brain-teaser style puzzle                     2107\n",
      "Name: count, dtype: int64\n"
     ]
    }
   ],
   "source": [
    "df_unique, LastInt_Counts = process_complex_column(df_unique, 'LastInt')\n",
    "print(LastInt_Counts)"
   ]
  },
  {
   "cell_type": "code",
   "execution_count": 66,
   "metadata": {},
   "outputs": [
    {
     "data": {
      "text/plain": [
       "array(['No', 'Yes', nan], dtype=object)"
      ]
     },
     "execution_count": 66,
     "metadata": {},
     "output_type": "execute_result"
    }
   ],
   "source": [
    "df_unique.FizzBuzz.unique()"
   ]
  },
  {
   "cell_type": "code",
   "execution_count": 67,
   "metadata": {},
   "outputs": [],
   "source": [
    "df_unique['FizzBuzz'].fillna('not answer', inplace=True)"
   ]
  },
  {
   "cell_type": "code",
   "execution_count": 68,
   "metadata": {},
   "outputs": [
    {
     "data": {
      "text/plain": [
       "array([\"Languages, frameworks, and other technologies I'd be working with;Office environment or company culture;Opportunities for professional development\",\n",
       "       'Financial performance or funding status of the company or organization;Office environment or company culture;How widely used or impactful my work output would be',\n",
       "       \"Languages, frameworks, and other technologies I'd be working with;Remote work options;Flex time or a flexible schedule\",\n",
       "       'Remote work options;How widely used or impactful my work output would be;Flex time or a flexible schedule',\n",
       "       \"Industry that I'd be working in;Financial performance or funding status of the company or organization;Languages, frameworks, and other technologies I'd be working with\",\n",
       "       'Opportunities for professional development;How widely used or impactful my work output would be;Flex time or a flexible schedule',\n",
       "       'Office environment or company culture;Remote work options;Opportunities for professional development',\n",
       "       'Remote work options;Diversity of the company or organization;How widely used or impactful my work output would be',\n",
       "       \"Languages, frameworks, and other technologies I'd be working with;Office environment or company culture;Remote work options\",\n",
       "       \"Specific department or team I'd be working on;Office environment or company culture;Remote work options\",\n",
       "       \"Specific department or team I'd be working on;Office environment or company culture;Flex time or a flexible schedule\",\n",
       "       \"Languages, frameworks, and other technologies I'd be working with;Office environment or company culture;How widely used or impactful my work output would be\",\n",
       "       \"Specific department or team I'd be working on;Languages, frameworks, and other technologies I'd be working with\",\n",
       "       'Office environment or company culture;Remote work options;Flex time or a flexible schedule',\n",
       "       \"Specific department or team I'd be working on;Languages, frameworks, and other technologies I'd be working with;Opportunities for professional development\",\n",
       "       'Office environment or company culture;How widely used or impactful my work output would be;Flex time or a flexible schedule',\n",
       "       'Office environment or company culture;Opportunities for professional development;Flex time or a flexible schedule',\n",
       "       'Financial performance or funding status of the company or organization;Remote work options;Flex time or a flexible schedule',\n",
       "       \"Industry that I'd be working in;Languages, frameworks, and other technologies I'd be working with;Flex time or a flexible schedule\",\n",
       "       'Remote work options;Opportunities for professional development;How widely used or impactful my work output would be',\n",
       "       'Office environment or company culture;Opportunities for professional development;How widely used or impactful my work output would be',\n",
       "       \"Industry that I'd be working in;Languages, frameworks, and other technologies I'd be working with;Opportunities for professional development\",\n",
       "       \"Languages, frameworks, and other technologies I'd be working with;Opportunities for professional development;Flex time or a flexible schedule\",\n",
       "       \"Languages, frameworks, and other technologies I'd be working with;How widely used or impactful my work output would be;Flex time or a flexible schedule\",\n",
       "       \"Languages, frameworks, and other technologies I'd be working with\",\n",
       "       \"Languages, frameworks, and other technologies I'd be working with;Remote work options\",\n",
       "       \"Industry that I'd be working in;Office environment or company culture;How widely used or impactful my work output would be\",\n",
       "       \"Industry that I'd be working in;Specific department or team I'd be working on;Opportunities for professional development\",\n",
       "       \"Languages, frameworks, and other technologies I'd be working with;Office environment or company culture;Flex time or a flexible schedule\",\n",
       "       'Remote work options;Opportunities for professional development;Flex time or a flexible schedule',\n",
       "       \"Specific department or team I'd be working on;Languages, frameworks, and other technologies I'd be working with;Flex time or a flexible schedule\",\n",
       "       \"Industry that I'd be working in;Office environment or company culture;Flex time or a flexible schedule\",\n",
       "       \"Financial performance or funding status of the company or organization;Languages, frameworks, and other technologies I'd be working with;Diversity of the company or organization\",\n",
       "       \"Financial performance or funding status of the company or organization;Languages, frameworks, and other technologies I'd be working with;Remote work options\",\n",
       "       \"Languages, frameworks, and other technologies I'd be working with;Remote work options;Opportunities for professional development\",\n",
       "       \"Industry that I'd be working in;Languages, frameworks, and other technologies I'd be working with;Remote work options\",\n",
       "       \"Languages, frameworks, and other technologies I'd be working with;Remote work options;How widely used or impactful my work output would be\",\n",
       "       \"Specific department or team I'd be working on;Languages, frameworks, and other technologies I'd be working with;Office environment or company culture\",\n",
       "       \"Specific department or team I'd be working on;Opportunities for professional development;How widely used or impactful my work output would be\",\n",
       "       \"Specific department or team I'd be working on;Languages, frameworks, and other technologies I'd be working with;Remote work options\",\n",
       "       \"Financial performance or funding status of the company or organization;Languages, frameworks, and other technologies I'd be working with;Opportunities for professional development\",\n",
       "       'Financial performance or funding status of the company or organization;Diversity of the company or organization;How widely used or impactful my work output would be',\n",
       "       'Financial performance or funding status of the company or organization;Opportunities for professional development;How widely used or impactful my work output would be',\n",
       "       \"Specific department or team I'd be working on;Remote work options;Opportunities for professional development\",\n",
       "       \"Languages, frameworks, and other technologies I'd be working with;Remote work options;Diversity of the company or organization\",\n",
       "       \"Industry that I'd be working in;Opportunities for professional development;Flex time or a flexible schedule\",\n",
       "       \"Languages, frameworks, and other technologies I'd be working with;Opportunities for professional development;How widely used or impactful my work output would be\",\n",
       "       'Office environment or company culture;Diversity of the company or organization;Flex time or a flexible schedule',\n",
       "       'Financial performance or funding status of the company or organization;Remote work options;Opportunities for professional development',\n",
       "       \"Industry that I'd be working in;Remote work options;Opportunities for professional development\",\n",
       "       'Office environment or company culture',\n",
       "       \"Specific department or team I'd be working on;Opportunities for professional development;Flex time or a flexible schedule\",\n",
       "       \"Industry that I'd be working in;Office environment or company culture;Opportunities for professional development\",\n",
       "       \"Specific department or team I'd be working on;Office environment or company culture;Opportunities for professional development\",\n",
       "       \"Industry that I'd be working in;Languages, frameworks, and other technologies I'd be working with;How widely used or impactful my work output would be\",\n",
       "       'Financial performance or funding status of the company or organization;Office environment or company culture;Flex time or a flexible schedule',\n",
       "       \"Industry that I'd be working in;Financial performance or funding status of the company or organization;How widely used or impactful my work output would be\",\n",
       "       'Financial performance or funding status of the company or organization;Opportunities for professional development;Flex time or a flexible schedule',\n",
       "       'Remote work options;Diversity of the company or organization;Flex time or a flexible schedule',\n",
       "       'Office environment or company culture;Opportunities for professional development;Diversity of the company or organization',\n",
       "       \"Industry that I'd be working in;Languages, frameworks, and other technologies I'd be working with;Diversity of the company or organization\",\n",
       "       'Opportunities for professional development;Diversity of the company or organization;Flex time or a flexible schedule',\n",
       "       'Financial performance or funding status of the company or organization;Office environment or company culture;Remote work options',\n",
       "       'Financial performance or funding status of the company or organization;Remote work options;How widely used or impactful my work output would be',\n",
       "       \"Industry that I'd be working in;Languages, frameworks, and other technologies I'd be working with;Office environment or company culture\",\n",
       "       \"Financial performance or funding status of the company or organization;Languages, frameworks, and other technologies I'd be working with;How widely used or impactful my work output would be\",\n",
       "       'Financial performance or funding status of the company or organization;Remote work options;Diversity of the company or organization',\n",
       "       \"Industry that I'd be working in;Opportunities for professional development;How widely used or impactful my work output would be\",\n",
       "       \"Financial performance or funding status of the company or organization;Specific department or team I'd be working on;Office environment or company culture\",\n",
       "       \"Financial performance or funding status of the company or organization;Languages, frameworks, and other technologies I'd be working with;Office environment or company culture\",\n",
       "       'Financial performance or funding status of the company or organization;Office environment or company culture;Opportunities for professional development',\n",
       "       \"Industry that I'd be working in;Remote work options;Flex time or a flexible schedule\",\n",
       "       'Diversity of the company or organization;How widely used or impactful my work output would be;Flex time or a flexible schedule',\n",
       "       'Opportunities for professional development',\n",
       "       \"Specific department or team I'd be working on;Languages, frameworks, and other technologies I'd be working with;Diversity of the company or organization\",\n",
       "       'Remote work options;Opportunities for professional development;Diversity of the company or organization',\n",
       "       \"Specific department or team I'd be working on;How widely used or impactful my work output would be;Flex time or a flexible schedule\",\n",
       "       \"Specific department or team I'd be working on;Office environment or company culture;How widely used or impactful my work output would be\",\n",
       "       'Financial performance or funding status of the company or organization;How widely used or impactful my work output would be;Flex time or a flexible schedule',\n",
       "       \"Specific department or team I'd be working on;Remote work options;Flex time or a flexible schedule\",\n",
       "       'Financial performance or funding status of the company or organization;Office environment or company culture;Diversity of the company or organization',\n",
       "       'Remote work options;How widely used or impactful my work output would be',\n",
       "       \"Industry that I'd be working in;Financial performance or funding status of the company or organization;Office environment or company culture\",\n",
       "       \"Specific department or team I'd be working on;Office environment or company culture;Diversity of the company or organization\",\n",
       "       \"Financial performance or funding status of the company or organization;Languages, frameworks, and other technologies I'd be working with;Flex time or a flexible schedule\",\n",
       "       \"Industry that I'd be working in;Specific department or team I'd be working on;Office environment or company culture\",\n",
       "       'Office environment or company culture;Remote work options;How widely used or impactful my work output would be',\n",
       "       \"Specific department or team I'd be working on;Diversity of the company or organization;Flex time or a flexible schedule\",\n",
       "       \"Industry that I'd be working in;Office environment or company culture;Remote work options\",\n",
       "       \"Industry that I'd be working in;Opportunities for professional development;Diversity of the company or organization\",\n",
       "       \"Industry that I'd be working in;Specific department or team I'd be working on;Flex time or a flexible schedule\",\n",
       "       \"Specific department or team I'd be working on;Remote work options;How widely used or impactful my work output would be\",\n",
       "       'Office environment or company culture;Remote work options;Diversity of the company or organization',\n",
       "       \"Specific department or team I'd be working on;Office environment or company culture\",\n",
       "       \"Financial performance or funding status of the company or organization;Specific department or team I'd be working on;Opportunities for professional development\",\n",
       "       \"Industry that I'd be working in;How widely used or impactful my work output would be;Flex time or a flexible schedule\",\n",
       "       'Financial performance or funding status of the company or organization;Diversity of the company or organization;Flex time or a flexible schedule',\n",
       "       \"Industry that I'd be working in;Office environment or company culture;Diversity of the company or organization\",\n",
       "       \"Languages, frameworks, and other technologies I'd be working with;Diversity of the company or organization;How widely used or impactful my work output would be\",\n",
       "       \"Industry that I'd be working in;Financial performance or funding status of the company or organization;Opportunities for professional development\",\n",
       "       \"Financial performance or funding status of the company or organization;Specific department or team I'd be working on;Flex time or a flexible schedule\",\n",
       "       \"Industry that I'd be working in;Financial performance or funding status of the company or organization;Remote work options\",\n",
       "       'Opportunities for professional development;Diversity of the company or organization;How widely used or impactful my work output would be',\n",
       "       'Office environment or company culture;Diversity of the company or organization;How widely used or impactful my work output would be',\n",
       "       \"Languages, frameworks, and other technologies I'd be working with;Office environment or company culture;Diversity of the company or organization\",\n",
       "       \"Industry that I'd be working in;Remote work options;How widely used or impactful my work output would be\",\n",
       "       'Diversity of the company or organization',\n",
       "       \"Specific department or team I'd be working on;Languages, frameworks, and other technologies I'd be working with;How widely used or impactful my work output would be\",\n",
       "       \"Specific department or team I'd be working on;Diversity of the company or organization;How widely used or impactful my work output would be\",\n",
       "       \"Industry that I'd be working in;Financial performance or funding status of the company or organization;Specific department or team I'd be working on\",\n",
       "       \"Financial performance or funding status of the company or organization;Specific department or team I'd be working on;Languages, frameworks, and other technologies I'd be working with\",\n",
       "       \"Industry that I'd be working in;Diversity of the company or organization;How widely used or impactful my work output would be\",\n",
       "       'Remote work options;Flex time or a flexible schedule',\n",
       "       \"Industry that I'd be working in;Remote work options;Diversity of the company or organization\",\n",
       "       \"Industry that I'd be working in;Specific department or team I'd be working on;How widely used or impactful my work output would be\",\n",
       "       \"Languages, frameworks, and other technologies I'd be working with;Diversity of the company or organization;Flex time or a flexible schedule\",\n",
       "       \"Specific department or team I'd be working on;Opportunities for professional development;Diversity of the company or organization\",\n",
       "       \"Languages, frameworks, and other technologies I'd be working with;Opportunities for professional development;Diversity of the company or organization\",\n",
       "       \"Languages, frameworks, and other technologies I'd be working with;Opportunities for professional development\",\n",
       "       \"Industry that I'd be working in;Specific department or team I'd be working on;Languages, frameworks, and other technologies I'd be working with\",\n",
       "       'Opportunities for professional development;Flex time or a flexible schedule',\n",
       "       \"Financial performance or funding status of the company or organization;Languages, frameworks, and other technologies I'd be working with\",\n",
       "       'How widely used or impactful my work output would be',\n",
       "       'Financial performance or funding status of the company or organization;Flex time or a flexible schedule',\n",
       "       \"Specific department or team I'd be working on;Remote work options;Diversity of the company or organization\",\n",
       "       \"Financial performance or funding status of the company or organization;Specific department or team I'd be working on;Remote work options\",\n",
       "       \"Industry that I'd be working in;Office environment or company culture\",\n",
       "       nan,\n",
       "       \"Industry that I'd be working in;Specific department or team I'd be working on;Diversity of the company or organization\",\n",
       "       \"Industry that I'd be working in;Financial performance or funding status of the company or organization;Flex time or a flexible schedule\",\n",
       "       \"Languages, frameworks, and other technologies I'd be working with;How widely used or impactful my work output would be\",\n",
       "       'Financial performance or funding status of the company or organization;Opportunities for professional development',\n",
       "       'Financial performance or funding status of the company or organization',\n",
       "       'Opportunities for professional development;How widely used or impactful my work output would be',\n",
       "       'Financial performance or funding status of the company or organization;Opportunities for professional development;Diversity of the company or organization',\n",
       "       \"Industry that I'd be working in;Diversity of the company or organization;Flex time or a flexible schedule\",\n",
       "       'Flex time or a flexible schedule',\n",
       "       \"Specific department or team I'd be working on;Flex time or a flexible schedule\",\n",
       "       'Office environment or company culture;Flex time or a flexible schedule',\n",
       "       \"Specific department or team I'd be working on;Opportunities for professional development\",\n",
       "       'Office environment or company culture;How widely used or impactful my work output would be',\n",
       "       \"Languages, frameworks, and other technologies I'd be working with;Office environment or company culture\",\n",
       "       \"Languages, frameworks, and other technologies I'd be working with;Flex time or a flexible schedule\",\n",
       "       \"Financial performance or funding status of the company or organization;Specific department or team I'd be working on;How widely used or impactful my work output would be\",\n",
       "       'Remote work options',\n",
       "       'How widely used or impactful my work output would be;Flex time or a flexible schedule',\n",
       "       'Office environment or company culture;Opportunities for professional development',\n",
       "       \"Industry that I'd be working in;Financial performance or funding status of the company or organization\",\n",
       "       \"Industry that I'd be working in\",\n",
       "       'Remote work options;Opportunities for professional development',\n",
       "       \"Languages, frameworks, and other technologies I'd be working with;Diversity of the company or organization\",\n",
       "       \"Industry that I'd be working in;Specific department or team I'd be working on;Remote work options\",\n",
       "       \"Industry that I'd be working in;Specific department or team I'd be working on\",\n",
       "       'Financial performance or funding status of the company or organization;Remote work options',\n",
       "       \"Specific department or team I'd be working on\",\n",
       "       'Financial performance or funding status of the company or organization;Office environment or company culture',\n",
       "       \"Industry that I'd be working in;Opportunities for professional development\",\n",
       "       'Office environment or company culture;Remote work options'],\n",
       "      dtype=object)"
      ]
     },
     "execution_count": 68,
     "metadata": {},
     "output_type": "execute_result"
    }
   ],
   "source": [
    "df_unique.JobFactors.unique()"
   ]
  },
  {
   "cell_type": "code",
   "execution_count": 69,
   "metadata": {},
   "outputs": [
    {
     "name": "stdout",
     "output_type": "stream",
     "text": [
      "JobFactors\n",
      "Languages, frameworks, and other technologies I'd be working with         6458\n",
      "Office environment or company culture                                     5818\n",
      "Flex time or a flexible schedule                                          5286\n",
      "Opportunities for professional development                                5034\n",
      "Remote work options                                                       3537\n",
      "How widely used or impactful my work output would be                      2673\n",
      "Financial performance or funding status of the company or organization    1534\n",
      "Industry that I'd be working in                                           1476\n",
      "Specific department or team I'd be working on                             1361\n",
      "Diversity of the company or organization                                   766\n",
      "Name: count, dtype: int64\n"
     ]
    }
   ],
   "source": [
    "df_unique, JobFactors_Counts = process_complex_column(df_unique, 'JobFactors')\n",
    "print(JobFactors_Counts)"
   ]
  },
  {
   "cell_type": "code",
   "execution_count": 70,
   "metadata": {},
   "outputs": [
    {
     "data": {
      "text/plain": [
       "array(['I was preparing for a job search',\n",
       "       'I heard about a job opportunity (from a recruiter, online job posting, etc.)',\n",
       "       'My job status changed (promotion, new job, etc.)',\n",
       "       'I had a negative experience or interaction at work',\n",
       "       'Something else changed (education, award, media, etc.)', nan,\n",
       "       'Re-entry into the workforce'], dtype=object)"
      ]
     },
     "execution_count": 70,
     "metadata": {},
     "output_type": "execute_result"
    }
   ],
   "source": [
    "df_unique.ResumeUpdate.unique()"
   ]
  },
  {
   "cell_type": "code",
   "execution_count": 71,
   "metadata": {},
   "outputs": [],
   "source": [
    "df_unique['ResumeUpdate'].fillna('not answer', inplace=True)"
   ]
  },
  {
   "cell_type": "code",
   "execution_count": 72,
   "metadata": {},
   "outputs": [
    {
     "data": {
      "text/plain": [
       "array(['USD', 'NZD', 'GBP', 'AUD', 'BRL', 'EUR', 'ILS', 'ZAR', 'CZK',\n",
       "       'INR', 'SEK', 'CNY', 'PHP', 'PKR', 'CAD', 'HRK', 'RUB', 'ARS',\n",
       "       'IRR', 'HUF', 'HKD', 'AED', 'PLN', 'BGN', 'DKK', 'JPY', 'XPF',\n",
       "       'MXN', 'EGP', 'CHF', 'MUR', 'KRW', 'NOK', 'SGD', 'NGN', 'TRY',\n",
       "       'THB', 'MNT', 'CLP', 'MYR', 'GEL', 'DOP', 'CVE', 'RSD', 'BIF',\n",
       "       'BDT', 'UAH', 'COP', 'GTQ', 'TWD', 'YER', 'IDR', 'BYN', 'RON',\n",
       "       'NPR', 'KES', 'LBP', 'KWD', 'MDL', 'DZD', 'XOF', 'BND', 'JOD',\n",
       "       'ALL', 'AZN', 'LKR', 'GHS', 'PYG', 'PEN', 'CRC', 'BAM', 'VND',\n",
       "       'RWF', 'TND', 'HNL', 'QAR', 'UYU', 'XAF', 'TMT', 'AMD', 'KGS',\n",
       "       'ANG', 'SOS', 'CUP', 'MKD', 'UGX', 'SYP', 'MAD', 'ETB', 'TZS',\n",
       "       'ISK', 'BOB', 'SAR', 'AFN', 'BHD', 'JMD', 'MMK', 'SDG', 'LYD',\n",
       "       'MZN', 'IQD', 'SZL'], dtype=object)"
      ]
     },
     "execution_count": 72,
     "metadata": {},
     "output_type": "execute_result"
    }
   ],
   "source": [
    "df_unique.CurrencySymbol.unique()"
   ]
  },
  {
   "cell_type": "code",
   "execution_count": 73,
   "metadata": {},
   "outputs": [
    {
     "data": {
      "text/plain": [
       "array(['United States dollar', 'New Zealand dollar', 'Pound sterling',\n",
       "       'Australian dollar', 'Brazilian real', 'European Euro',\n",
       "       'Israeli new shekel', 'South African rand', 'Czech koruna',\n",
       "       'Indian rupee', 'Swedish krona', 'Chinese Yuan Renminbi',\n",
       "       'Philippine peso', 'Pakistani rupee', 'Canadian dollar',\n",
       "       'Croatian kuna', 'Russian ruble', 'Argentine peso', 'Iranian rial',\n",
       "       'Hungarian forint', 'Hong Kong dollar',\n",
       "       'United Arab Emirates dirham', 'Polish zloty', 'Bulgarian lev',\n",
       "       'Danish krone', 'Japanese yen', 'CFP franc', 'Mexican peso',\n",
       "       'Egyptian pound', 'Swiss franc', 'Mauritian rupee',\n",
       "       'South Korean won', 'Norwegian krone', 'Singapore dollar',\n",
       "       'Nigerian naira', 'Turkish lira', 'Thai baht', 'Mongolian tugrik',\n",
       "       'Chilean peso', 'Malaysian ringgit', 'Georgian lari',\n",
       "       'Dominican peso', 'Cape Verdean escudo', 'Serbian dinar',\n",
       "       'Burundi franc', 'Bangladeshi taka', 'Ukrainian hryvnia',\n",
       "       'Colombian peso', 'Guatemalan quetzal', 'New Taiwan dollar',\n",
       "       'Yemeni rial', 'Indonesian rupiah', 'Belarusian ruble',\n",
       "       'Romanian leu', 'Nepalese rupee', 'Kenyan shilling',\n",
       "       'Lebanese pound', 'Kuwaiti dinar', 'Moldovan leu',\n",
       "       'Algerian dinar', 'West African CFA franc', 'Brunei dollar',\n",
       "       'Jordanian dinar', 'Albanian lek', 'Azerbaijan manat',\n",
       "       'Sri Lankan rupee', 'Ghanaian cedi', 'Paraguayan guarani',\n",
       "       'Peruvian sol', 'Costa Rican colon',\n",
       "       'Bosnia and Herzegovina convertible mark', 'Vietnamese dong',\n",
       "       'Rwandan franc', 'Tunisian dinar', 'Honduran lempira',\n",
       "       'Qatari riyal', 'Uruguayan peso', 'Central African CFA franc',\n",
       "       'Turkmen manat', 'Armenian dram', 'Kyrgyzstani som',\n",
       "       'Netherlands Antillean guilder', 'Somali shilling', 'Cuban peso',\n",
       "       'Macedonian denar', 'Ugandan shilling', 'Syrian pound',\n",
       "       'Moroccan dirham', 'Ethiopian birr', 'Tanzanian shilling',\n",
       "       'Icelandic krona', 'Bolivian boliviano', 'Saudi Arabian riyal',\n",
       "       'Afghan afghani', 'Bahraini dinar', 'Jamaican dollar',\n",
       "       'Myanmar kyat', 'Sudanese pound', 'Libyan dinar',\n",
       "       'Mozambican metical', 'Iraqi dinar', 'Swazi lilangeni'],\n",
       "      dtype=object)"
      ]
     },
     "execution_count": 73,
     "metadata": {},
     "output_type": "execute_result"
    }
   ],
   "source": [
    "df_unique.CurrencyDesc.unique()"
   ]
  },
  {
   "cell_type": "code",
   "execution_count": 74,
   "metadata": {},
   "outputs": [
    {
     "data": {
      "text/plain": [
       "array([ 61000., 138000.,  90000., ...,  22730., 552000.,  74400.])"
      ]
     },
     "execution_count": 74,
     "metadata": {},
     "output_type": "execute_result"
    }
   ],
   "source": [
    "df_unique.CompTotal.unique()"
   ]
  },
  {
   "cell_type": "code",
   "execution_count": 75,
   "metadata": {},
   "outputs": [
    {
     "data": {
      "text/plain": [
       "array(['Yearly', 'Monthly', 'Weekly', nan], dtype=object)"
      ]
     },
     "execution_count": 75,
     "metadata": {},
     "output_type": "execute_result"
    }
   ],
   "source": [
    "df_unique.CompFreq.unique()"
   ]
  },
  {
   "cell_type": "code",
   "execution_count": 76,
   "metadata": {},
   "outputs": [],
   "source": [
    "df_unique['CompFreq'].fillna('not answer', inplace=True)"
   ]
  },
  {
   "cell_type": "code",
   "execution_count": 77,
   "metadata": {},
   "outputs": [
    {
     "data": {
      "text/plain": [
       "array([61000., 95179., 90000., ..., 38760.,  7724., 19880.])"
      ]
     },
     "execution_count": 77,
     "metadata": {},
     "output_type": "execute_result"
    }
   ],
   "source": [
    "df_unique.ConvertedComp.unique()"
   ]
  },
  {
   "cell_type": "code",
   "execution_count": 78,
   "metadata": {},
   "outputs": [
    {
     "data": {
      "text/plain": [
       "array([  80.  ,   32.  ,   40.  ,   45.  ,    8.  ,  140.  ,   50.  ,\n",
       "         37.  ,   39.  ,   42.  ,    7.  ,   46.  ,   70.  ,   38.  ,\n",
       "         44.  ,   35.  ,    6.  ,     nan,   75.  ,   48.  ,  160.  ,\n",
       "         30.  ,   36.  ,   34.  ,   98.  ,    9.  ,   37.5 ,   60.  ,\n",
       "         20.  ,   24.  ,   55.  ,  100.  ,   43.  ,  375.  ,   41.  ,\n",
       "         38.5 ,   42.5 ,   36.75,   16.  ,   10.  ,   52.  ,   15.  ,\n",
       "          8.5 ,   12.  ,   33.  ,   36.2 ,  385.  ,   47.  ,   49.  ,\n",
       "        168.  ,   65.  ,  475.  ,    7.25,   33.5 ,   58.  ,    4.  ,\n",
       "         28.  ,   25.  ,   36.25,    5.  ,    9.25,   11.  ,   76.  ,\n",
       "         36.5 ,   56.  ,   62.  ,   41.5 ,   63.  ,   21.  ,   72.  ,\n",
       "         51.  ,  150.  ,   90.  ,   54.  ,   43.5 ,   17.  ,   14.  ,\n",
       "         22.  ,    7.5 , 1012.  ,   47.5 ,   29.  ,  113.  ,   45.5 ,\n",
       "         85.  ,   32.5 ,   84.  ,   18.  ,   66.  ,   57.  ,   64.  ,\n",
       "         41.2 ,  355.  ,   13.  ,   31.5 ,   79.  ,  145.  ,   31.  ,\n",
       "         39.5 ,    6.3 ,   23.  ,   37.75,   19.  ,   34.5 ,    3.  ,\n",
       "         74.  ,  130.  ,  425.  ,   27.  ,    9.6 ,    8.2 ,  165.  ,\n",
       "         72.5 ,   61.  ])"
      ]
     },
     "execution_count": 78,
     "metadata": {},
     "output_type": "execute_result"
    }
   ],
   "source": [
    "df_unique.WorkWeekHrs.unique()"
   ]
  },
  {
   "cell_type": "code",
   "execution_count": 79,
   "metadata": {},
   "outputs": [
    {
     "data": {
      "text/plain": [
       "array([\"There's no schedule or spec; I work on what seems most important or urgent\",\n",
       "       'There is a schedule and/or spec (made by me or by a colleague), and my work somewhat aligns',\n",
       "       'There is a schedule and/or spec (made by me or by a colleague), and I follow it very closely',\n",
       "       nan], dtype=object)"
      ]
     },
     "execution_count": 79,
     "metadata": {},
     "output_type": "execute_result"
    }
   ],
   "source": [
    "df_unique.WorkPlan.unique()"
   ]
  },
  {
   "cell_type": "code",
   "execution_count": 80,
   "metadata": {},
   "outputs": [],
   "source": [
    "df_unique['WorkPlan'].fillna('not answer', inplace=True)"
   ]
  },
  {
   "cell_type": "code",
   "execution_count": 81,
   "metadata": {},
   "outputs": [
    {
     "data": {
      "text/plain": [
       "array([nan,\n",
       "       'Being tasked with non-development work;Inadequate access to necessary tools;Not enough people for the workload',\n",
       "       'Meetings;Non-work commitments (parenting, school work, hobbies, etc.);Not enough people for the workload',\n",
       "       'Being tasked with non-development work;Distracting work environment;Meetings',\n",
       "       'Distracting work environment;Meetings;Time spent commuting',\n",
       "       'Lack of support from management;Non-work commitments (parenting, school work, hobbies, etc.);Not enough people for the workload',\n",
       "       'Being tasked with non-development work;Meetings;Not enough people for the workload',\n",
       "       'Distracting work environment;Meetings;Non-work commitments (parenting, school work, hobbies, etc.)',\n",
       "       'Being tasked with non-development work;Meetings;Time spent commuting',\n",
       "       'Distracting work environment;Lack of support from management',\n",
       "       'Inadequate access to necessary tools;Lack of support from management;Not enough people for the workload',\n",
       "       'Distracting work environment;Inadequate access to necessary tools;Not enough people for the workload',\n",
       "       'Meetings;Not enough people for the workload',\n",
       "       'Meetings;Time spent commuting',\n",
       "       'Distracting work environment;Lack of support from management;Not enough people for the workload',\n",
       "       'Being tasked with non-development work;Distracting work environment',\n",
       "       'Meetings;Not enough people for the workload;Time spent commuting',\n",
       "       'Lack of support from management;Meetings;Toxic work environment',\n",
       "       'Not enough people for the workload;Time spent commuting',\n",
       "       'Inadequate access to necessary tools;Lack of support from management;Toxic work environment',\n",
       "       'Lack of support from management;Not enough people for the workload;Toxic work environment',\n",
       "       'Distracting work environment;Not enough people for the workload',\n",
       "       'Being tasked with non-development work;Meetings',\n",
       "       'Not enough people for the workload;Time spent commuting;Toxic work environment',\n",
       "       'Being tasked with non-development work;Distracting work environment;Time spent commuting',\n",
       "       'Inadequate access to necessary tools;Toxic work environment',\n",
       "       'Lack of support from management;Non-work commitments (parenting, school work, hobbies, etc.)',\n",
       "       'Being tasked with non-development work;Distracting work environment;Toxic work environment',\n",
       "       'Being tasked with non-development work;Inadequate access to necessary tools;Non-work commitments (parenting, school work, hobbies, etc.)',\n",
       "       'Distracting work environment;Inadequate access to necessary tools;Time spent commuting',\n",
       "       'Non-work commitments (parenting, school work, hobbies, etc.)',\n",
       "       'Being tasked with non-development work;Inadequate access to necessary tools;Lack of support from management',\n",
       "       'Distracting work environment;Non-work commitments (parenting, school work, hobbies, etc.);Not enough people for the workload',\n",
       "       'Being tasked with non-development work;Distracting work environment;Inadequate access to necessary tools',\n",
       "       'Meetings;Non-work commitments (parenting, school work, hobbies, etc.)',\n",
       "       'Being tasked with non-development work;Lack of support from management;Meetings',\n",
       "       'Inadequate access to necessary tools',\n",
       "       'Distracting work environment;Meetings',\n",
       "       'Meetings;Non-work commitments (parenting, school work, hobbies, etc.);Toxic work environment',\n",
       "       'Being tasked with non-development work;Lack of support from management;Not enough people for the workload',\n",
       "       'Being tasked with non-development work;Not enough people for the workload;Time spent commuting',\n",
       "       'Being tasked with non-development work;Not enough people for the workload;Toxic work environment',\n",
       "       'Inadequate access to necessary tools;Meetings',\n",
       "       'Distracting work environment;Inadequate access to necessary tools;Meetings',\n",
       "       'Being tasked with non-development work;Lack of support from management',\n",
       "       'Being tasked with non-development work;Time spent commuting',\n",
       "       'Distracting work environment;Not enough people for the workload;Time spent commuting',\n",
       "       'Distracting work environment',\n",
       "       'Lack of support from management;Not enough people for the workload',\n",
       "       'Meetings;Not enough people for the workload;Toxic work environment',\n",
       "       'Distracting work environment;Not enough people for the workload;Toxic work environment',\n",
       "       'Non-work commitments (parenting, school work, hobbies, etc.);Time spent commuting',\n",
       "       'Being tasked with non-development work;Non-work commitments (parenting, school work, hobbies, etc.);Time spent commuting',\n",
       "       'Meetings;Time spent commuting;Toxic work environment',\n",
       "       'Distracting work environment;Meetings;Not enough people for the workload',\n",
       "       'Inadequate access to necessary tools;Time spent commuting',\n",
       "       'Meetings',\n",
       "       'Being tasked with non-development work;Distracting work environment;Lack of support from management',\n",
       "       'Lack of support from management;Not enough people for the workload;Time spent commuting',\n",
       "       'Distracting work environment;Time spent commuting;Toxic work environment',\n",
       "       'Lack of support from management;Time spent commuting',\n",
       "       'Being tasked with non-development work;Non-work commitments (parenting, school work, hobbies, etc.)',\n",
       "       'Being tasked with non-development work;Inadequate access to necessary tools',\n",
       "       'Distracting work environment;Lack of support from management;Toxic work environment',\n",
       "       'Being tasked with non-development work;Meetings;Non-work commitments (parenting, school work, hobbies, etc.)',\n",
       "       'Non-work commitments (parenting, school work, hobbies, etc.);Not enough people for the workload;Toxic work environment',\n",
       "       'Being tasked with non-development work;Lack of support from management;Non-work commitments (parenting, school work, hobbies, etc.)',\n",
       "       'Being tasked with non-development work;Distracting work environment;Not enough people for the workload',\n",
       "       'Distracting work environment;Meetings;Toxic work environment',\n",
       "       'Time spent commuting',\n",
       "       'Distracting work environment;Non-work commitments (parenting, school work, hobbies, etc.)',\n",
       "       'Not enough people for the workload;Toxic work environment',\n",
       "       'Distracting work environment;Non-work commitments (parenting, school work, hobbies, etc.);Toxic work environment',\n",
       "       'Lack of support from management;Meetings;Time spent commuting',\n",
       "       'Distracting work environment;Non-work commitments (parenting, school work, hobbies, etc.);Time spent commuting',\n",
       "       'Not enough people for the workload',\n",
       "       'Being tasked with non-development work;Lack of support from management;Toxic work environment',\n",
       "       'Inadequate access to necessary tools;Non-work commitments (parenting, school work, hobbies, etc.);Not enough people for the workload',\n",
       "       'Distracting work environment;Lack of support from management;Meetings',\n",
       "       'Being tasked with non-development work;Inadequate access to necessary tools;Time spent commuting',\n",
       "       'Inadequate access to necessary tools;Not enough people for the workload;Time spent commuting',\n",
       "       'Inadequate access to necessary tools;Meetings;Time spent commuting',\n",
       "       'Distracting work environment;Inadequate access to necessary tools;Lack of support from management',\n",
       "       'Being tasked with non-development work;Distracting work environment;Non-work commitments (parenting, school work, hobbies, etc.)',\n",
       "       'Lack of support from management;Meetings',\n",
       "       'Non-work commitments (parenting, school work, hobbies, etc.);Time spent commuting;Toxic work environment',\n",
       "       'Lack of support from management;Meetings;Not enough people for the workload',\n",
       "       'Being tasked with non-development work',\n",
       "       'Being tasked with non-development work;Meetings;Toxic work environment',\n",
       "       'Distracting work environment;Lack of support from management;Non-work commitments (parenting, school work, hobbies, etc.)',\n",
       "       'Meetings;Non-work commitments (parenting, school work, hobbies, etc.);Time spent commuting',\n",
       "       'Being tasked with non-development work;Time spent commuting;Toxic work environment',\n",
       "       'Distracting work environment;Inadequate access to necessary tools;Toxic work environment',\n",
       "       'Lack of support from management;Toxic work environment',\n",
       "       'Inadequate access to necessary tools;Lack of support from management',\n",
       "       'Being tasked with non-development work;Lack of support from management;Time spent commuting',\n",
       "       'Being tasked with non-development work;Not enough people for the workload',\n",
       "       'Distracting work environment;Inadequate access to necessary tools',\n",
       "       'Inadequate access to necessary tools;Not enough people for the workload;Toxic work environment',\n",
       "       'Distracting work environment;Toxic work environment',\n",
       "       'Being tasked with non-development work;Inadequate access to necessary tools;Meetings',\n",
       "       'Being tasked with non-development work;Non-work commitments (parenting, school work, hobbies, etc.);Toxic work environment',\n",
       "       'Inadequate access to necessary tools;Not enough people for the workload',\n",
       "       'Inadequate access to necessary tools;Meetings;Toxic work environment',\n",
       "       'Lack of support from management',\n",
       "       'Lack of support from management;Non-work commitments (parenting, school work, hobbies, etc.);Toxic work environment',\n",
       "       'Inadequate access to necessary tools;Meetings;Not enough people for the workload',\n",
       "       'Inadequate access to necessary tools;Time spent commuting;Toxic work environment',\n",
       "       'Non-work commitments (parenting, school work, hobbies, etc.);Not enough people for the workload;Time spent commuting',\n",
       "       'Distracting work environment;Inadequate access to necessary tools;Non-work commitments (parenting, school work, hobbies, etc.)',\n",
       "       'Distracting work environment;Time spent commuting',\n",
       "       'Inadequate access to necessary tools;Non-work commitments (parenting, school work, hobbies, etc.);Toxic work environment',\n",
       "       'Inadequate access to necessary tools;Lack of support from management;Meetings',\n",
       "       'Time spent commuting;Toxic work environment',\n",
       "       'Lack of support from management;Meetings;Non-work commitments (parenting, school work, hobbies, etc.)',\n",
       "       'Non-work commitments (parenting, school work, hobbies, etc.);Not enough people for the workload',\n",
       "       'Being tasked with non-development work;Non-work commitments (parenting, school work, hobbies, etc.);Not enough people for the workload',\n",
       "       'Meetings;Toxic work environment',\n",
       "       'Being tasked with non-development work;Inadequate access to necessary tools;Toxic work environment',\n",
       "       'Distracting work environment;Lack of support from management;Time spent commuting',\n",
       "       'Toxic work environment',\n",
       "       'Being tasked with non-development work;Toxic work environment',\n",
       "       'Lack of support from management;Non-work commitments (parenting, school work, hobbies, etc.);Time spent commuting',\n",
       "       'Inadequate access to necessary tools;Non-work commitments (parenting, school work, hobbies, etc.)',\n",
       "       'Inadequate access to necessary tools;Lack of support from management;Non-work commitments (parenting, school work, hobbies, etc.)',\n",
       "       'Inadequate access to necessary tools;Non-work commitments (parenting, school work, hobbies, etc.);Time spent commuting',\n",
       "       'Inadequate access to necessary tools;Lack of support from management;Time spent commuting',\n",
       "       'Lack of support from management;Time spent commuting;Toxic work environment',\n",
       "       'Inadequate access to necessary tools;Meetings;Non-work commitments (parenting, school work, hobbies, etc.)',\n",
       "       'Non-work commitments (parenting, school work, hobbies, etc.);Toxic work environment'],\n",
       "      dtype=object)"
      ]
     },
     "execution_count": 81,
     "metadata": {},
     "output_type": "execute_result"
    }
   ],
   "source": [
    "df_unique.WorkChallenge.unique()"
   ]
  },
  {
   "cell_type": "code",
   "execution_count": 82,
   "metadata": {},
   "outputs": [
    {
     "name": "stdout",
     "output_type": "stream",
     "text": [
      "WorkChallenge\n",
      "Distracting work environment                                    4797\n",
      "Meetings                                                        4335\n",
      "Being tasked with non-development work                          4147\n",
      "Not enough people for the workload                              3917\n",
      "Lack of support from management                                 3097\n",
      "Time spent commuting                                            2447\n",
      "Toxic work environment                                          2366\n",
      "Inadequate access to necessary tools                            2303\n",
      "Non-work commitments (parenting, school work, hobbies, etc.)    2086\n",
      "Name: count, dtype: int64\n"
     ]
    }
   ],
   "source": [
    "df_unique, WorkChallenge_Counts = process_complex_column(df_unique, 'WorkChallenge')\n",
    "print(WorkChallenge_Counts)"
   ]
  },
  {
   "cell_type": "code",
   "execution_count": 83,
   "metadata": {},
   "outputs": [
    {
     "data": {
      "text/plain": [
       "array(['Less than once per month / Never',\n",
       "       \"All or almost all the time (I'm full-time remote)\",\n",
       "       'A few days each month', 'More than half, but not all, the time',\n",
       "       'Less than half the time, but at least one day each week',\n",
       "       \"It's complicated\", 'About half the time', nan], dtype=object)"
      ]
     },
     "execution_count": 83,
     "metadata": {},
     "output_type": "execute_result"
    }
   ],
   "source": [
    "df_unique.WorkRemote.unique()"
   ]
  },
  {
   "cell_type": "code",
   "execution_count": 84,
   "metadata": {},
   "outputs": [],
   "source": [
    "df_unique['WorkRemote'].fillna('not answer', inplace=True)"
   ]
  },
  {
   "cell_type": "code",
   "execution_count": 85,
   "metadata": {},
   "outputs": [
    {
     "data": {
      "text/plain": [
       "array(['Home', 'Office', 'Other place, such as a coworking space or cafe'],\n",
       "      dtype=object)"
      ]
     },
     "execution_count": 85,
     "metadata": {},
     "output_type": "execute_result"
    }
   ],
   "source": [
    "df_unique.WorkLoc.unique()"
   ]
  },
  {
   "cell_type": "code",
   "execution_count": 86,
   "metadata": {},
   "outputs": [
    {
     "data": {
      "text/plain": [
       "array(['A little below average', 'A little above average', 'Average',\n",
       "       'Far above average', 'Far below average', nan], dtype=object)"
      ]
     },
     "execution_count": 86,
     "metadata": {},
     "output_type": "execute_result"
    }
   ],
   "source": [
    "df_unique.ImpSyn.unique()"
   ]
  },
  {
   "cell_type": "code",
   "execution_count": 87,
   "metadata": {},
   "outputs": [],
   "source": [
    "df_unique['ImpSyn'].fillna('not answer', inplace=True)"
   ]
  },
  {
   "cell_type": "code",
   "execution_count": 88,
   "metadata": {},
   "outputs": [
    {
     "data": {
      "text/plain": [
       "array(['No', 'Yes, because I see value in code review',\n",
       "       'Yes, because I was told to do so', nan], dtype=object)"
      ]
     },
     "execution_count": 88,
     "metadata": {},
     "output_type": "execute_result"
    }
   ],
   "source": [
    "df_unique.CodeRev.unique()"
   ]
  },
  {
   "cell_type": "code",
   "execution_count": 89,
   "metadata": {},
   "outputs": [],
   "source": [
    "df_unique['CodeRev'].fillna('not answer', inplace=True)"
   ]
  },
  {
   "cell_type": "code",
   "execution_count": 90,
   "metadata": {},
   "outputs": [
    {
     "data": {
      "text/plain": [
       "array([     nan, 1.20e+01, 5.00e+00, 3.00e+00, 1.00e+00, 8.00e+00,\n",
       "       2.00e+00, 1.00e+01, 1.50e+01, 4.00e+00, 2.00e+01, 2.50e+00,\n",
       "       6.00e+00, 1.60e+01, 7.00e+00, 5.00e-02, 5.00e-01, 9.00e+00,\n",
       "       0.00e+00, 2.50e-01, 3.00e+01, 1.50e+00, 2.50e+01, 2.20e+01,\n",
       "       4.00e+01, 1.80e+01, 1.30e+01, 5.00e+01, 7.19e+00, 2.40e+01,\n",
       "       7.50e+00, 1.40e+01, 4.00e-01, 1.00e-02, 2.00e-01, 4.80e+01,\n",
       "       1.00e-01, 3.50e+01, 3.60e+01, 3.00e-01, 1.70e+01, 9.90e+01,\n",
       "       2.10e+01, 6.00e+01, 4.50e+01, 6.50e+00, 1.10e+01, 9.00e+01,\n",
       "       5.40e+01, 2.80e+01, 5.20e+01])"
      ]
     },
     "execution_count": 90,
     "metadata": {},
     "output_type": "execute_result"
    }
   ],
   "source": [
    "df_unique.CodeRevHrs.unique()"
   ]
  },
  {
   "cell_type": "code",
   "execution_count": 91,
   "metadata": {},
   "outputs": [
    {
     "data": {
      "text/plain": [
       "array(['Developers typically have the most influence on purchasing new technology',\n",
       "       'Not sure',\n",
       "       'Developers and management have nearly equal input into purchasing new technology',\n",
       "       'The CTO, CIO, or other management purchase new technology typically without the involvement of developers',\n",
       "       nan], dtype=object)"
      ]
     },
     "execution_count": 91,
     "metadata": {},
     "output_type": "execute_result"
    }
   ],
   "source": [
    "df_unique.PurchaseHow.unique()"
   ]
  },
  {
   "cell_type": "code",
   "execution_count": 92,
   "metadata": {},
   "outputs": [],
   "source": [
    "df_unique['PurchaseHow'].fillna('not answer', inplace=True)"
   ]
  },
  {
   "cell_type": "code",
   "execution_count": 93,
   "metadata": {},
   "outputs": [
    {
     "data": {
      "text/plain": [
       "array(['I have little or no influence', 'I have some influence',\n",
       "       'I have a great deal of influence', nan], dtype=object)"
      ]
     },
     "execution_count": 93,
     "metadata": {},
     "output_type": "execute_result"
    }
   ],
   "source": [
    "df_unique.PurchaseWhat.unique()"
   ]
  },
  {
   "cell_type": "code",
   "execution_count": 94,
   "metadata": {},
   "outputs": [],
   "source": [
    "df_unique['PurchaseWhat'].fillna('not answer', inplace=True)"
   ]
  },
  {
   "cell_type": "code",
   "execution_count": 95,
   "metadata": {},
   "outputs": [
    {
     "data": {
      "text/plain": [
       "array(['C;C++;C#;Python;SQL',\n",
       "       'Bash/Shell/PowerShell;C#;HTML/CSS;JavaScript;Python;Ruby;Rust;SQL;TypeScript;WebAssembly;Other(s):',\n",
       "       'Bash/Shell/PowerShell;HTML/CSS;JavaScript;PHP;SQL;TypeScript',\n",
       "       ...,\n",
       "       'Assembly;Bash/Shell/PowerShell;C;C++;C#;Java;JavaScript;PHP;Python;SQL;Other(s):',\n",
       "       'Bash/Shell/PowerShell;C++;C#;HTML/CSS;Java;JavaScript;Python;SQL;Swift;TypeScript',\n",
       "       'Bash/Shell/PowerShell;C;C++;Go;HTML/CSS;PHP;Python;R'],\n",
       "      dtype=object)"
      ]
     },
     "execution_count": 95,
     "metadata": {},
     "output_type": "execute_result"
    }
   ],
   "source": [
    "df_unique.LanguageWorkedWith.unique()"
   ]
  },
  {
   "cell_type": "code",
   "execution_count": 96,
   "metadata": {},
   "outputs": [
    {
     "name": "stdout",
     "output_type": "stream",
     "text": [
      "LanguageWorkedWith\n",
      "JavaScript               8687\n",
      "HTML/CSS                 7830\n",
      "SQL                      7106\n",
      "Bash/Shell/PowerShell    4642\n",
      "Python                   4542\n",
      "Java                     4506\n",
      "C#                       4288\n",
      "TypeScript               3232\n",
      "PHP                      2913\n",
      "C++                      1946\n",
      "C                        1578\n",
      "Ruby                     1149\n",
      "Go                       1114\n",
      "Other(s):                 840\n",
      "Kotlin                    751\n",
      "Swift                     707\n",
      "VBA                       628\n",
      "R                         585\n",
      "Objective-C               518\n",
      "Scala                     492\n",
      "Assembly                  437\n",
      "Rust                      324\n",
      "Dart                      237\n",
      "Elixir                    187\n",
      "Clojure                   164\n",
      "F#                        158\n",
      "WebAssembly               133\n",
      "Erlang                     98\n",
      "Name: count, dtype: int64\n"
     ]
    }
   ],
   "source": [
    "df_unique, LanguageWorkedWith_Counts = process_complex_column(df_unique, 'LanguageWorkedWith')\n",
    "print(LanguageWorkedWith_Counts)"
   ]
  },
  {
   "cell_type": "code",
   "execution_count": 97,
   "metadata": {},
   "outputs": [
    {
     "data": {
      "text/plain": [
       "array(['C;C#;JavaScript;SQL',\n",
       "       'Bash/Shell/PowerShell;C;HTML/CSS;JavaScript;Ruby;Rust;SQL;TypeScript;WebAssembly;Other(s):',\n",
       "       'Bash/Shell/PowerShell;HTML/CSS;JavaScript;Rust;SQL;TypeScript;WebAssembly',\n",
       "       ..., 'F#;Java;R;TypeScript;WebAssembly',\n",
       "       'C#;F#;JavaScript;SQL;TypeScript;WebAssembly', 'C++;C#;F#'],\n",
       "      dtype=object)"
      ]
     },
     "execution_count": 97,
     "metadata": {},
     "output_type": "execute_result"
    }
   ],
   "source": [
    "df_unique.LanguageDesireNextYear.unique()"
   ]
  },
  {
   "cell_type": "code",
   "execution_count": 98,
   "metadata": {},
   "outputs": [
    {
     "name": "stdout",
     "output_type": "stream",
     "text": [
      "LanguageDesireNextYear\n",
      "JavaScript               6630\n",
      "HTML/CSS                 5328\n",
      "Python                   5239\n",
      "SQL                      5012\n",
      "TypeScript               4088\n",
      "C#                       3591\n",
      "Bash/Shell/PowerShell    3097\n",
      "Java                     2953\n",
      "Go                       2759\n",
      "Kotlin                   1890\n",
      "C++                      1633\n",
      "Rust                     1520\n",
      "PHP                      1457\n",
      "WebAssembly              1397\n",
      "Swift                    1179\n",
      "Ruby                     1029\n",
      "C                        1028\n",
      "Scala                     879\n",
      "R                         850\n",
      "Other(s):                 836\n",
      "F#                        621\n",
      "Elixir                    620\n",
      "Dart                      610\n",
      "Clojure                   413\n",
      "Assembly                  336\n",
      "Objective-C               310\n",
      "Erlang                    310\n",
      "VBA                       149\n",
      "Name: count, dtype: int64\n"
     ]
    }
   ],
   "source": [
    "df_unique, LanguageDesireNextYear_Counts = process_complex_column(df_unique, 'LanguageDesireNextYear')\n",
    "print(LanguageDesireNextYear_Counts)"
   ]
  },
  {
   "cell_type": "code",
   "execution_count": 99,
   "metadata": {},
   "outputs": [
    {
     "data": {
      "text/plain": [
       "array(['MySQL;SQLite', 'DynamoDB;PostgreSQL;SQLite',\n",
       "       'Couchbase;DynamoDB;Firebase;MySQL', ...,\n",
       "       'Cassandra;MariaDB;MongoDB;MySQL;PostgreSQL;Redis',\n",
       "       'Cassandra;Couchbase;Elasticsearch;MongoDB;MySQL;Oracle;Other(s):',\n",
       "       'Cassandra;Elasticsearch;MariaDB;MongoDB;PostgreSQL;Redis'],\n",
       "      dtype=object)"
      ]
     },
     "execution_count": 99,
     "metadata": {},
     "output_type": "execute_result"
    }
   ],
   "source": [
    "df_unique.DatabaseWorkedWith.unique()"
   ]
  },
  {
   "cell_type": "code",
   "execution_count": 100,
   "metadata": {},
   "outputs": [
    {
     "name": "stdout",
     "output_type": "stream",
     "text": [
      "DatabaseWorkedWith\n",
      "MySQL                   5469\n",
      "Microsoft SQL Server    4110\n",
      "PostgreSQL              4097\n",
      "SQLite                  3248\n",
      "MongoDB                 3016\n",
      "Redis                   2508\n",
      "Elasticsearch           1954\n",
      "Oracle                  1744\n",
      "MariaDB                 1709\n",
      "Firebase                1314\n",
      "DynamoDB                 831\n",
      "Other(s):                728\n",
      "Cassandra                397\n",
      "Couchbase                250\n",
      "Name: count, dtype: int64\n"
     ]
    }
   ],
   "source": [
    "df_unique, DatabaseWorkedWith_Counts = process_complex_column(df_unique, 'DatabaseWorkedWith')\n",
    "print(DatabaseWorkedWith_Counts)"
   ]
  },
  {
   "cell_type": "code",
   "execution_count": 101,
   "metadata": {},
   "outputs": [
    {
     "data": {
      "text/plain": [
       "array(['MySQL;SQLite', 'PostgreSQL;Redis;SQLite', 'Firebase;MySQL;Redis',\n",
       "       ...,\n",
       "       'Elasticsearch;Firebase;MongoDB;Microsoft SQL Server;MySQL;Oracle;PostgreSQL;Redis;SQLite',\n",
       "       'Couchbase;Oracle', 'Couchbase;Firebase;MariaDB;MongoDB;Oracle'],\n",
       "      dtype=object)"
      ]
     },
     "execution_count": 101,
     "metadata": {},
     "output_type": "execute_result"
    }
   ],
   "source": [
    "df_unique.DatabaseDesireNextYear.unique()"
   ]
  },
  {
   "cell_type": "code",
   "execution_count": 102,
   "metadata": {},
   "outputs": [
    {
     "name": "stdout",
     "output_type": "stream",
     "text": [
      "DatabaseDesireNextYear\n",
      "PostgreSQL              4328\n",
      "MongoDB                 3649\n",
      "Redis                   3331\n",
      "MySQL                   3281\n",
      "Elasticsearch           2856\n",
      "Microsoft SQL Server    2706\n",
      "SQLite                  2437\n",
      "Firebase                1650\n",
      "MariaDB                 1385\n",
      "DynamoDB                1044\n",
      "Cassandra               1003\n",
      "Oracle                   870\n",
      "Other(s):                645\n",
      "Couchbase                390\n",
      "Name: count, dtype: int64\n"
     ]
    }
   ],
   "source": [
    "df_unique, DatabaseDesireNextYear_Counts = process_complex_column(df_unique, 'DatabaseDesireNextYear')\n",
    "print(DatabaseDesireNextYear_Counts)"
   ]
  },
  {
   "cell_type": "code",
   "execution_count": 103,
   "metadata": {},
   "outputs": [
    {
     "data": {
      "text/plain": [
       "array(['Linux;Windows', 'AWS;Docker;Heroku;Linux;MacOS;Slack',\n",
       "       'Android;AWS;Docker;IBM Cloud or Watson;iOS;Linux;MacOS;Microsoft Azure;Slack;Windows;WordPress',\n",
       "       ...,\n",
       "       'Android;AWS;Google Cloud Platform;iOS;MacOS;Microsoft Azure;Raspberry Pi',\n",
       "       'Android;Google Cloud Platform;Heroku;iOS;Linux',\n",
       "       'Android;Heroku;iOS;Linux;MacOS;Microsoft Azure;Windows;WordPress'],\n",
       "      dtype=object)"
      ]
     },
     "execution_count": 103,
     "metadata": {},
     "output_type": "execute_result"
    }
   ],
   "source": [
    "df_unique.PlatformWorkedWith.unique()"
   ]
  },
  {
   "cell_type": "code",
   "execution_count": 104,
   "metadata": {},
   "outputs": [
    {
     "name": "stdout",
     "output_type": "stream",
     "text": [
      "PlatformWorkedWith\n",
      "Linux                    5811\n",
      "Windows                  5563\n",
      "Docker                   4378\n",
      "AWS                      3588\n",
      "Slack                    2786\n",
      "MacOS                    2718\n",
      "Android                  2693\n",
      "Microsoft Azure          1711\n",
      "Raspberry Pi             1614\n",
      "WordPress                1490\n",
      "Google Cloud Platform    1454\n",
      "iOS                      1438\n",
      "Heroku                   1268\n",
      "Kubernetes               1238\n",
      "Arduino                   914\n",
      "Other(s):                 329\n",
      "IBM Cloud or Watson       215\n",
      "Name: count, dtype: int64\n"
     ]
    }
   ],
   "source": [
    "df_unique, PlatformWorkedWith_Counts = process_complex_column(df_unique, 'PlatformWorkedWith')\n",
    "print(PlatformWorkedWith_Counts)"
   ]
  },
  {
   "cell_type": "code",
   "execution_count": 105,
   "metadata": {},
   "outputs": [
    {
     "data": {
      "text/plain": [
       "array(['Linux;Windows', 'AWS;Docker;Heroku;Linux;MacOS;Slack;Other(s):',\n",
       "       'Android;AWS;Docker;IBM Cloud or Watson;Linux;Slack;Windows;WordPress',\n",
       "       ..., 'Android;AWS;Slack',\n",
       "       'Android;Docker;Google Cloud Platform;Kubernetes;MacOS;Windows',\n",
       "       'Android;AWS;Google Cloud Platform;iOS;MacOS;Microsoft Azure'],\n",
       "      dtype=object)"
      ]
     },
     "execution_count": 105,
     "metadata": {},
     "output_type": "execute_result"
    }
   ],
   "source": [
    "df_unique.PlatformDesireNextYear.unique()"
   ]
  },
  {
   "cell_type": "code",
   "execution_count": 106,
   "metadata": {},
   "outputs": [
    {
     "name": "stdout",
     "output_type": "stream",
     "text": [
      "PlatformDesireNextYear\n",
      "Linux                    5865\n",
      "Docker                   5804\n",
      "AWS                      4442\n",
      "Windows                  3888\n",
      "Android                  3231\n",
      "Kubernetes               3201\n",
      "MacOS                    2593\n",
      "Raspberry Pi             2525\n",
      "Google Cloud Platform    2401\n",
      "Slack                    2359\n",
      "Microsoft Azure          2114\n",
      "iOS                      1987\n",
      "Arduino                  1399\n",
      "Heroku                   1121\n",
      "WordPress                 704\n",
      "IBM Cloud or Watson       373\n",
      "Other(s):                 307\n",
      "Name: count, dtype: int64\n"
     ]
    }
   ],
   "source": [
    "df_unique, PlatformDesireNextYear_Counts = process_complex_column(df_unique, 'PlatformDesireNextYear')\n",
    "print(PlatformDesireNextYear_Counts)"
   ]
  },
  {
   "cell_type": "code",
   "execution_count": 107,
   "metadata": {},
   "outputs": [
    {
     "data": {
      "text/plain": [
       "array([nan, 'Express;Ruby on Rails;Other(s):',\n",
       "       'Angular/Angular.js;ASP.NET;Express;jQuery;Vue.js', ...,\n",
       "       'Angular/Angular.js;Django;Drupal;Express;Spring',\n",
       "       'ASP.NET;Express;Flask;React.js',\n",
       "       'Angular/Angular.js;Django;React.js;Spring'], dtype=object)"
      ]
     },
     "execution_count": 107,
     "metadata": {},
     "output_type": "execute_result"
    }
   ],
   "source": [
    "df_unique.WebFrameWorkedWith.unique()"
   ]
  },
  {
   "cell_type": "code",
   "execution_count": 108,
   "metadata": {},
   "outputs": [
    {
     "name": "stdout",
     "output_type": "stream",
     "text": [
      "WebFrameWorkedWith\n",
      "jQuery                4629\n",
      "Angular/Angular.js    3327\n",
      "React.js              3302\n",
      "ASP.NET               3042\n",
      "Express               2028\n",
      "Spring                1728\n",
      "Vue.js                1485\n",
      "Flask                 1186\n",
      "Django                1176\n",
      "Laravel                939\n",
      "Ruby on Rails          856\n",
      "Other(s):              814\n",
      "Drupal                 291\n",
      "Name: count, dtype: int64\n"
     ]
    }
   ],
   "source": [
    "df_unique, WebFrameWorkedWith_Counts = process_complex_column(df_unique, 'WebFrameWorkedWith')\n",
    "print(WebFrameWorkedWith_Counts)"
   ]
  },
  {
   "cell_type": "code",
   "execution_count": 109,
   "metadata": {},
   "outputs": [
    {
     "data": {
      "text/plain": [
       "array([nan, 'Express;Ruby on Rails;Other(s):', 'Express;Vue.js', ...,\n",
       "       'Angular/Angular.js;Django;Flask;jQuery;Vue.js',\n",
       "       'Django;Laravel;React.js;Ruby on Rails;Vue.js',\n",
       "       'Django;jQuery;Laravel;React.js;Spring;Vue.js'], dtype=object)"
      ]
     },
     "execution_count": 109,
     "metadata": {},
     "output_type": "execute_result"
    }
   ],
   "source": [
    "df_unique.WebFrameDesireNextYear.unique()"
   ]
  },
  {
   "cell_type": "code",
   "execution_count": 110,
   "metadata": {},
   "outputs": [
    {
     "name": "stdout",
     "output_type": "stream",
     "text": [
      "WebFrameDesireNextYear\n",
      "React.js              4714\n",
      "Vue.js                3143\n",
      "Angular/Angular.js    3059\n",
      "ASP.NET               2382\n",
      "jQuery                2241\n",
      "Express               1957\n",
      "Spring                1564\n",
      "Django                1504\n",
      "Flask                 1240\n",
      "Ruby on Rails          970\n",
      "Laravel                863\n",
      "Other(s):              762\n",
      "Drupal                 168\n",
      "Name: count, dtype: int64\n"
     ]
    }
   ],
   "source": [
    "df_unique, WebFrameDesireNextYear_Counts = process_complex_column(df_unique, 'WebFrameDesireNextYear')\n",
    "print(WebFrameDesireNextYear_Counts)"
   ]
  },
  {
   "cell_type": "code",
   "execution_count": 111,
   "metadata": {},
   "outputs": [
    {
     "data": {
      "text/plain": [
       "array(['.NET', 'Node.js;Unity 3D', 'Node.js;Xamarin',\n",
       "       '.NET;.NET Core;Node.js', 'Node.js', '.NET;Pandas', nan,\n",
       "       '.NET;.NET Core;Node.js;Xamarin',\n",
       "       '.NET;.NET Core;Node.js;Unity 3D;Xamarin', '.NET;.NET Core',\n",
       "       'Ansible;Cordova;Node.js', 'Ansible',\n",
       "       'Ansible;Chef;Node.js;Puppet',\n",
       "       'Cordova;.NET;.NET Core;Node.js;Unity 3D;Xamarin',\n",
       "       '.NET;Node.js;React Native', 'Node.js;Unity 3D;Xamarin',\n",
       "       'Node.js;TensorFlow', 'Hadoop', 'Cordova;Node.js;React Native',\n",
       "       '.NET;.NET Core;TensorFlow;Torch/PyTorch;Xamarin',\n",
       "       'Node.js;React Native', 'Unity 3D', 'Node.js;Pandas;Torch/PyTorch',\n",
       "       '.NET;Node.js', 'Apache Spark', '.NET;.NET Core;Pandas',\n",
       "       'Apache Spark;Hadoop;Pandas', 'Node.js;Puppet', 'Pandas',\n",
       "       '.NET;Node.js;Unity 3D', 'Ansible;Puppet', 'TensorFlow',\n",
       "       'Cordova;Flutter;Node.js;Pandas;TensorFlow;Torch/PyTorch;Xamarin',\n",
       "       'Ansible;Apache Spark;.NET;.NET Core;Node.js;Pandas;Puppet;React Native;TensorFlow',\n",
       "       '.NET;.NET Core;Xamarin', 'Ansible;Node.js;React Native',\n",
       "       'React Native', 'Flutter', 'Cordova;TensorFlow;Torch/PyTorch',\n",
       "       'Apache Spark;Pandas', 'Other(s):', 'Node.js;Pandas',\n",
       "       'Apache Spark;.NET;.NET Core;Node.js', 'Ansible;.NET',\n",
       "       'Ansible;Node.js', 'Apache Spark;.NET;.NET Core',\n",
       "       'Hadoop;.NET Core;Node.js;Unity 3D', 'Apache Spark;Node.js',\n",
       "       'Cordova;.NET;.NET Core;Node.js',\n",
       "       'Cordova;.NET;.NET Core;Node.js;Xamarin', '.NET Core',\n",
       "       '.NET;.NET Core;React Native', '.NET Core;Unity 3D',\n",
       "       'Node.js;Other(s):', '.NET;.NET Core;Unity 3D;Xamarin',\n",
       "       'Ansible;Node.js;Unity 3D;Unreal Engine',\n",
       "       '.NET;.NET Core;React Native;Xamarin', 'Cordova;.NET;Node.js',\n",
       "       'Cordova;Node.js', '.NET;.NET Core;Node.js;React Native',\n",
       "       'Pandas;TensorFlow;Torch/PyTorch', 'Ansible;Pandas;React Native',\n",
       "       'Cordova;.NET;Xamarin',\n",
       "       'Ansible;Chef;Node.js;React Native;TensorFlow', 'Chef;Node.js',\n",
       "       'Pandas;TensorFlow', 'Cordova;React Native', 'Flutter;Node.js',\n",
       "       'Node.js;Pandas;React Native;TensorFlow',\n",
       "       'Node.js;Pandas;TensorFlow;Torch/PyTorch', 'Pandas;Unity 3D',\n",
       "       'Ansible;Cordova;Flutter;Node.js;React Native;Other(s):',\n",
       "       '.NET Core;Node.js', 'TensorFlow;Torch/PyTorch',\n",
       "       'Apache Spark;Chef;.NET Core', 'Hadoop;Pandas',\n",
       "       'Cordova;.NET;Node.js;Unity 3D', 'Chef;Node.js;Pandas;Puppet',\n",
       "       'Ansible;Chef;Cordova;Node.js;React Native;TensorFlow;Unity 3D;Unreal Engine',\n",
       "       'Cordova;.NET;Node.js;React Native;Xamarin',\n",
       "       'Apache Spark;TensorFlow', '.NET;Xamarin',\n",
       "       'Hadoop;Node.js;TensorFlow', 'Pandas;React Native',\n",
       "       'Apache Spark;.NET;.NET Core;Node.js;Pandas;TensorFlow;Unity 3D',\n",
       "       'Ansible;Chef;Node.js', '.NET;Node.js;Xamarin',\n",
       "       'Cordova;.NET;.NET Core;Xamarin',\n",
       "       'Node.js;Pandas;Puppet;Torch/PyTorch',\n",
       "       'Apache Spark;Hadoop;Node.js;Pandas', 'Node.js;Pandas;TensorFlow',\n",
       "       '.NET;.NET Core;React Native;Unity 3D', 'React Native;Unity 3D',\n",
       "       'Chef', 'Ansible;Cordova;Unity 3D', 'Unity 3D;Unreal Engine',\n",
       "       'Ansible;.NET;.NET Core;Node.js;Unity 3D;Xamarin',\n",
       "       'Flutter;Node.js;Pandas', 'Node.js;React Native;Other(s):',\n",
       "       'Ansible;Other(s):', '.NET;.NET Core;Node.js;Other(s):',\n",
       "       'Chef;TensorFlow;Unreal Engine', '.NET;Node.js;Torch/PyTorch',\n",
       "       '.NET;Unity 3D', 'Ansible;Pandas;Unity 3D',\n",
       "       'Node.js;Pandas;React Native;TensorFlow;Torch/PyTorch;Unity 3D',\n",
       "       '.NET;.NET Core;Node.js;TensorFlow;Torch/PyTorch;Unity 3D;Unreal Engine',\n",
       "       'Apache Spark;.NET Core;Torch/PyTorch', '.NET;.NET Core;Unity 3D',\n",
       "       '.NET;.NET Core;Other(s):',\n",
       "       '.NET;.NET Core;Node.js;TensorFlow;Xamarin',\n",
       "       'Node.js;React Native;Xamarin', 'Cordova;Flutter;Node.js',\n",
       "       'Cordova;Flutter;.NET;Node.js;Pandas;React Native;TensorFlow;Torch/PyTorch',\n",
       "       'Chef;Node.js;Other(s):', 'Node.js;Puppet;TensorFlow',\n",
       "       'Apache Spark;Flutter;Hadoop',\n",
       "       'Ansible;Apache Spark;Pandas;React Native',\n",
       "       'Ansible;Flutter;.NET;.NET Core;Node.js;React Native;Xamarin',\n",
       "       'Ansible;.NET;.NET Core',\n",
       "       '.NET;.NET Core;Node.js;Unity 3D;Unreal Engine;Xamarin',\n",
       "       'Hadoop;Pandas;TensorFlow', 'Ansible;Chef',\n",
       "       'Ansible;Node.js;Puppet',\n",
       "       'Cordova;.NET;.NET Core;Node.js;React Native;Xamarin',\n",
       "       'Ansible;Node.js;Other(s):', '.NET;TensorFlow', 'Ansible;Pandas',\n",
       "       '.NET;Node.js;TensorFlow', 'Flutter;Node.js;React Native',\n",
       "       '.NET;Pandas;Other(s):', 'Flutter;Xamarin',\n",
       "       'Flutter;.NET;.NET Core;Node.js;Pandas;TensorFlow;Other(s):',\n",
       "       'Hadoop;Node.js;Pandas;TensorFlow', 'Node.js;Puppet;React Native',\n",
       "       'Cordova;Node.js;React Native;Xamarin',\n",
       "       'Ansible;Node.js;Pandas;TensorFlow;Torch/PyTorch', 'Puppet',\n",
       "       '.NET;.NET Core;Node.js;Unity 3D',\n",
       "       'Ansible;.NET;.NET Core;Node.js;Unity 3D',\n",
       "       'Ansible;Pandas;TensorFlow;Torch/PyTorch',\n",
       "       'Ansible;Apache Spark;Hadoop;Node.js;Pandas;TensorFlow;Torch/PyTorch',\n",
       "       'Apache Spark;.NET Core;Node.js',\n",
       "       'Ansible;Hadoop;Node.js;Pandas;Puppet;TensorFlow',\n",
       "       'Ansible;Hadoop;.NET;Unity 3D',\n",
       "       'Apache Spark;Node.js;Pandas;TensorFlow;Unity 3D', 'Cordova;.NET',\n",
       "       'Flutter;.NET', 'Cordova;.NET;.NET Core',\n",
       "       'Ansible;Pandas;TensorFlow', 'Ansible;React Native;Other(s):',\n",
       "       'Apache Spark;Hadoop;Pandas;TensorFlow;Other(s):',\n",
       "       '.NET;.NET Core;Unity 3D;Unreal Engine;Xamarin',\n",
       "       'Ansible;Apache Spark;Hadoop;Node.js', 'Apache Spark;Hadoop',\n",
       "       '.NET;TensorFlow;Torch/PyTorch;Unity 3D;Unreal Engine',\n",
       "       'Apache Spark;Chef;Hadoop', 'Node.js;Unity 3D;Unreal Engine',\n",
       "       'Ansible;Chef;Puppet', '.NET Core;Node.js;React Native',\n",
       "       'Ansible;Cordova;.NET Core;Node.js;Pandas;React Native;Unity 3D;Xamarin',\n",
       "       'Torch/PyTorch', '.NET;.NET Core;Unity 3D;Unreal Engine',\n",
       "       'Chef;.NET;.NET Core;Node.js',\n",
       "       'Ansible;Apache Spark;Hadoop;Node.js;Pandas;Torch/PyTorch',\n",
       "       'Ansible;Node.js;Pandas;React Native', 'Node.js;Torch/PyTorch',\n",
       "       '.NET;.NET Core;Torch/PyTorch',\n",
       "       'Apache Spark;Hadoop;Pandas;TensorFlow',\n",
       "       'Ansible;Cordova;.NET;Node.js;Pandas',\n",
       "       'Flutter;Node.js;React Native;TensorFlow', 'Cordova',\n",
       "       'Ansible;.NET;.NET Core;Node.js;React Native', 'Unreal Engine',\n",
       "       'Ansible;Flutter;.NET Core;Node.js;React Native;Unity 3D',\n",
       "       'Cordova;Node.js;TensorFlow', 'Ansible;React Native',\n",
       "       'Cordova;TensorFlow;Unity 3D;Unreal Engine',\n",
       "       'Apache Spark;.NET;.NET Core;React Native',\n",
       "       '.NET;.NET Core;Node.js;Unreal Engine',\n",
       "       '.NET;.NET Core;Node.js;Pandas;Unity 3D',\n",
       "       '.NET;.NET Core;Node.js;Puppet;React Native',\n",
       "       'Flutter;.NET;.NET Core;Node.js;Pandas;React Native;TensorFlow;Unity 3D;Xamarin',\n",
       "       'Apache Spark;.NET', 'Apache Spark;Node.js;Pandas;React Native',\n",
       "       'Apache Spark;Chef;Flutter;Hadoop;Node.js;React Native',\n",
       "       'Ansible;TensorFlow', 'Cordova;Pandas',\n",
       "       '.NET;.NET Core;Unreal Engine',\n",
       "       'Cordova;.NET;.NET Core;Node.js;Unity 3D',\n",
       "       'Pandas;React Native;TensorFlow', 'Apache Spark;.NET;TensorFlow',\n",
       "       'Apache Spark;Hadoop;Pandas;TensorFlow;Torch/PyTorch',\n",
       "       '.NET;Unreal Engine;Xamarin', 'Cordova;.NET;Pandas',\n",
       "       'Node.js;TensorFlow;Unity 3D;Unreal Engine',\n",
       "       'Apache Spark;Chef;Pandas;TensorFlow;Torch/PyTorch',\n",
       "       'Node.js;React Native;Unity 3D',\n",
       "       'Apache Spark;Hadoop;.NET;.NET Core;Node.js;React Native;Unity 3D',\n",
       "       'Node.js;Puppet;React Native;TensorFlow', '.NET;Other(s):',\n",
       "       'Apache Spark;Pandas;TensorFlow', 'Ansible;Puppet;Other(s):',\n",
       "       'Flutter;Unity 3D', 'Apache Spark;Hadoop;.NET;Node.js',\n",
       "       'Cordova;Flutter;Hadoop;.NET Core;Node.js;React Native',\n",
       "       'Cordova;Hadoop;.NET;.NET Core;Node.js;Xamarin',\n",
       "       'Node.js;Pandas;React Native',\n",
       "       'Cordova;.NET;Node.js;Pandas;TensorFlow',\n",
       "       '.NET;.NET Core;Node.js;Pandas;TensorFlow;Torch/PyTorch',\n",
       "       'TensorFlow;Torch/PyTorch;Unity 3D', 'Apache Spark;Node.js;Pandas',\n",
       "       'Hadoop;Pandas;TensorFlow;Torch/PyTorch',\n",
       "       'Node.js;Pandas;React Native;TensorFlow;Torch/PyTorch',\n",
       "       'Cordova;Node.js;Unity 3D', 'Ansible;Hadoop',\n",
       "       'Cordova;Node.js;Pandas;TensorFlow;Unity 3D',\n",
       "       '.NET Core;Other(s):', 'Ansible;Apache Spark;Node.js',\n",
       "       '.NET Core;Node.js;Pandas', 'Chef;Node.js;Puppet',\n",
       "       'Flutter;.NET;.NET Core;Node.js;React Native;Unity 3D;Unreal Engine;Xamarin',\n",
       "       '.NET;.NET Core;Node.js;Pandas', 'Chef;Cordova;Node.js',\n",
       "       '.NET;Node.js;Pandas', '.NET;Node.js;Unity 3D;Unreal Engine',\n",
       "       'Puppet;Unity 3D', 'Chef;Pandas',\n",
       "       '.NET;.NET Core;Node.js;Pandas;React Native;TensorFlow',\n",
       "       'Apache Spark;Node.js;Pandas;TensorFlow;Torch/PyTorch',\n",
       "       'Node.js;Unreal Engine',\n",
       "       'Cordova;Flutter;Node.js;React Native;TensorFlow;Unity 3D',\n",
       "       'Ansible;Hadoop;Node.js;React Native;Xamarin', 'Cordova;Unity 3D',\n",
       "       'Ansible;Flutter;Node.js', 'Ansible;Hadoop;Pandas',\n",
       "       'Flutter;React Native',\n",
       "       'Apache Spark;Flutter;Node.js;React Native;Unity 3D',\n",
       "       'Cordova;Node.js;Unity 3D;Xamarin',\n",
       "       'Apache Spark;Cordova;Hadoop;.NET;Node.js;Pandas;TensorFlow;Unity 3D;Xamarin',\n",
       "       'Chef;Cordova;.NET;Node.js;Xamarin',\n",
       "       'Apache Spark;Pandas;Other(s):', 'Pandas;Puppet',\n",
       "       'Ansible;Chef;Node.js;Pandas', 'Ansible;Pandas;Torch/PyTorch',\n",
       "       '.NET;.NET Core;Pandas;React Native',\n",
       "       'Ansible;Flutter;Pandas;React Native;TensorFlow;Torch/PyTorch',\n",
       "       'Pandas;TensorFlow;Torch/PyTorch;Other(s):',\n",
       "       'Cordova;.NET Core;Node.js;React Native',\n",
       "       '.NET;.NET Core;TensorFlow;Torch/PyTorch',\n",
       "       'Pandas;TensorFlow;Unity 3D',\n",
       "       'Ansible;.NET;.NET Core;React Native', 'Hadoop;Node.js',\n",
       "       'Cordova;.NET;.NET Core;Unity 3D;Xamarin',\n",
       "       'Cordova;Flutter;.NET;.NET Core;Node.js',\n",
       "       'Ansible;Apache Spark;Node.js;Pandas;TensorFlow;Other(s):',\n",
       "       'Flutter;Hadoop;.NET;Node.js;TensorFlow;Xamarin',\n",
       "       'Apache Spark;.NET;.NET Core;Pandas',\n",
       "       'Ansible;Chef;.NET;.NET Core;Node.js;Puppet',\n",
       "       'Node.js;TensorFlow;Torch/PyTorch;Unity 3D', 'Ansible;Unity 3D',\n",
       "       'Ansible;Apache Spark;Pandas;Puppet;Unity 3D;Xamarin;Other(s):',\n",
       "       'Apache Spark;Hadoop;Node.js;TensorFlow',\n",
       "       'Ansible;Apache Spark;Hadoop;Node.js;React Native',\n",
       "       'Cordova;Hadoop;Node.js;React Native;Unity 3D',\n",
       "       'Node.js;Pandas;Puppet;TensorFlow', 'Apache Spark;Hadoop;Puppet',\n",
       "       'Node.js;React Native;TensorFlow;Torch/PyTorch',\n",
       "       '.NET;.NET Core;TensorFlow', 'Chef;.NET;Unity 3D', 'Chef;Hadoop',\n",
       "       'Apache Spark;Hadoop;Node.js',\n",
       "       'Apache Spark;Hadoop;.NET;.NET Core;Node.js;Pandas',\n",
       "       'Cordova;Node.js;React Native;Other(s):',\n",
       "       'Ansible;Node.js;React Native;Other(s):',\n",
       "       'Apache Spark;Hadoop;.NET;.NET Core;Node.js;Unity 3D',\n",
       "       'Hadoop;Node.js;React Native;Unity 3D',\n",
       "       'Cordova;.NET;Pandas;TensorFlow;Torch/PyTorch',\n",
       "       'Ansible;Apache Spark;Hadoop;Node.js;Pandas;React Native;TensorFlow;Unreal Engine',\n",
       "       'Ansible;Hadoop;Node.js', 'Chef;Cordova;Flutter;Pandas',\n",
       "       'Flutter;.NET;React Native;Xamarin',\n",
       "       'Cordova;Flutter;.NET;Node.js;Puppet',\n",
       "       '.NET;.NET Core;TensorFlow;Unity 3D;Unreal Engine;Xamarin',\n",
       "       'Ansible;Apache Spark;Hadoop;TensorFlow',\n",
       "       'Ansible;Apache Spark;Hadoop;Pandas',\n",
       "       'Ansible;TensorFlow;Unity 3D;Unreal Engine',\n",
       "       '.NET;Node.js;Pandas;Unity 3D',\n",
       "       '.NET;.NET Core;Node.js;React Native;Xamarin',\n",
       "       '.NET;.NET Core;TensorFlow;Xamarin',\n",
       "       'Ansible;.NET;Node.js;Unity 3D',\n",
       "       'Apache Spark;Node.js;React Native;TensorFlow',\n",
       "       'Hadoop;Node.js;Puppet', 'Xamarin',\n",
       "       'Ansible;Hadoop;Node.js;React Native;TensorFlow',\n",
       "       'Flutter;React Native;Other(s):', '.NET;Pandas;TensorFlow',\n",
       "       'Hadoop;Node.js;Pandas;Unity 3D',\n",
       "       'Cordova;.NET;.NET Core;Node.js;React Native',\n",
       "       '.NET;.NET Core;Node.js;Pandas;TensorFlow',\n",
       "       '.NET;Node.js;TensorFlow;Unity 3D', 'CryEngine;Node.js',\n",
       "       'Unity 3D;Other(s):', 'Cordova;.NET;Xamarin;Other(s):',\n",
       "       'Flutter;.NET Core;Node.js',\n",
       "       'Flutter;Node.js;React Native;TensorFlow;Torch/PyTorch',\n",
       "       'Apache Spark;.NET;Node.js;Pandas;TensorFlow',\n",
       "       'Flutter;Hadoop;.NET;Node.js;Unity 3D',\n",
       "       'Chef;.NET;.NET Core;Node.js;Xamarin',\n",
       "       '.NET;Unity 3D;Unreal Engine', 'Apache Spark;Hadoop;TensorFlow',\n",
       "       '.NET;Unity 3D;Other(s):', 'Ansible;Apache Spark;Hadoop',\n",
       "       '.NET;Puppet', 'Ansible;.NET;.NET Core;Node.js',\n",
       "       'Ansible;Apache Spark;Hadoop;Node.js;React Native;TensorFlow',\n",
       "       'Flutter;.NET;.NET Core;Pandas;Xamarin',\n",
       "       'Cordova;Hadoop;.NET;Node.js;React Native;TensorFlow;Torch/PyTorch;Unity 3D',\n",
       "       'Cordova;CryEngine;Flutter;Node.js;React Native;TensorFlow',\n",
       "       'Ansible;Apache Spark;Pandas;Unity 3D',\n",
       "       'Ansible;TensorFlow;Torch/PyTorch',\n",
       "       'Cordova;.NET;Node.js;TensorFlow;Unreal Engine',\n",
       "       '.NET Core;React Native', 'React Native;TensorFlow',\n",
       "       'Flutter;.NET;.NET Core;Node.js;TensorFlow;Unity 3D;Xamarin',\n",
       "       'Ansible;Flutter;.NET;.NET Core;React Native',\n",
       "       'CryEngine;Pandas;Unreal Engine',\n",
       "       '.NET;.NET Core;Node.js;React Native;TensorFlow',\n",
       "       'Cordova;Xamarin', '.NET;.NET Core;Node.js;TensorFlow;Unity 3D',\n",
       "       'Node.js;Unreal Engine;Other(s):',\n",
       "       'Cordova;Flutter;.NET;.NET Core;Xamarin',\n",
       "       '.NET;.NET Core;Pandas;TensorFlow',\n",
       "       'Cordova;Hadoop;.NET;Node.js;Pandas;React Native;TensorFlow;Unity 3D',\n",
       "       'Chef;.NET;.NET Core;Pandas', 'Cordova;.NET Core;Node.js',\n",
       "       'Ansible;Node.js;Pandas', 'Hadoop;.NET',\n",
       "       '.NET;React Native;Xamarin', 'Cordova;Node.js;Pandas;Xamarin',\n",
       "       'Cordova;.NET;.NET Core;React Native;TensorFlow;Xamarin',\n",
       "       'Node.js;React Native;TensorFlow',\n",
       "       '.NET;Node.js;React Native;Unity 3D',\n",
       "       '.NET;Node.js;React Native;Xamarin', 'Cordova;TensorFlow',\n",
       "       'Cordova;Node.js;React Native;TensorFlow;Unity 3D',\n",
       "       'Cordova;Node.js;React Native;TensorFlow',\n",
       "       'Cordova;.NET;Node.js;Unity 3D;Unreal Engine;Xamarin',\n",
       "       'Ansible;Flutter;Pandas', 'Hadoop;.NET;.NET Core;Node.js',\n",
       "       'Hadoop;Node.js;Pandas',\n",
       "       'Node.js;Pandas;React Native;Torch/PyTorch',\n",
       "       'Ansible;.NET;Node.js;Puppet;Unity 3D',\n",
       "       'Flutter;Node.js;TensorFlow;Torch/PyTorch',\n",
       "       '.NET;.NET Core;Node.js;Pandas;React Native;Xamarin',\n",
       "       'Pandas;Torch/PyTorch', 'Chef;Puppet',\n",
       "       'Node.js;Pandas;React Native;Unity 3D;Unreal Engine',\n",
       "       'Flutter;Node.js;React Native;Unity 3D',\n",
       "       'Ansible;Apache Spark;Hadoop;Node.js;Pandas;Puppet;Other(s):',\n",
       "       'Node.js;Pandas;Puppet', 'Ansible;Apache Spark;Pandas',\n",
       "       'Torch/PyTorch;Other(s):', 'Apache Spark;Node.js;React Native',\n",
       "       'Torch/PyTorch;Unity 3D',\n",
       "       'Ansible;Apache Spark;Chef;Hadoop;Node.js', 'Ansible;Apache Spark',\n",
       "       'Cordova;.NET;Unity 3D;Xamarin', '.NET;React Native',\n",
       "       'Ansible;.NET;Node.js', 'Apache Spark;TensorFlow;Torch/PyTorch',\n",
       "       'Cordova;.NET;.NET Core;Other(s):',\n",
       "       'Cordova;React Native;Other(s):', 'Ansible;Cordova;Pandas',\n",
       "       'TensorFlow;Unity 3D',\n",
       "       'Flutter;.NET;.NET Core;Node.js;React Native;Unity 3D',\n",
       "       'Ansible;Flutter;React Native',\n",
       "       'Node.js;React Native;Unity 3D;Unreal Engine',\n",
       "       'Flutter;.NET;.NET Core;Node.js;Unity 3D;Unreal Engine;Xamarin',\n",
       "       'Cordova;.NET Core', 'Chef;Node.js;Puppet;React Native;Unity 3D',\n",
       "       '.NET;.NET Core;Node.js;Puppet', 'Cordova;Node.js;Puppet',\n",
       "       '.NET;.NET Core;Node.js;React Native;Unity 3D;Xamarin',\n",
       "       'Ansible;Flutter;Node.js;React Native', '.NET;.NET Core;Puppet',\n",
       "       'Apache Spark;.NET;.NET Core;Xamarin', 'Flutter;TensorFlow',\n",
       "       'Ansible;.NET;.NET Core;Xamarin',\n",
       "       'Ansible;Apache Spark;Hadoop;Node.js;Pandas;Puppet',\n",
       "       'Cordova;.NET;.NET Core;React Native;Unity 3D',\n",
       "       'Node.js;Pandas;React Native;TensorFlow;Unity 3D',\n",
       "       '.NET;Node.js;Pandas;Torch/PyTorch',\n",
       "       '.NET;.NET Core;Node.js;Puppet;Other(s):',\n",
       "       'Cordova;.NET Core;Node.js;Pandas;TensorFlow;Unity 3D',\n",
       "       'Cordova;.NET;.NET Core;Node.js;Other(s):',\n",
       "       'Ansible;Cordova;Node.js;TensorFlow;Other(s):',\n",
       "       'Node.js;TensorFlow;Torch/PyTorch',\n",
       "       'Chef;.NET;.NET Core;Unity 3D;Xamarin',\n",
       "       'Ansible;Apache Spark;Pandas;TensorFlow;Torch/PyTorch',\n",
       "       'Ansible;Puppet;TensorFlow',\n",
       "       'Cordova;.NET;.NET Core;Node.js;React Native;TensorFlow;Unity 3D',\n",
       "       '.NET;Node.js;Puppet;React Native',\n",
       "       'Ansible;Apache Spark;.NET Core;Node.js', '.NET;Node.js;Other(s):',\n",
       "       '.NET;TensorFlow;Torch/PyTorch', 'Puppet;TensorFlow',\n",
       "       '.NET;.NET Core;Node.js;React Native;Other(s):',\n",
       "       'Node.js;Pandas;TensorFlow;Unity 3D',\n",
       "       'Flutter;.NET;.NET Core;TensorFlow;Torch/PyTorch',\n",
       "       '.NET;.NET Core;Node.js;TensorFlow',\n",
       "       'Ansible;Apache Spark;CryEngine;Node.js;Pandas;TensorFlow;Torch/PyTorch;Unity 3D;Unreal Engine',\n",
       "       'Ansible;Node.js;Pandas;Puppet;TensorFlow',\n",
       "       'Cordova;Node.js;Other(s):',\n",
       "       'Cordova;.NET;Node.js;Unreal Engine;Xamarin',\n",
       "       'Flutter;.NET;Node.js', 'Apache Spark;Hadoop;.NET Core;Xamarin',\n",
       "       '.NET;Node.js;Unity 3D;Xamarin', 'Apache Spark;.NET;Node.js',\n",
       "       'Chef;Node.js;React Native', 'Puppet;Other(s):',\n",
       "       'Chef;Flutter;Unity 3D;Other(s):', 'Cordova;Hadoop;Node.js',\n",
       "       'Apache Spark;Node.js;Pandas;React Native;Unity 3D',\n",
       "       'Cordova;Node.js;Pandas', 'Node.js;Pandas;Other(s):',\n",
       "       'Ansible;.NET;.NET Core;Node.js;Other(s):',\n",
       "       '.NET;.NET Core;Node.js;React Native;TensorFlow;Unity 3D',\n",
       "       'React Native;Unity 3D;Unreal Engine', 'Flutter;.NET;.NET Core',\n",
       "       'Ansible;Apache Spark;Hadoop;.NET;Node.js;Pandas',\n",
       "       '.NET;.NET Core;Node.js;React Native;Unity 3D',\n",
       "       'Apache Spark;Chef;Hadoop;Node.js',\n",
       "       '.NET;.NET Core;TensorFlow;Torch/PyTorch;Unity 3D',\n",
       "       'Cordova;Node.js;Xamarin',\n",
       "       'Apache Spark;Hadoop;.NET;.NET Core;Node.js;Xamarin',\n",
       "       '.NET;.NET Core;TensorFlow;Unity 3D',\n",
       "       'Apache Spark;Hadoop;Node.js;React Native;Torch/PyTorch;Unity 3D',\n",
       "       'Chef;Other(s):',\n",
       "       'Node.js;Pandas;TensorFlow;Torch/PyTorch;Unity 3D',\n",
       "       'Hadoop;.NET;Pandas;TensorFlow',\n",
       "       'Ansible;Apache Spark;Chef;Cordova;Hadoop;Node.js;Pandas;Puppet;React Native;TensorFlow;Torch/PyTorch;Unity 3D',\n",
       "       'Ansible;Cordova;Flutter;.NET;Node.js',\n",
       "       'Cordova;.NET;Node.js;React Native',\n",
       "       'Apache Spark;Hadoop;.NET;.NET Core',\n",
       "       'Cordova;Flutter;.NET;.NET Core;Node.js;Xamarin',\n",
       "       'Apache Spark;Flutter;Node.js;TensorFlow',\n",
       "       'Apache Spark;Chef;Hadoop;Node.js;React Native', 'Cordova;Puppet',\n",
       "       'Apache Spark;Pandas;React Native;TensorFlow',\n",
       "       'Node.js;Pandas;React Native;Other(s):',\n",
       "       'Apache Spark;Cordova;Node.js', '.NET;Unity 3D;Xamarin',\n",
       "       'Ansible;Cordova;Puppet', 'Ansible;.NET Core',\n",
       "       'Ansible;Apache Spark;Hadoop;.NET;.NET Core;Node.js',\n",
       "       'CryEngine;Flutter;.NET;.NET Core;Node.js;React Native;Unity 3D;Unreal Engine;Xamarin',\n",
       "       'Flutter;.NET;.NET Core;Node.js;React Native',\n",
       "       'Ansible;Chef;.NET;Node.js;Puppet',\n",
       "       'Flutter;.NET;.NET Core;Unity 3D',\n",
       "       'Flutter;.NET;.NET Core;Node.js;Xamarin',\n",
       "       'Flutter;.NET;.NET Core;Node.js',\n",
       "       'Ansible;Apache Spark;.NET Core;Pandas',\n",
       "       'Ansible;Node.js;Pandas;Puppet', 'Node.js;TensorFlow;Other(s):',\n",
       "       'Apache Spark;Hadoop;.NET',\n",
       "       'Cordova;Flutter;.NET;.NET Core;Node.js;React Native;Xamarin',\n",
       "       'Ansible;Node.js;Xamarin', 'Apache Spark;Hadoop;.NET;Puppet',\n",
       "       'Pandas;Unity 3D;Other(s):', 'Node.js;Pandas;Unity 3D',\n",
       "       'Cordova;.NET Core;Node.js;Pandas;TensorFlow',\n",
       "       'Apache Spark;Cordova;Hadoop;Node.js',\n",
       "       'Cordova;.NET;.NET Core;React Native',\n",
       "       'Cordova;Flutter;React Native',\n",
       "       'Flutter;TensorFlow;Torch/PyTorch;Unity 3D;Other(s):',\n",
       "       'Apache Spark;Flutter;Hadoop;Node.js;Pandas;React Native;TensorFlow;Torch/PyTorch',\n",
       "       'TensorFlow;Other(s):', 'Ansible;Pandas;TensorFlow;Other(s):',\n",
       "       'Apache Spark;.NET;.NET Core;Node.js;React Native;Xamarin',\n",
       "       'Flutter;Node.js;Unreal Engine',\n",
       "       'Cordova;.NET;Node.js;React Native;TensorFlow',\n",
       "       'Cordova;Flutter;TensorFlow;Xamarin',\n",
       "       'Cordova;Node.js;React Native;Unity 3D;Unreal Engine',\n",
       "       'Chef;.NET;.NET Core;Node.js;Pandas;React Native',\n",
       "       'Ansible;Cordova;Node.js;Puppet;Xamarin',\n",
       "       'Cordova;.NET;.NET Core;Node.js;Pandas',\n",
       "       'Chef;Hadoop;Node.js;Pandas;TensorFlow',\n",
       "       'Apache Spark;Hadoop;Node.js;Unity 3D',\n",
       "       'Hadoop;.NET;.NET Core;Xamarin',\n",
       "       'Hadoop;Node.js;React Native;TensorFlow;Unity 3D',\n",
       "       'Ansible;Chef;Cordova;Hadoop;Puppet;Unity 3D;Unreal Engine',\n",
       "       'Apache Spark;Hadoop;TensorFlow;Other(s):',\n",
       "       'Ansible;Node.js;Puppet;React Native', '.NET Core;Xamarin',\n",
       "       'Apache Spark;Hadoop;.NET;Pandas',\n",
       "       'Ansible;Cordova;Node.js;React Native;TensorFlow;Other(s):',\n",
       "       'Cordova;Hadoop;Unity 3D;Xamarin', 'Hadoop;.NET;Pandas',\n",
       "       'Ansible;Flutter;.NET Core', '.NET;TensorFlow;Unity 3D;Xamarin',\n",
       "       'Ansible;Flutter;.NET;.NET Core;Node.js;Pandas;TensorFlow;Torch/PyTorch',\n",
       "       '.NET Core;Node.js;Xamarin', 'Chef;Cordova;React Native;Unity 3D',\n",
       "       'Ansible;Apache Spark;Hadoop;Node.js;TensorFlow',\n",
       "       'Ansible;Chef;.NET;Node.js', 'Ansible;Node.js;Puppet;Other(s):',\n",
       "       'Flutter;Pandas', 'Apache Spark;Cordova;.NET;.NET Core',\n",
       "       'Apache Spark;.NET;.NET Core;Node.js;React Native;Unity 3D',\n",
       "       'Apache Spark;Hadoop;Node.js;Pandas;TensorFlow;Torch/PyTorch',\n",
       "       'Hadoop;.NET;.NET Core;Node.js;TensorFlow;Unreal Engine;Xamarin',\n",
       "       'Node.js;Puppet;Xamarin',\n",
       "       'Cordova;React Native;Unity 3D;Unreal Engine',\n",
       "       'Chef;.NET;.NET Core',\n",
       "       'Apache Spark;Hadoop;.NET;.NET Core;Node.js',\n",
       "       '.NET;.NET Core;Node.js;Pandas;Other(s):',\n",
       "       'Apache Spark;.NET;.NET Core;Node.js;Unity 3D',\n",
       "       'Flutter;.NET Core;Node.js;React Native;TensorFlow;Torch/PyTorch;Unity 3D;Xamarin',\n",
       "       '.NET Core;Node.js;Unity 3D', 'Flutter;Node.js;Pandas;TensorFlow',\n",
       "       'Puppet;React Native',\n",
       "       'Apache Spark;Cordova;Hadoop;Node.js;Pandas',\n",
       "       'Apache Spark;Cordova;Flutter;Node.js;Pandas;Puppet;React Native;TensorFlow;Torch/PyTorch;Unity 3D;Unreal Engine;Xamarin',\n",
       "       'Chef;.NET;.NET Core;Node.js;React Native',\n",
       "       'Cordova;Hadoop;.NET;.NET Core;Node.js;Pandas;TensorFlow;Xamarin',\n",
       "       'Ansible;Apache Spark;.NET Core',\n",
       "       'Ansible;Chef;.NET;.NET Core;Node.js', 'CryEngine;Unity 3D',\n",
       "       'Pandas;Other(s):', 'Cordova;.NET;Puppet;Unity 3D',\n",
       "       'Ansible;Apache Spark;TensorFlow', 'Pandas;TensorFlow;Xamarin',\n",
       "       'Flutter;Pandas;React Native', 'Ansible;Hadoop;.NET;.NET Core',\n",
       "       'Apache Spark;Hadoop;Pandas;Puppet;Other(s):',\n",
       "       'Node.js;Unity 3D;Other(s):',\n",
       "       '.NET;.NET Core;Node.js;Unity 3D;Unreal Engine',\n",
       "       'Ansible;Node.js;Pandas;Puppet;Torch/PyTorch',\n",
       "       'Node.js;Puppet;Unity 3D', 'TensorFlow;Xamarin',\n",
       "       'Cordova;Node.js;Unity 3D;Unreal Engine;Other(s):',\n",
       "       '.NET;.NET Core;Pandas;TensorFlow;Torch/PyTorch;Xamarin',\n",
       "       '.NET Core;Node.js;TensorFlow', 'Flutter;Other(s):',\n",
       "       'Cordova;.NET;Node.js;Pandas;TensorFlow;Unity 3D',\n",
       "       'Cordova;Flutter;.NET;Node.js;TensorFlow',\n",
       "       'Flutter;Node.js;Unity 3D',\n",
       "       'Apache Spark;Pandas;TensorFlow;Torch/PyTorch;Unreal Engine',\n",
       "       'Ansible;Chef;.NET;.NET Core;Node.js;Puppet;React Native;Unity 3D;Unreal Engine;Other(s):',\n",
       "       'Pandas;TensorFlow;Other(s):',\n",
       "       'Chef;Hadoop;Node.js;Pandas;Puppet;TensorFlow',\n",
       "       'Apache Spark;Chef;.NET;.NET Core', 'Node.js;TensorFlow;Xamarin',\n",
       "       'Apache Spark;Hadoop;TensorFlow;Torch/PyTorch',\n",
       "       'Apache Spark;Cordova;.NET;.NET Core;Node.js;Xamarin',\n",
       "       '.NET;.NET Core;Pandas;TensorFlow;Torch/PyTorch;Unreal Engine',\n",
       "       'Ansible;Chef;Flutter;.NET;.NET Core;Node.js;Pandas;Puppet;React Native;TensorFlow;Unity 3D;Other(s):',\n",
       "       'Hadoop;TensorFlow;Torch/PyTorch',\n",
       "       'Apache Spark;.NET;Pandas;TensorFlow;Torch/PyTorch',\n",
       "       'Flutter;Node.js;TensorFlow;Unity 3D',\n",
       "       'Ansible;Chef;Hadoop;Node.js;Pandas;TensorFlow',\n",
       "       'Flutter;.NET;Node.js;React Native',\n",
       "       'Apache Spark;Hadoop;Node.js;Pandas;React Native;TensorFlow',\n",
       "       'Flutter;Hadoop;.NET;.NET Core;Unity 3D;Xamarin',\n",
       "       '.NET Core;Unity 3D;Xamarin',\n",
       "       'Flutter;Node.js;Pandas;TensorFlow;Torch/PyTorch',\n",
       "       'Cordova;Flutter;.NET;.NET Core;Node.js;Pandas;TensorFlow',\n",
       "       'Ansible;Cordova;Node.js;Other(s):', 'Ansible;Pandas;Other(s):',\n",
       "       'Apache Spark;Hadoop;Node.js;Pandas;Puppet',\n",
       "       'Ansible;.NET Core;Node.js;Pandas;TensorFlow',\n",
       "       'Chef;Unreal Engine', 'Ansible;Cordova;Puppet;Unity 3D',\n",
       "       'Chef;Flutter;Node.js', 'Apache Spark;.NET Core;Node.js;Xamarin',\n",
       "       'Flutter;.NET;TensorFlow', 'Hadoop;Xamarin',\n",
       "       'Hadoop;.NET;.NET Core;Node.js;Unity 3D',\n",
       "       'Cordova;Node.js;React Native;Unity 3D',\n",
       "       'Apache Spark;Unity 3D;Unreal Engine',\n",
       "       'Apache Spark;Hadoop;.NET Core;Pandas;React Native',\n",
       "       'Hadoop;TensorFlow', 'Node.js;TensorFlow;Unity 3D',\n",
       "       'Ansible;.NET Core;Node.js', 'Chef;.NET',\n",
       "       'Apache Spark;Cordova;Hadoop;.NET;.NET Core;Node.js;Pandas;TensorFlow;Other(s):',\n",
       "       'Pandas;TensorFlow;Torch/PyTorch;Unity 3D;Unreal Engine',\n",
       "       '.NET Core;Node.js;Pandas;Puppet',\n",
       "       'Apache Spark;.NET;.NET Core;Node.js;TensorFlow;Unity 3D',\n",
       "       '.NET;.NET Core;Node.js;Unity 3D;Other(s):',\n",
       "       '.NET;Node.js;Pandas;Puppet;TensorFlow',\n",
       "       'React Native;TensorFlow;Torch/PyTorch',\n",
       "       'Apache Spark;Cordova;Flutter;Node.js;React Native;Xamarin',\n",
       "       'Chef;Cordova;.NET;.NET Core;Node.js',\n",
       "       'Flutter;Node.js;Torch/PyTorch',\n",
       "       'Cordova;Node.js;Pandas;TensorFlow;Torch/PyTorch;Unity 3D',\n",
       "       'Cordova;Node.js;TensorFlow;Unity 3D',\n",
       "       'Flutter;Node.js;React Native;Unity 3D;Unreal Engine',\n",
       "       'Cordova;Other(s):',\n",
       "       'Apache Spark;Hadoop;Node.js;Pandas;React Native',\n",
       "       'Ansible;Puppet;Unreal Engine', 'Apache Spark;Hadoop;Other(s):',\n",
       "       'Apache Spark;Pandas;Torch/PyTorch',\n",
       "       'Ansible;Apache Spark;Chef;Node.js',\n",
       "       'Chef;Node.js;TensorFlow;Unreal Engine',\n",
       "       'Chef;Cordova;.NET;.NET Core;Node.js;Xamarin',\n",
       "       'Apache Spark;Hadoop;Node.js;Other(s):',\n",
       "       'Hadoop;.NET;Node.js;Xamarin',\n",
       "       'Apache Spark;Node.js;Pandas;TensorFlow',\n",
       "       'Flutter;TensorFlow;Torch/PyTorch', '.NET;Pandas;Unity 3D',\n",
       "       'Ansible;Chef;Node.js;Pandas;TensorFlow;Torch/PyTorch',\n",
       "       '.NET Core;React Native;TensorFlow',\n",
       "       '.NET Core;Node.js;TensorFlow;Unity 3D;Xamarin',\n",
       "       'Ansible;Node.js;Torch/PyTorch',\n",
       "       'Apache Spark;.NET;.NET Core;Node.js;Xamarin',\n",
       "       'Apache Spark;.NET;Node.js;Pandas;React Native;TensorFlow',\n",
       "       'Ansible;Chef;Hadoop;Node.js', 'Flutter;React Native;Xamarin',\n",
       "       'Hadoop;React Native', 'Chef;Node.js;TensorFlow',\n",
       "       '.NET;React Native;TensorFlow;Unity 3D',\n",
       "       'CryEngine;.NET;.NET Core;Unity 3D;Unreal Engine',\n",
       "       'Node.js;Pandas;TensorFlow;Unreal Engine',\n",
       "       '.NET;.NET Core;Node.js;Xamarin;Other(s):',\n",
       "       '.NET Core;Node.js;React Native;Unity 3D',\n",
       "       'Ansible;Apache Spark;Hadoop;Pandas;Torch/PyTorch',\n",
       "       'CryEngine;Hadoop;Pandas;TensorFlow;Unreal Engine',\n",
       "       'Apache Spark;Cordova', 'Apache Spark;Cordova;React Native',\n",
       "       'Apache Spark;Node.js;Pandas;React Native;TensorFlow',\n",
       "       'Apache Spark;Cordova;Node.js;Puppet',\n",
       "       'Flutter;.NET;.NET Core;Unity 3D;Xamarin',\n",
       "       'Node.js;Pandas;TensorFlow;Torch/PyTorch;Unity 3D;Unreal Engine',\n",
       "       'Apache Spark;Hadoop;React Native;Other(s):', 'Ansible;Cordova',\n",
       "       '.NET;Node.js;Pandas;React Native',\n",
       "       'Hadoop;.NET;.NET Core;Unity 3D', '.NET;Pandas;Puppet;TensorFlow',\n",
       "       '.NET;.NET Core;Node.js;Pandas;TensorFlow;Unity 3D;Unreal Engine;Xamarin',\n",
       "       'Apache Spark;Hadoop;.NET;.NET Core;TensorFlow;Xamarin',\n",
       "       'Chef;.NET Core;Node.js',\n",
       "       'Apache Spark;CryEngine;Flutter;Hadoop;Node.js;React Native;Unity 3D;Unreal Engine',\n",
       "       'Ansible;Apache Spark;Pandas;Torch/PyTorch',\n",
       "       '.NET;.NET Core;Node.js;Pandas;TensorFlow;Unity 3D',\n",
       "       '.NET Core;TensorFlow;Unity 3D', 'Cordova;.NET;Node.js;Xamarin',\n",
       "       'Hadoop;.NET;Unity 3D', 'Cordova;Node.js;Puppet;React Native',\n",
       "       'Flutter;.NET;.NET Core;Node.js;React Native;Xamarin',\n",
       "       '.NET;.NET Core;Pandas;TensorFlow;Unity 3D',\n",
       "       '.NET;Node.js;Unreal Engine',\n",
       "       'CryEngine;.NET;Unreal Engine;Xamarin',\n",
       "       'Apache Spark;Flutter;.NET;Node.js;Pandas;TensorFlow',\n",
       "       'Ansible;Apache Spark;Flutter;Hadoop;Pandas;TensorFlow;Torch/PyTorch',\n",
       "       'Ansible;Chef;Hadoop;Pandas', 'Chef;.NET;Node.js',\n",
       "       '.NET;Pandas;TensorFlow;Xamarin',\n",
       "       'Ansible;Node.js;Pandas;TensorFlow',\n",
       "       'Ansible;Node.js;Unity 3D;Xamarin',\n",
       "       'Apache Spark;Cordova;CryEngine;.NET;.NET Core;Node.js;React Native;Unity 3D;Unreal Engine;Xamarin',\n",
       "       'Cordova;Flutter;.NET;.NET Core;Node.js;React Native;TensorFlow;Unreal Engine',\n",
       "       'Pandas;TensorFlow;Unity 3D;Unreal Engine;Other(s):',\n",
       "       'Ansible;Apache Spark;Node.js;Pandas', 'Hadoop;.NET;Node.js',\n",
       "       'Ansible;Apache Spark;Hadoop;.NET;.NET Core;TensorFlow',\n",
       "       '.NET;.NET Core;Pandas;Other(s):',\n",
       "       'Cordova;.NET;.NET Core;Node.js;Unity 3D;Unreal Engine;Xamarin',\n",
       "       'Ansible;.NET;.NET Core;Pandas;TensorFlow',\n",
       "       'Ansible;Chef;CryEngine;Puppet;Unreal Engine;Xamarin',\n",
       "       'Ansible;Apache Spark;Chef;Node.js;Puppet;TensorFlow',\n",
       "       'Ansible;Chef;Flutter;.NET Core;TensorFlow',\n",
       "       'Ansible;Chef;Cordova;.NET;React Native;Unity 3D',\n",
       "       '.NET;Unity 3D;Unreal Engine;Other(s):',\n",
       "       'Flutter;.NET;Node.js;Xamarin',\n",
       "       '.NET;.NET Core;Puppet;React Native;Xamarin',\n",
       "       'Ansible;Apache Spark;Chef;Pandas;TensorFlow', 'Chef;TensorFlow',\n",
       "       'Chef;.NET;Node.js;Puppet',\n",
       "       'Node.js;React Native;TensorFlow;Torch/PyTorch;Unity 3D',\n",
       "       'Ansible;Flutter;.NET',\n",
       "       'Apache Spark;Flutter;.NET;.NET Core;Node.js',\n",
       "       'Ansible;Chef;Hadoop;Puppet;Other(s):',\n",
       "       'Node.js;Pandas;Unity 3D;Unreal Engine', 'React Native;Xamarin',\n",
       "       'Ansible;Apache Spark;Flutter;Hadoop;Node.js;Pandas;React Native;TensorFlow',\n",
       "       'Apache Spark;Pandas;TensorFlow;Torch/PyTorch;Unity 3D',\n",
       "       'Ansible;Apache Spark;Chef;Hadoop;Pandas',\n",
       "       'Cordova;Pandas;TensorFlow', 'Flutter;.NET;Node.js;Unity 3D',\n",
       "       'CryEngine;.NET;.NET Core;Node.js;TensorFlow;Unity 3D;Unreal Engine',\n",
       "       'CryEngine;Pandas;TensorFlow;Torch/PyTorch;Unity 3D;Other(s):',\n",
       "       'Ansible;Node.js;TensorFlow',\n",
       "       'Ansible;Chef;Node.js;Puppet;Unity 3D',\n",
       "       'Cordova;Flutter;.NET;.NET Core;Node.js;React Native',\n",
       "       'Node.js;Unity 3D;Unreal Engine;Other(s):',\n",
       "       'Flutter;.NET;.NET Core;Pandas;TensorFlow;Torch/PyTorch;Unity 3D;Unreal Engine;Xamarin',\n",
       "       '.NET Core;Puppet', 'Hadoop;.NET;.NET Core',\n",
       "       'Ansible;.NET;Node.js;Pandas', '.NET Core;TensorFlow;Xamarin',\n",
       "       'Ansible;Node.js;Puppet;React Native;Other(s):',\n",
       "       'Ansible;Node.js;TensorFlow;Torch/PyTorch',\n",
       "       'Apache Spark;Flutter;Node.js',\n",
       "       'Ansible;Apache Spark;Cordova;.NET;.NET Core;Node.js;TensorFlow',\n",
       "       'Apache Spark;Chef;Hadoop;.NET;.NET Core;Node.js',\n",
       "       'CryEngine;.NET;.NET Core;Unity 3D;Unreal Engine;Xamarin',\n",
       "       'Ansible;Apache Spark;Hadoop;Node.js;Pandas',\n",
       "       'Ansible;Chef;Node.js;Puppet;React Native',\n",
       "       'Node.js;React Native;TensorFlow;Unity 3D',\n",
       "       'Puppet;TensorFlow;Torch/PyTorch',\n",
       "       'Apache Spark;Pandas;React Native',\n",
       "       'Ansible;Node.js;TensorFlow;Torch/PyTorch;Other(s):',\n",
       "       'Cordova;Flutter;Node.js;React Native',\n",
       "       'Ansible;Apache Spark;.NET',\n",
       "       '.NET;Torch/PyTorch;Unity 3D;Other(s):', 'Ansible;Chef;CryEngine',\n",
       "       'Ansible;.NET;.NET Core;Pandas',\n",
       "       'Apache Spark;Flutter;Hadoop;Node.js;Pandas;TensorFlow;Torch/PyTorch;Unity 3D;Unreal Engine',\n",
       "       'Ansible;Apache Spark;Other(s):', 'Cordova;Unity 3D;Xamarin',\n",
       "       'Ansible;Chef;Puppet;TensorFlow;Unity 3D',\n",
       "       'Apache Spark;Flutter;TensorFlow',\n",
       "       'Hadoop;.NET;Node.js;Pandas;TensorFlow',\n",
       "       '.NET;.NET Core;Node.js;TensorFlow;Unity 3D;Xamarin',\n",
       "       '.NET Core;React Native;Xamarin',\n",
       "       'Pandas;TensorFlow;Torch/PyTorch;Xamarin',\n",
       "       'Ansible;.NET;Node.js;Pandas;Torch/PyTorch',\n",
       "       'Flutter;.NET;.NET Core;Xamarin',\n",
       "       'Ansible;Apache Spark;Pandas;Puppet',\n",
       "       'Ansible;Chef;Node.js;Pandas;Unity 3D',\n",
       "       'Flutter;.NET;Node.js;React Native;Xamarin', 'Cordova;Flutter',\n",
       "       'Ansible;Hadoop;TensorFlow', 'Ansible;.NET;Node.js;React Native',\n",
       "       '.NET;.NET Core;TensorFlow;Unity 3D;Xamarin',\n",
       "       'Chef;Puppet;TensorFlow',\n",
       "       'Apache Spark;Hadoop;.NET;.NET Core;React Native',\n",
       "       'Flutter;.NET;.NET Core;TensorFlow', 'Chef;.NET;Xamarin',\n",
       "       'Apache Spark;.NET;Node.js;Pandas;Unity 3D',\n",
       "       'Chef;.NET;.NET Core;Node.js;Pandas;Puppet;TensorFlow',\n",
       "       'Flutter;.NET;Unity 3D', 'Ansible;Hadoop;Node.js;Pandas',\n",
       "       '.NET;.NET Core;Unity 3D;Xamarin;Other(s):',\n",
       "       '.NET Core;Pandas;TensorFlow', 'Ansible;Node.js;Unity 3D',\n",
       "       'Apache Spark;Cordova;Hadoop;Node.js;TensorFlow',\n",
       "       'Flutter;Node.js;Other(s):',\n",
       "       'Apache Spark;Hadoop;.NET;Unity 3D;Unreal Engine',\n",
       "       'Ansible;Puppet;Unity 3D', 'Apache Spark;Node.js;Unity 3D',\n",
       "       'Cordova;.NET;.NET Core;Node.js;Pandas;React Native;TensorFlow',\n",
       "       'Ansible;Apache Spark;Hadoop;Pandas;TensorFlow',\n",
       "       '.NET Core;Node.js;Puppet', 'Pandas;TensorFlow;Unreal Engine',\n",
       "       'Ansible;Chef;Hadoop;Unity 3D',\n",
       "       'Apache Spark;Cordova;Hadoop;.NET;.NET Core;Pandas;Xamarin',\n",
       "       'Ansible;Chef;Hadoop;.NET;.NET Core;Node.js;Puppet',\n",
       "       'Ansible;Apache Spark;Flutter;TensorFlow', 'Apache Spark;Xamarin',\n",
       "       'Cordova;.NET;Pandas;Unity 3D;Other(s):',\n",
       "       'React Native;Unity 3D;Unreal Engine;Xamarin',\n",
       "       '.NET;Pandas;TensorFlow;Torch/PyTorch',\n",
       "       'Cordova;.NET;Node.js;Other(s):',\n",
       "       'Ansible;Cordova;.NET;.NET Core;Node.js',\n",
       "       'Ansible;Chef;Hadoop;Puppet;TensorFlow',\n",
       "       '.NET;.NET Core;Node.js;Unreal Engine;Xamarin',\n",
       "       'Cordova;.NET;.NET Core;Unity 3D;Unreal Engine;Xamarin',\n",
       "       'Ansible;Apache Spark;Node.js;Pandas;React Native',\n",
       "       'Apache Spark;Pandas;TensorFlow;Torch/PyTorch',\n",
       "       'Ansible;.NET;.NET Core;Unity 3D;Xamarin',\n",
       "       'Apache Spark;Hadoop;Node.js;Pandas;TensorFlow',\n",
       "       'Apache Spark;Node.js;TensorFlow',\n",
       "       'Apache Spark;Hadoop;React Native', 'Ansible;Unreal Engine',\n",
       "       'Ansible;.NET;Node.js;Pandas;Puppet;TensorFlow;Torch/PyTorch',\n",
       "       'Apache Spark;Other(s):', 'Node.js;React Native;Unity 3D;Xamarin',\n",
       "       'Chef;Hadoop;Node.js;React Native;TensorFlow',\n",
       "       'Apache Spark;.NET Core',\n",
       "       'Apache Spark;Chef;Cordova;Node.js;Pandas;TensorFlow;Torch/PyTorch',\n",
       "       'Ansible;.NET;Node.js;TensorFlow;Other(s):',\n",
       "       'Apache Spark;.NET;.NET Core;TensorFlow',\n",
       "       'Apache Spark;React Native;Other(s):',\n",
       "       'Ansible;Apache Spark;Flutter',\n",
       "       '.NET;.NET Core;Node.js;React Native;Unity 3D;Other(s):',\n",
       "       'Hadoop;Node.js;Unity 3D',\n",
       "       'Cordova;.NET Core;Unity 3D;Unreal Engine',\n",
       "       'Ansible;Flutter;Node.js;Pandas;TensorFlow',\n",
       "       'Flutter;Node.js;Unity 3D;Xamarin;Other(s):',\n",
       "       'Apache Spark;Hadoop;.NET;Node.js;Pandas;TensorFlow;Xamarin',\n",
       "       'Node.js;TensorFlow;Torch/PyTorch;Unity 3D;Unreal Engine;Xamarin',\n",
       "       'Apache Spark;Cordova;Hadoop;.NET;Node.js',\n",
       "       'Ansible;Chef;.NET;.NET Core;Node.js;TensorFlow',\n",
       "       'Flutter;.NET;Xamarin', 'Hadoop;.NET;Node.js;React Native;Xamarin',\n",
       "       'Ansible;.NET;.NET Core;Puppet',\n",
       "       'Cordova;Flutter;.NET;.NET Core;Node.js;React Native;TensorFlow;Xamarin',\n",
       "       'Cordova;.NET;.NET Core;Node.js;React Native;TensorFlow;Unity 3D;Xamarin',\n",
       "       'Ansible;Chef;Hadoop;.NET;Node.js;Puppet',\n",
       "       'Flutter;Node.js;TensorFlow;Other(s):',\n",
       "       'Flutter;.NET Core;React Native',\n",
       "       'Ansible;Apache Spark;Chef;Hadoop;Node.js;Pandas',\n",
       "       'Flutter;.NET;.NET Core;Node.js;React Native;TensorFlow',\n",
       "       'Chef;React Native', 'Ansible;Apache Spark;Hadoop;.NET',\n",
       "       '.NET;.NET Core;Pandas;Xamarin',\n",
       "       'Cordova;.NET;Node.js;Pandas;Xamarin',\n",
       "       'Apache Spark;Pandas;TensorFlow;Other(s):',\n",
       "       'Apache Spark;.NET;.NET Core;Node.js;React Native',\n",
       "       '.NET;.NET Core;Puppet;React Native;Unity 3D', 'Flutter;.NET Core',\n",
       "       '.NET Core;Node.js;TensorFlow;Other(s):',\n",
       "       'Ansible;.NET Core;Node.js;Unity 3D',\n",
       "       'Cordova;Flutter;.NET Core;Pandas;TensorFlow',\n",
       "       'Ansible;.NET;.NET Core;Node.js;Pandas;Xamarin',\n",
       "       'Hadoop;Node.js;Pandas;TensorFlow;Torch/PyTorch',\n",
       "       'Flutter;.NET Core;Node.js;React Native;TensorFlow',\n",
       "       '.NET;Node.js;React Native;Unity 3D;Unreal Engine',\n",
       "       'Cordova;.NET;.NET Core;React Native;Xamarin',\n",
       "       'Pandas;Puppet;TensorFlow', 'Cordova;Hadoop;Node.js;Unity 3D',\n",
       "       '.NET;.NET Core;Node.js;Pandas;React Native',\n",
       "       'Cordova;.NET;.NET Core;React Native;TensorFlow;Torch/PyTorch;Xamarin',\n",
       "       '.NET;Pandas;Xamarin',\n",
       "       'Ansible;Apache Spark;Hadoop;Node.js;Pandas;Puppet;TensorFlow;Torch/PyTorch',\n",
       "       'Chef;Node.js;Puppet;React Native;Unity 3D;Unreal Engine',\n",
       "       'Cordova;Flutter;React Native;Xamarin',\n",
       "       '.NET;Node.js;Unity 3D;Other(s):',\n",
       "       '.NET;.NET Core;Node.js;TensorFlow;Unity 3D;Unreal Engine;Xamarin',\n",
       "       '.NET;.NET Core;Node.js;React Native;Unreal Engine;Xamarin',\n",
       "       'Ansible;Hadoop;Node.js;Puppet', 'Chef;Cordova',\n",
       "       'Ansible;.NET;.NET Core;Node.js;React Native;Unity 3D;Unreal Engine;Xamarin',\n",
       "       'Cordova;Hadoop;.NET;.NET Core;Node.js;Unity 3D;Unreal Engine;Xamarin',\n",
       "       'Apache Spark;Cordova;Hadoop;Pandas;TensorFlow',\n",
       "       'Apache Spark;Hadoop;.NET;Pandas;TensorFlow',\n",
       "       'Ansible;Chef;Cordova;Node.js', 'Flutter;Unity 3D;Other(s):',\n",
       "       'Cordova;Flutter;.NET', 'Ansible;Chef;Flutter;Pandas',\n",
       "       'Apache Spark;Hadoop;.NET;Node.js;TensorFlow;Torch/PyTorch;Unity 3D;Unreal Engine',\n",
       "       'Node.js;Pandas;React Native;Unity 3D', '.NET;Xamarin;Other(s):',\n",
       "       'Ansible;Hadoop;Puppet', 'Ansible;Cordova;Node.js;React Native',\n",
       "       'Cordova;Hadoop;.NET;.NET Core;Node.js',\n",
       "       '.NET;.NET Core;Unreal Engine;Other(s):',\n",
       "       'Node.js;Pandas;Unreal Engine',\n",
       "       'Ansible;Node.js;Pandas;React Native;TensorFlow',\n",
       "       'Apache Spark;.NET;.NET Core;Torch/PyTorch',\n",
       "       'Ansible;Chef;Node.js;Puppet;Other(s):',\n",
       "       'Apache Spark;Node.js;Unreal Engine', 'Chef;Hadoop;Pandas',\n",
       "       'Hadoop;Pandas;TensorFlow;Other(s):',\n",
       "       '.NET;Node.js;Pandas;TensorFlow',\n",
       "       'Node.js;Pandas;Puppet;Unity 3D;Unreal Engine',\n",
       "       'Apache Spark;Hadoop;.NET;.NET Core;Pandas',\n",
       "       'React Native;TensorFlow;Unity 3D', 'Unity 3D;Xamarin',\n",
       "       'Cordova;.NET;.NET Core;Node.js;Pandas;TensorFlow;Torch/PyTorch',\n",
       "       'Ansible;Flutter', 'Chef;Node.js;Pandas',\n",
       "       'Node.js;React Native;TensorFlow;Other(s):',\n",
       "       '.NET;.NET Core;Puppet;Unity 3D;Xamarin',\n",
       "       '.NET;Pandas;React Native',\n",
       "       'Ansible;Apache Spark;Node.js;Torch/PyTorch;Other(s):',\n",
       "       'Apache Spark;.NET;Pandas;Torch/PyTorch;Other(s):',\n",
       "       'Pandas;TensorFlow;Torch/PyTorch;Unity 3D',\n",
       "       'Ansible;Apache Spark;Chef;Hadoop',\n",
       "       '.NET;Node.js;TensorFlow;Unity 3D;Unreal Engine',\n",
       "       'CryEngine;.NET;.NET Core;Node.js;Unity 3D;Unreal Engine;Xamarin',\n",
       "       'Ansible;Apache Spark;Chef;Node.js;Puppet',\n",
       "       'Ansible;Pandas;Puppet;TensorFlow', 'Puppet;Xamarin',\n",
       "       '.NET;.NET Core;Pandas;TensorFlow;Torch/PyTorch;Unity 3D;Xamarin',\n",
       "       'Apache Spark;Hadoop;Pandas;Other(s):',\n",
       "       'Hadoop;.NET;.NET Core;Pandas', 'Cordova;.NET;Unity 3D',\n",
       "       'Ansible;.NET;Node.js;Pandas;TensorFlow', 'Ansible;Pandas;Puppet',\n",
       "       'Cordova;Hadoop;.NET;Node.js;Puppet;Unity 3D',\n",
       "       '.NET;TensorFlow;Torch/PyTorch;Unreal Engine',\n",
       "       'Flutter;Node.js;React Native;Unity 3D;Xamarin',\n",
       "       'Ansible;Node.js;Unreal Engine',\n",
       "       'Ansible;Apache Spark;Cordova;Node.js;Pandas',\n",
       "       'Ansible;.NET;.NET Core;Node.js;Unreal Engine',\n",
       "       'Hadoop;Pandas;Torch/PyTorch', 'Flutter;Torch/PyTorch;Unity 3D',\n",
       "       '.NET;Node.js;React Native;TensorFlow',\n",
       "       'Flutter;Hadoop;Node.js;React Native', 'Chef;Cordova;React Native',\n",
       "       'Cordova;CryEngine;.NET;.NET Core;Node.js;TensorFlow;Unity 3D;Unreal Engine;Xamarin'],\n",
       "      dtype=object)"
      ]
     },
     "execution_count": 111,
     "metadata": {},
     "output_type": "execute_result"
    }
   ],
   "source": [
    "df_unique.MiscTechWorkedWith.unique()"
   ]
  },
  {
   "cell_type": "code",
   "execution_count": 112,
   "metadata": {},
   "outputs": [
    {
     "name": "stdout",
     "output_type": "stream",
     "text": [
      "MiscTechWorkedWith\n",
      "Node.js          4736\n",
      ".NET             3664\n",
      ".NET Core        2473\n",
      "Pandas           1039\n",
      "React Native     1008\n",
      "Ansible           955\n",
      "TensorFlow        791\n",
      "Unity 3D          751\n",
      "Cordova           650\n",
      "Xamarin           600\n",
      "Apache Spark      530\n",
      "Hadoop            401\n",
      "Other(s):         381\n",
      "Puppet            283\n",
      "Flutter           278\n",
      "Chef              263\n",
      "Torch/PyTorch     227\n",
      "Unreal Engine     188\n",
      "CryEngine          18\n",
      "Name: count, dtype: int64\n"
     ]
    }
   ],
   "source": [
    "df_unique, MiscTechWorkedWith_Counts = process_complex_column(df_unique, 'MiscTechWorkedWith')\n",
    "print(MiscTechWorkedWith_Counts)"
   ]
  },
  {
   "cell_type": "code",
   "execution_count": 113,
   "metadata": {},
   "outputs": [
    {
     "data": {
      "text/plain": [
       "array(['.NET', 'Node.js', 'Node.js;TensorFlow', ...,\n",
       "       'Cordova;Flutter;.NET;.NET Core;Node.js;React Native;TensorFlow;Unity 3D;Xamarin',\n",
       "       'Ansible;Chef;Cordova;Hadoop;Pandas;React Native;TensorFlow',\n",
       "       'Cordova;.NET;React Native'], dtype=object)"
      ]
     },
     "execution_count": 113,
     "metadata": {},
     "output_type": "execute_result"
    }
   ],
   "source": [
    "df_unique.MiscTechDesireNextYear.unique()"
   ]
  },
  {
   "cell_type": "code",
   "execution_count": 114,
   "metadata": {},
   "outputs": [
    {
     "name": "stdout",
     "output_type": "stream",
     "text": [
      "MiscTechDesireNextYear\n",
      "Node.js          4995\n",
      ".NET Core        3113\n",
      "TensorFlow       2592\n",
      ".NET             2541\n",
      "React Native     2324\n",
      "Unity 3D         1440\n",
      "Pandas           1250\n",
      "Ansible          1168\n",
      "Flutter          1091\n",
      "Apache Spark     1056\n",
      "Xamarin           988\n",
      "Hadoop            933\n",
      "Torch/PyTorch     861\n",
      "Unreal Engine     769\n",
      "Other(s):         439\n",
      "Cordova           409\n",
      "Puppet            378\n",
      "Chef              347\n",
      "CryEngine         106\n",
      "Name: count, dtype: int64\n"
     ]
    }
   ],
   "source": [
    "df_unique, MiscTechDesireNextYear_Counts = process_complex_column(df_unique, 'MiscTechDesireNextYear')\n",
    "print(MiscTechDesireNextYear_Counts)"
   ]
  },
  {
   "cell_type": "code",
   "execution_count": 115,
   "metadata": {},
   "outputs": [
    {
     "data": {
      "text/plain": [
       "array(['Eclipse;Vim;Visual Studio;Visual Studio Code', 'Vim',\n",
       "       'Vim;Visual Studio;Visual Studio Code;Xcode', ...,\n",
       "       'Android Studio;IntelliJ;Notepad++;PHPStorm;Sublime Text;Visual Studio Code;Xcode',\n",
       "       'Eclipse;PHPStorm;Sublime Text',\n",
       "       'IntelliJ;Notepad++;PHPStorm;RStudio;Visual Studio;Visual Studio Code'],\n",
       "      dtype=object)"
      ]
     },
     "execution_count": 115,
     "metadata": {},
     "output_type": "execute_result"
    }
   ],
   "source": [
    "df_unique.DevEnviron.unique()"
   ]
  },
  {
   "cell_type": "code",
   "execution_count": 116,
   "metadata": {},
   "outputs": [
    {
     "name": "stdout",
     "output_type": "stream",
     "text": [
      "DevEnviron\n",
      "Visual Studio Code    6639\n",
      "Visual Studio         4027\n",
      "Notepad++             3439\n",
      "IntelliJ              3094\n",
      "Vim                   3040\n",
      "Sublime Text          2638\n",
      "Android Studio        1691\n",
      "PyCharm               1448\n",
      "Eclipse               1373\n",
      "Atom                  1322\n",
      "Xcode                 1037\n",
      "IPython / Jupyter      995\n",
      "PHPStorm               936\n",
      "NetBeans               519\n",
      "Emacs                  448\n",
      "RStudio                314\n",
      "RubyMine               170\n",
      "TextMate                74\n",
      "Coda                    52\n",
      "Komodo                  25\n",
      "Zend                    18\n",
      "Light Table              7\n",
      "Name: count, dtype: int64\n"
     ]
    }
   ],
   "source": [
    "df_unique, DevEnviron_Counts = process_complex_column(df_unique, 'DevEnviron')\n",
    "print(DevEnviron_Counts)"
   ]
  },
  {
   "cell_type": "code",
   "execution_count": 117,
   "metadata": {},
   "outputs": [
    {
     "data": {
      "text/plain": [
       "array(['Windows', 'MacOS', 'Linux-based', 'BSD', nan], dtype=object)"
      ]
     },
     "execution_count": 117,
     "metadata": {},
     "output_type": "execute_result"
    }
   ],
   "source": [
    "df_unique.OpSys.unique()"
   ]
  },
  {
   "cell_type": "code",
   "execution_count": 118,
   "metadata": {},
   "outputs": [],
   "source": [
    "df_unique['OpSys'].fillna('not answer', inplace=True)"
   ]
  },
  {
   "cell_type": "code",
   "execution_count": 119,
   "metadata": {},
   "outputs": [
    {
     "data": {
      "text/plain": [
       "array(['I do not use containers', 'Development;Testing;Production',\n",
       "       'Development;Testing;Production;Outside of work, for personal projects',\n",
       "       'Outside of work, for personal projects', 'Development;Testing',\n",
       "       'Testing', 'Production', 'Testing;Production',\n",
       "       'Development;Testing;Outside of work, for personal projects',\n",
       "       'Development', 'Production;Outside of work, for personal projects',\n",
       "       'Development;Production;Outside of work, for personal projects',\n",
       "       'Development;Production',\n",
       "       'Testing;Outside of work, for personal projects',\n",
       "       'Testing;Production;Outside of work, for personal projects',\n",
       "       'Development;Outside of work, for personal projects', nan],\n",
       "      dtype=object)"
      ]
     },
     "execution_count": 119,
     "metadata": {},
     "output_type": "execute_result"
    }
   ],
   "source": [
    "df_unique.Containers.unique()"
   ]
  },
  {
   "cell_type": "code",
   "execution_count": 120,
   "metadata": {},
   "outputs": [
    {
     "name": "stdout",
     "output_type": "stream",
     "text": [
      "Containers\n",
      "Development                               5230\n",
      "Testing                                   4176\n",
      "I do not use containers                   4170\n",
      "Production                                3733\n",
      "Outside of work, for personal projects    3325\n",
      "Name: count, dtype: int64\n"
     ]
    }
   ],
   "source": [
    "df_unique, Containers_Counts = process_complex_column(df_unique, 'Containers')\n",
    "print(Containers_Counts)"
   ]
  },
  {
   "cell_type": "code",
   "execution_count": 121,
   "metadata": {},
   "outputs": [
    {
     "data": {
      "text/plain": [
       "array(['Not at all', nan, 'Implementing cryptocurrency-based products',\n",
       "       'Non-currency applications of blockchain',\n",
       "       'Accepting Bitcoin or other coins and tokens as payments',\n",
       "       'Implementing our own cryptocurrency'], dtype=object)"
      ]
     },
     "execution_count": 121,
     "metadata": {},
     "output_type": "execute_result"
    }
   ],
   "source": [
    "df_unique.BlockchainOrg.unique()"
   ]
  },
  {
   "cell_type": "code",
   "execution_count": 122,
   "metadata": {},
   "outputs": [],
   "source": [
    "df_unique['BlockchainOrg'].fillna('not answer', inplace=True)"
   ]
  },
  {
   "cell_type": "code",
   "execution_count": 123,
   "metadata": {},
   "outputs": [
    {
     "data": {
      "text/plain": [
       "array(['Useful for decentralized currency (i.e., Bitcoin)',\n",
       "       'An irresponsible use of resources', 'A passing fad', nan,\n",
       "       'Useful for immutable record keeping outside of currency',\n",
       "       'Useful across many domains and could change many aspects of our lives'],\n",
       "      dtype=object)"
      ]
     },
     "execution_count": 123,
     "metadata": {},
     "output_type": "execute_result"
    }
   ],
   "source": [
    "df_unique.BlockchainIs.unique()"
   ]
  },
  {
   "cell_type": "code",
   "execution_count": 124,
   "metadata": {},
   "outputs": [],
   "source": [
    "df_unique['BlockchainIs'].fillna('not answer', inplace=True)"
   ]
  },
  {
   "cell_type": "code",
   "execution_count": 125,
   "metadata": {},
   "outputs": [
    {
     "data": {
      "text/plain": [
       "array(['Yes', 'No', nan], dtype=object)"
      ]
     },
     "execution_count": 125,
     "metadata": {},
     "output_type": "execute_result"
    }
   ],
   "source": [
    "df_unique.BetterLife.unique()"
   ]
  },
  {
   "cell_type": "code",
   "execution_count": 126,
   "metadata": {},
   "outputs": [],
   "source": [
    "df_unique['BetterLife'].fillna('not answer', inplace=True)"
   ]
  },
  {
   "cell_type": "code",
   "execution_count": 127,
   "metadata": {},
   "outputs": [
    {
     "data": {
      "text/plain": [
       "array(['SIGH', 'Yes', 'Fortunately, someone else has that title',\n",
       "       'Also Yes', nan], dtype=object)"
      ]
     },
     "execution_count": 127,
     "metadata": {},
     "output_type": "execute_result"
    }
   ],
   "source": [
    "df_unique.ITperson.unique()"
   ]
  },
  {
   "cell_type": "code",
   "execution_count": 128,
   "metadata": {},
   "outputs": [],
   "source": [
    "df_unique['ITperson'].fillna('not answer', inplace=True)"
   ]
  },
  {
   "cell_type": "code",
   "execution_count": 129,
   "metadata": {},
   "outputs": [
    {
     "data": {
      "text/plain": [
       "array(['Reddit', 'Twitter', 'YouTube', 'WhatsApp', 'Facebook',\n",
       "       'Instagram', \"I don't use social media\", 'WeChat 微信', 'LinkedIn',\n",
       "       nan, 'VK ВКонта́кте', 'Snapchat', 'Weibo 新浪微博', 'Youku Tudou 优酷',\n",
       "       'Hello'], dtype=object)"
      ]
     },
     "execution_count": 129,
     "metadata": {},
     "output_type": "execute_result"
    }
   ],
   "source": [
    "df_unique.SocialMedia.unique()"
   ]
  },
  {
   "cell_type": "code",
   "execution_count": 130,
   "metadata": {},
   "outputs": [],
   "source": [
    "df_unique['SocialMedia'].fillna('not answer', inplace=True)"
   ]
  },
  {
   "cell_type": "code",
   "execution_count": 131,
   "metadata": {},
   "outputs": [
    {
     "data": {
      "text/plain": [
       "array(['In real life (in person)', 'Online', 'Neither', nan], dtype=object)"
      ]
     },
     "execution_count": 131,
     "metadata": {},
     "output_type": "execute_result"
    }
   ],
   "source": [
    "df_unique.Extraversion.unique()"
   ]
  },
  {
   "cell_type": "code",
   "execution_count": 132,
   "metadata": {},
   "outputs": [],
   "source": [
    "df_unique['Extraversion'].fillna('not answer', inplace=True)"
   ]
  },
  {
   "cell_type": "code",
   "execution_count": 133,
   "metadata": {},
   "outputs": [
    {
     "data": {
      "text/plain": [
       "array(['Username', nan, 'Login', 'UserID', 'Screen Name', 'Handle'],\n",
       "      dtype=object)"
      ]
     },
     "execution_count": 133,
     "metadata": {},
     "output_type": "execute_result"
    }
   ],
   "source": [
    "df_unique.ScreenName.unique()"
   ]
  },
  {
   "cell_type": "code",
   "execution_count": 134,
   "metadata": {},
   "outputs": [],
   "source": [
    "df_unique['ScreenName'].fillna('not answer', inplace=True)"
   ]
  },
  {
   "cell_type": "code",
   "execution_count": 135,
   "metadata": {},
   "outputs": [
    {
     "data": {
      "text/plain": [
       "array(['2014', '2013', '2011', '2010', '2008', \"I don't remember\", '2017',\n",
       "       '2012', '2009', nan, '2015', '2016', '2019', '2018'], dtype=object)"
      ]
     },
     "execution_count": 135,
     "metadata": {},
     "output_type": "execute_result"
    }
   ],
   "source": [
    "df_unique.SOVisit1st.unique()\n"
   ]
  },
  {
   "cell_type": "code",
   "execution_count": 136,
   "metadata": {},
   "outputs": [
    {
     "name": "stdout",
     "output_type": "stream",
     "text": [
      "[2014. 2013. 2011. 2010. 2008.   nan 2017. 2012. 2009. 2015. 2016. 2019.\n",
      " 2018.]\n"
     ]
    }
   ],
   "source": [
    "SOVisit1st_Mapping = {\n",
    "    \"I don't remember\": None\n",
    "}\n",
    "\n",
    "df_unique['SOVisit1st'] = df_unique['SOVisit1st'].replace(SOVisit1st_Mapping)\n",
    "df_unique['SOVisit1st'] = df_unique['SOVisit1st'].astype(float)\n",
    "print(df_unique['SOVisit1st'].unique())"
   ]
  },
  {
   "cell_type": "code",
   "execution_count": 137,
   "metadata": {},
   "outputs": [
    {
     "data": {
      "text/plain": [
       "array(['Daily or almost daily', 'Multiple times per day',\n",
       "       'A few times per month or weekly', 'A few times per week',\n",
       "       'Less than once per month or monthly', nan,\n",
       "       'I have never visited Stack Overflow (before today)'], dtype=object)"
      ]
     },
     "execution_count": 137,
     "metadata": {},
     "output_type": "execute_result"
    }
   ],
   "source": [
    "df_unique.SOVisitFreq.unique()\n"
   ]
  },
  {
   "cell_type": "code",
   "execution_count": 138,
   "metadata": {},
   "outputs": [],
   "source": [
    "df_unique['SOVisitFreq'].fillna('not answer', inplace=True)"
   ]
  },
  {
   "cell_type": "code",
   "execution_count": 139,
   "metadata": {},
   "outputs": [
    {
     "data": {
      "text/plain": [
       "array(['Find answers to specific questions;Pass the time / relax',\n",
       "       'Find answers to specific questions;Contribute to a library of information',\n",
       "       'Find answers to specific questions',\n",
       "       'Find answers to specific questions;Learn how to do things I didn’t necessarily look for',\n",
       "       'Find answers to specific questions;Learn how to do things I didn’t necessarily look for;Get a sense of belonging to the developer community',\n",
       "       'Find answers to specific questions;Learn how to do things I didn’t necessarily look for;Pass the time / relax',\n",
       "       'Find answers to specific questions;Learn how to do things I didn’t necessarily look for;Contribute to a library of information',\n",
       "       'Find answers to specific questions;Learn how to do things I didn’t necessarily look for;Contribute to a library of information;Get a sense of belonging to the developer community',\n",
       "       'Find answers to specific questions;Learn how to do things I didn’t necessarily look for;Contribute to a library of information;Get a sense of belonging to the developer community;Pass the time / relax',\n",
       "       'Find answers to specific questions;Learn how to do things I didn’t necessarily look for;Meet other people with similar skills or interests;Pass the time / relax',\n",
       "       'Learn how to do things I didn’t necessarily look for;Contribute to a library of information',\n",
       "       'Find answers to specific questions;Learn how to do things I didn’t necessarily look for;Get a sense of belonging to the developer community;Pass the time / relax',\n",
       "       'Find answers to specific questions;Contribute to a library of information;Get a sense of belonging to the developer community',\n",
       "       'Find answers to specific questions;Contribute to a library of information;Pass the time / relax',\n",
       "       'Find answers to specific questions;Contribute to a library of information;Get a sense of belonging to the developer community;Meet other people with similar skills or interests',\n",
       "       'Find answers to specific questions;Get a sense of belonging to the developer community;Meet other people with similar skills or interests',\n",
       "       'Find answers to specific questions;Learn how to do things I didn’t necessarily look for;Contribute to a library of information;Pass the time / relax',\n",
       "       'Contribute to a library of information;Pass the time / relax',\n",
       "       'Find answers to specific questions;Learn how to do things I didn’t necessarily look for;Contribute to a library of information;Get a sense of belonging to the developer community;Meet other people with similar skills or interests',\n",
       "       'Find answers to specific questions;Learn how to do things I didn’t necessarily look for;Meet other people with similar skills or interests',\n",
       "       'Find answers to specific questions;Get a sense of belonging to the developer community;Pass the time / relax',\n",
       "       'Find answers to specific questions;Learn how to do things I didn’t necessarily look for;Contribute to a library of information;Get a sense of belonging to the developer community;Meet other people with similar skills or interests;Pass the time / relax',\n",
       "       'Find answers to specific questions;Contribute to a library of information;Get a sense of belonging to the developer community;Pass the time / relax',\n",
       "       'Find answers to specific questions;Get a sense of belonging to the developer community',\n",
       "       'Contribute to a library of information',\n",
       "       'Learn how to do things I didn’t necessarily look for',\n",
       "       'Find answers to specific questions;Contribute to a library of information;Meet other people with similar skills or interests',\n",
       "       'Find answers to specific questions;Learn how to do things I didn’t necessarily look for;Get a sense of belonging to the developer community;Meet other people with similar skills or interests',\n",
       "       'Find answers to specific questions;Learn how to do things I didn’t necessarily look for;Get a sense of belonging to the developer community;Meet other people with similar skills or interests;Pass the time / relax',\n",
       "       'Find answers to specific questions;Learn how to do things I didn’t necessarily look for;Contribute to a library of information;Meet other people with similar skills or interests',\n",
       "       'Find answers to specific questions;Get a sense of belonging to the developer community;Meet other people with similar skills or interests;Pass the time / relax',\n",
       "       'Pass the time / relax',\n",
       "       'Find answers to specific questions;Meet other people with similar skills or interests',\n",
       "       'Learn how to do things I didn’t necessarily look for;Contribute to a library of information;Meet other people with similar skills or interests',\n",
       "       'Find answers to specific questions;Contribute to a library of information;Get a sense of belonging to the developer community;Meet other people with similar skills or interests;Pass the time / relax',\n",
       "       'Get a sense of belonging to the developer community;Pass the time / relax',\n",
       "       'Learn how to do things I didn’t necessarily look for;Contribute to a library of information;Pass the time / relax',\n",
       "       'Find answers to specific questions;Meet other people with similar skills or interests;Pass the time / relax',\n",
       "       'Find answers to specific questions;Learn how to do things I didn’t necessarily look for;Contribute to a library of information;Meet other people with similar skills or interests;Pass the time / relax',\n",
       "       'Contribute to a library of information;Get a sense of belonging to the developer community;Pass the time / relax',\n",
       "       'Contribute to a library of information;Get a sense of belonging to the developer community',\n",
       "       'Learn how to do things I didn’t necessarily look for;Get a sense of belonging to the developer community;Meet other people with similar skills or interests',\n",
       "       'Contribute to a library of information;Get a sense of belonging to the developer community;Meet other people with similar skills or interests;Pass the time / relax',\n",
       "       'Learn how to do things I didn’t necessarily look for;Get a sense of belonging to the developer community',\n",
       "       'Learn how to do things I didn’t necessarily look for;Contribute to a library of information;Get a sense of belonging to the developer community;Meet other people with similar skills or interests;Pass the time / relax',\n",
       "       'Learn how to do things I didn’t necessarily look for;Contribute to a library of information;Get a sense of belonging to the developer community',\n",
       "       'Learn how to do things I didn’t necessarily look for;Pass the time / relax',\n",
       "       'Learn how to do things I didn’t necessarily look for;Get a sense of belonging to the developer community;Pass the time / relax',\n",
       "       'Get a sense of belonging to the developer community',\n",
       "       'Learn how to do things I didn’t necessarily look for;Contribute to a library of information;Get a sense of belonging to the developer community;Meet other people with similar skills or interests',\n",
       "       'Learn how to do things I didn’t necessarily look for;Contribute to a library of information;Meet other people with similar skills or interests;Pass the time / relax',\n",
       "       'Find answers to specific questions;Contribute to a library of information;Meet other people with similar skills or interests;Pass the time / relax',\n",
       "       'Contribute to a library of information;Get a sense of belonging to the developer community;Meet other people with similar skills or interests',\n",
       "       'Learn how to do things I didn’t necessarily look for;Contribute to a library of information;Get a sense of belonging to the developer community;Pass the time / relax',\n",
       "       'Contribute to a library of information;Meet other people with similar skills or interests;Pass the time / relax',\n",
       "       'Meet other people with similar skills or interests',\n",
       "       'Contribute to a library of information;Meet other people with similar skills or interests',\n",
       "       'Learn how to do things I didn’t necessarily look for;Meet other people with similar skills or interests;Pass the time / relax',\n",
       "       nan], dtype=object)"
      ]
     },
     "execution_count": 139,
     "metadata": {},
     "output_type": "execute_result"
    }
   ],
   "source": [
    "df_unique.SOVisitTo.unique()\n"
   ]
  },
  {
   "cell_type": "code",
   "execution_count": 140,
   "metadata": {},
   "outputs": [
    {
     "name": "stdout",
     "output_type": "stream",
     "text": [
      "SOVisitTo\n",
      "Find answers to specific questions                      11195\n",
      "Learn how to do things I didn’t necessarily look for     4860\n",
      "Contribute to a library of information                   3290\n",
      "Pass the time / relax                                    1987\n",
      "Get a sense of belonging to the developer community      1957\n",
      "Meet other people with similar skills or interests        474\n",
      "Name: count, dtype: int64\n"
     ]
    }
   ],
   "source": [
    "df_unique, SOVisitTo_Counts = process_complex_column(df_unique, 'SOVisitTo')\n",
    "print(SOVisitTo_Counts)"
   ]
  },
  {
   "cell_type": "code",
   "execution_count": 141,
   "metadata": {},
   "outputs": [
    {
     "data": {
      "text/plain": [
       "array(['1-2 times per week', '3-5 times per week',\n",
       "       'More than 10 times per week', 'Less than once per week',\n",
       "       '6-10 times per week', nan], dtype=object)"
      ]
     },
     "execution_count": 141,
     "metadata": {},
     "output_type": "execute_result"
    }
   ],
   "source": [
    "df_unique.SOFindAnswer.unique()\n"
   ]
  },
  {
   "cell_type": "code",
   "execution_count": 142,
   "metadata": {},
   "outputs": [],
   "source": [
    "df_unique['SOFindAnswer'].fillna('not answer', inplace=True)"
   ]
  },
  {
   "cell_type": "code",
   "execution_count": 143,
   "metadata": {},
   "outputs": [
    {
     "data": {
      "text/plain": [
       "array(['Stack Overflow was much faster', 'They were about the same',\n",
       "       'Stack Overflow was slightly faster',\n",
       "       'The other resource was slightly faster', nan,\n",
       "       'The other resource was much faster'], dtype=object)"
      ]
     },
     "execution_count": 143,
     "metadata": {},
     "output_type": "execute_result"
    }
   ],
   "source": [
    "df_unique.SOTimeSaved.unique()\n"
   ]
  },
  {
   "cell_type": "code",
   "execution_count": 144,
   "metadata": {},
   "outputs": [],
   "source": [
    "df_unique['SOTimeSaved'].fillna('not answer', inplace=True)"
   ]
  },
  {
   "cell_type": "code",
   "execution_count": 145,
   "metadata": {},
   "outputs": [
    {
     "data": {
      "text/plain": [
       "array(['31-60 minutes', nan, '11-30 minutes', '0-10 minutes',\n",
       "       '60+ minutes'], dtype=object)"
      ]
     },
     "execution_count": 145,
     "metadata": {},
     "output_type": "execute_result"
    }
   ],
   "source": [
    "df_unique.SOHowMuchTime.unique()\n"
   ]
  },
  {
   "cell_type": "code",
   "execution_count": 146,
   "metadata": {},
   "outputs": [],
   "source": [
    "df_unique['SOHowMuchTime'].fillna('not answer', inplace=True)\n"
   ]
  },
  {
   "cell_type": "code",
   "execution_count": 147,
   "metadata": {},
   "outputs": [
    {
     "data": {
      "text/plain": [
       "array(['Yes', 'No', \"Not sure / can't remember\", nan], dtype=object)"
      ]
     },
     "execution_count": 147,
     "metadata": {},
     "output_type": "execute_result"
    }
   ],
   "source": [
    "df_unique.SOAccount.unique()\n"
   ]
  },
  {
   "cell_type": "code",
   "execution_count": 148,
   "metadata": {},
   "outputs": [],
   "source": [
    "df_unique['SOAccount'].fillna('not answer', inplace=True)\n"
   ]
  },
  {
   "cell_type": "code",
   "execution_count": 149,
   "metadata": {},
   "outputs": [
    {
     "data": {
      "text/plain": [
       "array(['Less than once per month or monthly', 'A few times per week',\n",
       "       'I have never participated in Q&A on Stack Overflow',\n",
       "       'A few times per month or weekly', nan, 'Daily or almost daily',\n",
       "       'Multiple times per day'], dtype=object)"
      ]
     },
     "execution_count": 149,
     "metadata": {},
     "output_type": "execute_result"
    }
   ],
   "source": [
    "df_unique.SOPartFreq.unique()\n"
   ]
  },
  {
   "cell_type": "code",
   "execution_count": 150,
   "metadata": {},
   "outputs": [],
   "source": [
    "df_unique['SOPartFreq'].fillna('not answer', inplace=True)\n"
   ]
  },
  {
   "cell_type": "code",
   "execution_count": 151,
   "metadata": {},
   "outputs": [
    {
     "data": {
      "text/plain": [
       "array(['Yes',\n",
       "       'No, I knew that Stack Overflow had a job board but have never used or visited it',\n",
       "       \"No, I didn't know that Stack Overflow had a job board\", nan],\n",
       "      dtype=object)"
      ]
     },
     "execution_count": 151,
     "metadata": {},
     "output_type": "execute_result"
    }
   ],
   "source": [
    "df_unique.SOJobs.unique()\n"
   ]
  },
  {
   "cell_type": "code",
   "execution_count": 152,
   "metadata": {},
   "outputs": [],
   "source": [
    "df_unique['SOJobs'].fillna('not answer', inplace=True)\n"
   ]
  },
  {
   "cell_type": "code",
   "execution_count": 153,
   "metadata": {},
   "outputs": [
    {
     "data": {
      "text/plain": [
       "array([\"No, and I don't know what those are\",\n",
       "       \"No, I've heard of them, but I am not part of a private Q&A instance\",\n",
       "       'Yes', nan], dtype=object)"
      ]
     },
     "execution_count": 153,
     "metadata": {},
     "output_type": "execute_result"
    }
   ],
   "source": [
    "df_unique.EntTeams.unique()\n"
   ]
  },
  {
   "cell_type": "code",
   "execution_count": 154,
   "metadata": {},
   "outputs": [],
   "source": [
    "df_unique['EntTeams'].fillna('not answer', inplace=True)\n"
   ]
  },
  {
   "cell_type": "code",
   "execution_count": 155,
   "metadata": {},
   "outputs": [
    {
     "data": {
      "text/plain": [
       "array(['No, not really', 'Yes, somewhat', 'Neutral', 'Yes, definitely',\n",
       "       'No, not at all', 'Not sure'], dtype=object)"
      ]
     },
     "execution_count": 155,
     "metadata": {},
     "output_type": "execute_result"
    }
   ],
   "source": [
    "df_unique.SOComm.unique()\n"
   ]
  },
  {
   "cell_type": "code",
   "execution_count": 156,
   "metadata": {},
   "outputs": [
    {
     "data": {
      "text/plain": [
       "array(['Just as welcome now as I felt last year',\n",
       "       'Somewhat more welcome now than last year',\n",
       "       'Not applicable - I did not use Stack Overflow last year',\n",
       "       'Somewhat less welcome now than last year', nan,\n",
       "       'A lot more welcome now than last year',\n",
       "       'A lot less welcome now than last year'], dtype=object)"
      ]
     },
     "execution_count": 156,
     "metadata": {},
     "output_type": "execute_result"
    }
   ],
   "source": [
    "df_unique.WelcomeChange.unique()\n"
   ]
  },
  {
   "cell_type": "code",
   "execution_count": 157,
   "metadata": {},
   "outputs": [],
   "source": [
    "df_unique['WelcomeChange'].fillna('not answer', inplace=True)\n"
   ]
  },
  {
   "cell_type": "code",
   "execution_count": 158,
   "metadata": {},
   "outputs": [
    {
     "data": {
      "text/plain": [
       "array([\"Tech articles written by other developers;Industry news about technologies you're interested in;Tech meetups or events in your area;Courses on technologies you're interested in\",\n",
       "       nan,\n",
       "       \"Tech articles written by other developers;Courses on technologies you're interested in\",\n",
       "       \"Tech articles written by other developers;Industry news about technologies you're interested in\",\n",
       "       'Tech articles written by other developers',\n",
       "       \"Tech articles written by other developers;Tech meetups or events in your area;Courses on technologies you're interested in\",\n",
       "       'Tech meetups or events in your area',\n",
       "       \"Tech articles written by other developers;Industry news about technologies you're interested in;Tech meetups or events in your area\",\n",
       "       \"Tech articles written by other developers;Industry news about technologies you're interested in;Courses on technologies you're interested in\",\n",
       "       \"Industry news about technologies you're interested in;Tech meetups or events in your area\",\n",
       "       \"Industry news about technologies you're interested in;Courses on technologies you're interested in\",\n",
       "       'Tech articles written by other developers;Tech meetups or events in your area',\n",
       "       \"Courses on technologies you're interested in\",\n",
       "       \"Industry news about technologies you're interested in;Tech meetups or events in your area;Courses on technologies you're interested in\",\n",
       "       \"Industry news about technologies you're interested in\",\n",
       "       \"Tech meetups or events in your area;Courses on technologies you're interested in\"],\n",
       "      dtype=object)"
      ]
     },
     "execution_count": 158,
     "metadata": {},
     "output_type": "execute_result"
    }
   ],
   "source": [
    "df_unique.SONewContent.unique()\n"
   ]
  },
  {
   "cell_type": "code",
   "execution_count": 159,
   "metadata": {},
   "outputs": [
    {
     "name": "stdout",
     "output_type": "stream",
     "text": [
      "SONewContent\n",
      "Tech articles written by other developers                7121\n",
      "Courses on technologies you're interested in             5724\n",
      "Tech meetups or events in your area                      5390\n",
      "Industry news about technologies you're interested in    4899\n",
      "Name: count, dtype: int64\n"
     ]
    }
   ],
   "source": [
    "df_unique, SONewContent_Counts = process_complex_column(df_unique, 'SONewContent')\n",
    "print(SONewContent_Counts)"
   ]
  },
  {
   "cell_type": "code",
   "execution_count": 160,
   "metadata": {},
   "outputs": [
    {
     "data": {
      "text/plain": [
       "array([22. , 23. , 28. , 26. , 29. , 31. , 38. , 47. , 34. , 32. , 21. ,\n",
       "       44. , 42. , 27. , 43. , 18. , 37. , 33. , 19. , 24. , 25. , 36. ,\n",
       "       35. , 30. , 39. , 41. , 54. ,  nan, 40. , 45. , 51. , 57. , 52. ,\n",
       "       48. , 49. , 46. , 20. , 53. , 50. , 59. , 61. , 63. , 65. , 58. ,\n",
       "       56. , 17. , 46.5, 60. , 71. , 55. , 29.5, 62. , 26.5, 26.3, 67. ,\n",
       "       16. , 72. , 66. , 24.5, 69. , 99. , 43.5, 22.5, 31.5])"
      ]
     },
     "execution_count": 160,
     "metadata": {},
     "output_type": "execute_result"
    }
   ],
   "source": [
    "df_unique.Age.unique()\n"
   ]
  },
  {
   "cell_type": "code",
   "execution_count": 161,
   "metadata": {},
   "outputs": [
    {
     "data": {
      "text/plain": [
       "array(['Man', 'Woman',\n",
       "       'Non-binary, genderqueer, or gender non-conforming', nan,\n",
       "       'Woman;Non-binary, genderqueer, or gender non-conforming',\n",
       "       'Woman;Man',\n",
       "       'Woman;Man;Non-binary, genderqueer, or gender non-conforming',\n",
       "       'Man;Non-binary, genderqueer, or gender non-conforming'],\n",
       "      dtype=object)"
      ]
     },
     "execution_count": 161,
     "metadata": {},
     "output_type": "execute_result"
    }
   ],
   "source": [
    "df_unique.Gender.unique()\n"
   ]
  },
  {
   "cell_type": "code",
   "execution_count": 162,
   "metadata": {},
   "outputs": [
    {
     "name": "stdout",
     "output_type": "stream",
     "text": [
      "Gender\n",
      "Man                                                  10517\n",
      "Woman                                                  756\n",
      "Non-binary, genderqueer, or gender non-conforming      105\n",
      "Name: count, dtype: int64\n"
     ]
    }
   ],
   "source": [
    "df_unique, Gender_Counts = process_complex_column(df_unique, 'Gender')\n",
    "print(Gender_Counts)"
   ]
  },
  {
   "cell_type": "code",
   "execution_count": 163,
   "metadata": {},
   "outputs": [
    {
     "data": {
      "text/plain": [
       "array(['No', 'Yes', nan], dtype=object)"
      ]
     },
     "execution_count": 163,
     "metadata": {},
     "output_type": "execute_result"
    }
   ],
   "source": [
    "df_unique.Trans.unique()\n"
   ]
  },
  {
   "cell_type": "code",
   "execution_count": 164,
   "metadata": {},
   "outputs": [],
   "source": [
    "df_unique['Trans'].fillna('not answer', inplace=True)\n"
   ]
  },
  {
   "cell_type": "code",
   "execution_count": 165,
   "metadata": {},
   "outputs": [
    {
     "data": {
      "text/plain": [
       "array(['White or of European descent',\n",
       "       'Hispanic or Latino/Latina;Multiracial',\n",
       "       'Hispanic or Latino/Latina', 'Black or of African descent',\n",
       "       'Middle Eastern', nan, 'South Asian', 'East Asian', 'Multiracial',\n",
       "       'East Asian;South Asian', 'Biracial',\n",
       "       'Middle Eastern;White or of European descent',\n",
       "       'Native American, Pacific Islander, or Indigenous Australian',\n",
       "       'Black or of African descent;White or of European descent',\n",
       "       'Hispanic or Latino/Latina;White or of European descent',\n",
       "       'Black or of African descent;White or of European descent;Biracial',\n",
       "       'East Asian;White or of European descent;Biracial',\n",
       "       'Black or of African descent;Hispanic or Latino/Latina;Native American, Pacific Islander, or Indigenous Australian;White or of European descent;Multiracial',\n",
       "       'East Asian;White or of European descent',\n",
       "       'Hispanic or Latino/Latina;White or of European descent;Biracial',\n",
       "       'East Asian;Native American, Pacific Islander, or Indigenous Australian;White or of European descent;Multiracial',\n",
       "       'South Asian;White or of European descent;Multiracial',\n",
       "       'South Asian;Biracial', 'Middle Eastern;South Asian',\n",
       "       'White or of European descent;Multiracial',\n",
       "       'East Asian;South Asian;Multiracial',\n",
       "       'Hispanic or Latino/Latina;White or of European descent;Multiracial',\n",
       "       'Black or of African descent;Hispanic or Latino/Latina',\n",
       "       'East Asian;Hispanic or Latino/Latina;White or of European descent',\n",
       "       'White or of European descent;Biracial',\n",
       "       'East Asian;White or of European descent;Multiracial',\n",
       "       'South Asian;White or of European descent;Biracial',\n",
       "       'East Asian;South Asian;White or of European descent;Multiracial',\n",
       "       'Native American, Pacific Islander, or Indigenous Australian;White or of European descent;Multiracial',\n",
       "       'Black or of African descent;White or of European descent;Multiracial',\n",
       "       'Black or of African descent;Hispanic or Latino/Latina;White or of European descent',\n",
       "       'Hispanic or Latino/Latina;Middle Eastern;White or of European descent',\n",
       "       'Hispanic or Latino/Latina;Biracial',\n",
       "       'Hispanic or Latino/Latina;South Asian;Multiracial',\n",
       "       'Black or of African descent;Hispanic or Latino/Latina;Native American, Pacific Islander, or Indigenous Australian;Multiracial',\n",
       "       'Native American, Pacific Islander, or Indigenous Australian;White or of European descent',\n",
       "       'East Asian;Middle Eastern',\n",
       "       'Native American, Pacific Islander, or Indigenous Australian;White or of European descent;Biracial',\n",
       "       'Black or of African descent;Multiracial',\n",
       "       'East Asian;Middle Eastern;South Asian',\n",
       "       'Black or of African descent;Biracial',\n",
       "       'Black or of African descent;Middle Eastern',\n",
       "       'Black or of African descent;Hispanic or Latino/Latina;White or of European descent;Multiracial',\n",
       "       'Black or of African descent;South Asian;Multiracial',\n",
       "       'East Asian;Hispanic or Latino/Latina', 'South Asian;Multiracial',\n",
       "       'Middle Eastern;White or of European descent;Multiracial',\n",
       "       'South Asian;White or of European descent',\n",
       "       'Native American, Pacific Islander, or Indigenous Australian;South Asian;White or of European descent;Biracial',\n",
       "       'Middle Eastern;White or of European descent;Biracial',\n",
       "       'Native American, Pacific Islander, or Indigenous Australian;South Asian',\n",
       "       'Middle Eastern;Native American, Pacific Islander, or Indigenous Australian;White or of European descent;Multiracial',\n",
       "       'Black or of African descent;Hispanic or Latino/Latina;Multiracial',\n",
       "       'Hispanic or Latino/Latina;Native American, Pacific Islander, or Indigenous Australian;South Asian;White or of European descent;Multiracial',\n",
       "       'Black or of African descent;East Asian;White or of European descent;Multiracial',\n",
       "       'Hispanic or Latino/Latina;White or of European descent;Biracial;Multiracial',\n",
       "       'Hispanic or Latino/Latina;Native American, Pacific Islander, or Indigenous Australian;White or of European descent;Multiracial',\n",
       "       'Black or of African descent;White or of European descent;Biracial;Multiracial',\n",
       "       'East Asian;Hispanic or Latino/Latina;South Asian',\n",
       "       'East Asian;Middle Eastern;White or of European descent;Biracial',\n",
       "       'Black or of African descent;South Asian',\n",
       "       'Black or of African descent;Native American, Pacific Islander, or Indigenous Australian;White or of European descent;Multiracial',\n",
       "       'Hispanic or Latino/Latina;Native American, Pacific Islander, or Indigenous Australian',\n",
       "       'Black or of African descent;Native American, Pacific Islander, or Indigenous Australian',\n",
       "       'East Asian;Multiracial',\n",
       "       'Black or of African descent;East Asian;Hispanic or Latino/Latina;Biracial',\n",
       "       'Black or of African descent;Middle Eastern;Multiracial',\n",
       "       'East Asian;Native American, Pacific Islander, or Indigenous Australian',\n",
       "       'Black or of African descent;Hispanic or Latino/Latina;Biracial',\n",
       "       'Middle Eastern;South Asian;Multiracial',\n",
       "       'White or of European descent;Biracial;Multiracial',\n",
       "       'Black or of African descent;Middle Eastern;White or of European descent',\n",
       "       'East Asian;Biracial',\n",
       "       'East Asian;White or of European descent;Biracial;Multiracial',\n",
       "       'Hispanic or Latino/Latina;Middle Eastern',\n",
       "       'Hispanic or Latino/Latina;Native American, Pacific Islander, or Indigenous Australian;White or of European descent',\n",
       "       'Black or of African descent;East Asian',\n",
       "       'Black or of African descent;Hispanic or Latino/Latina;Middle Eastern;Multiracial',\n",
       "       'Black or of African descent;Biracial;Multiracial',\n",
       "       'Hispanic or Latino/Latina;Native American, Pacific Islander, or Indigenous Australian;Multiracial',\n",
       "       'Black or of African descent;East Asian;Hispanic or Latino/Latina;Middle Eastern;Native American, Pacific Islander, or Indigenous Australian;South Asian;White or of European descent;Biracial;Multiracial',\n",
       "       'East Asian;Middle Eastern;South Asian;White or of European descent',\n",
       "       'East Asian;Middle Eastern;White or of European descent;Multiracial',\n",
       "       'Biracial;Multiracial', 'Middle Eastern;Multiracial'], dtype=object)"
      ]
     },
     "execution_count": 165,
     "metadata": {},
     "output_type": "execute_result"
    }
   ],
   "source": [
    "df_unique.Ethnicity.unique()\n"
   ]
  },
  {
   "cell_type": "code",
   "execution_count": 166,
   "metadata": {},
   "outputs": [
    {
     "name": "stdout",
     "output_type": "stream",
     "text": [
      "Ethnicity\n",
      "White or of European descent                                   7875\n",
      "South Asian                                                    1177\n",
      "Hispanic or Latino/Latina                                       827\n",
      "East Asian                                                      536\n",
      "Middle Eastern                                                  421\n",
      "Black or of African descent                                     308\n",
      "Multiracial                                                     233\n",
      "Biracial                                                        147\n",
      "Native American, Pacific Islander, or Indigenous Australian      76\n",
      "Name: count, dtype: int64\n"
     ]
    }
   ],
   "source": [
    "df_unique, Ethnicity_Counts = process_complex_column(df_unique, 'Ethnicity')\n",
    "print(Ethnicity_Counts)"
   ]
  },
  {
   "cell_type": "code",
   "execution_count": 167,
   "metadata": {},
   "outputs": [
    {
     "data": {
      "text/plain": [
       "array(['No', 'Yes', nan], dtype=object)"
      ]
     },
     "execution_count": 167,
     "metadata": {},
     "output_type": "execute_result"
    }
   ],
   "source": [
    "df_unique.Dependents.unique()\n"
   ]
  },
  {
   "cell_type": "code",
   "execution_count": 168,
   "metadata": {},
   "outputs": [],
   "source": [
    "df_unique['Dependents'].fillna('not answer', inplace=True)\n"
   ]
  },
  {
   "cell_type": "code",
   "execution_count": 169,
   "metadata": {},
   "outputs": [
    {
     "data": {
      "text/plain": [
       "array(['Appropriate in length', 'Too long', 'Too short', nan],\n",
       "      dtype=object)"
      ]
     },
     "execution_count": 169,
     "metadata": {},
     "output_type": "execute_result"
    }
   ],
   "source": [
    "df_unique.SurveyLength.unique()\n"
   ]
  },
  {
   "cell_type": "code",
   "execution_count": 170,
   "metadata": {},
   "outputs": [],
   "source": [
    "df_unique['SurveyLength'].fillna('not answer', inplace=True)\n"
   ]
  },
  {
   "cell_type": "code",
   "execution_count": 171,
   "metadata": {},
   "outputs": [
    {
     "data": {
      "text/plain": [
       "array(['Easy', 'Neither easy nor difficult', nan, 'Difficult'],\n",
       "      dtype=object)"
      ]
     },
     "execution_count": 171,
     "metadata": {},
     "output_type": "execute_result"
    }
   ],
   "source": [
    "df_unique.SurveyEase.unique()\n"
   ]
  },
  {
   "cell_type": "code",
   "execution_count": 172,
   "metadata": {},
   "outputs": [],
   "source": [
    "df_unique['SurveyEase'].fillna('not answer', inplace=True)\n"
   ]
  },
  {
   "cell_type": "code",
   "execution_count": 173,
   "metadata": {},
   "outputs": [],
   "source": [
    "df_unique.to_csv('_m2_survey_data.csv')\n"
   ]
  },
  {
   "cell_type": "markdown",
   "metadata": {},
   "source": [
    "## Authors\n"
   ]
  },
  {
   "cell_type": "markdown",
   "metadata": {},
   "source": [
    "Ramesh Sannareddy\n"
   ]
  },
  {
   "cell_type": "markdown",
   "metadata": {},
   "source": [
    "### Other Contributors\n"
   ]
  },
  {
   "cell_type": "markdown",
   "metadata": {},
   "source": [
    "Rav Ahuja\n"
   ]
  },
  {
   "cell_type": "markdown",
   "metadata": {},
   "source": [
    "## Change Log\n"
   ]
  },
  {
   "cell_type": "markdown",
   "metadata": {},
   "source": [
    "| Date (YYYY-MM-DD) | Version | Changed By        | Change Description                 |\n",
    "| ----------------- | ------- | ----------------- | ---------------------------------- |\n",
    "| 2020-10-17        | 0.1     | Ramesh Sannareddy | Created initial version of the lab |\n"
   ]
  },
  {
   "cell_type": "markdown",
   "metadata": {},
   "source": [
    " Copyright © 2020 IBM Corporation. This notebook and its source code are released under the terms of the [MIT License](https://cognitiveclass.ai/mit-license?utm_medium=Exinfluencer&utm_source=Exinfluencer&utm_content=000026UJ&utm_term=10006555&utm_id=NA-SkillsNetwork-Channel-SkillsNetworkCoursesIBMDA0321ENSkillsNetwork928-2022-01-01&cm_mmc=Email_Newsletter-_-Developer_Ed%2BTech-_-WW_WW-_-SkillsNetwork-Courses-IBM-DA0321EN-SkillsNetwork-21426264&cm_mmca1=000026UJ&cm_mmca2=10006555&cm_mmca3=M12345678&cvosrc=email.Newsletter.M12345678&cvo_campaign=000026UJ).\n"
   ]
  }
 ],
 "metadata": {
  "kernelspec": {
   "display_name": "Python 3",
   "language": "python",
   "name": "python3"
  },
  "language_info": {
   "codemirror_mode": {
    "name": "ipython",
    "version": 3
   },
   "file_extension": ".py",
   "mimetype": "text/x-python",
   "name": "python",
   "nbconvert_exporter": "python",
   "pygments_lexer": "ipython3",
   "version": "3.11.9"
  }
 },
 "nbformat": 4,
 "nbformat_minor": 4
}

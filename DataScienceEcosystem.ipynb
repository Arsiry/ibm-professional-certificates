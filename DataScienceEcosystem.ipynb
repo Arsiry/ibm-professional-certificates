{
 "cells": [
  {
   "cell_type": "markdown",
   "id": "9b400ad6",
   "metadata": {},
   "source": [
    "# Data Science Tools and Ecosystem"
   ]
  },
  {
   "cell_type": "markdown",
   "id": "58b1d248",
   "metadata": {},
   "source": [
    "In this notebook, Data Science Tools and Ecosystem are summarized."
   ]
  },
  {
   "cell_type": "markdown",
   "id": "80583faa",
   "metadata": {},
   "source": [
    "Some of the popular languages that Data Scientists use are:\n",
    "1. Python\n",
    "2. R\n",
    "3. SQL\n",
    "4. Julia\n",
    "5. Scala"
   ]
  },
  {
   "cell_type": "markdown",
   "id": "ce5809b1",
   "metadata": {},
   "source": [
    "Some of the commonly used libraries used by Data Scientists include:\n",
    "1. NumPy\n",
    "2. Pandas\n",
    "3. SciPy\n",
    "4. MatplotLib\n",
    "5. Seaborn"
   ]
  },
  {
   "cell_type": "markdown",
   "id": "387d3a2c",
   "metadata": {},
   "source": [
    "|Data Science Tools|\n",
    "|------------------|\n",
    "|Jupyter Lab       |\n",
    "|R Studio          |\n",
    "|Spyder            |\n",
    "|Anaconda          |"
   ]
  },
  {
   "cell_type": "markdown",
   "id": "7b2908d4",
   "metadata": {},
   "source": [
    "***\n",
    "### Below are a few examples of evaluating arithmetic expressions in Python"
   ]
  },
  {
   "cell_type": "code",
   "execution_count": 7,
   "id": "e8199f14",
   "metadata": {},
   "outputs": [
    {
     "data": {
      "text/plain": [
       "17"
      ]
     },
     "execution_count": 7,
     "metadata": {},
     "output_type": "execute_result"
    }
   ],
   "source": [
    "(3*4)+5\n",
    "# This a simple arithmetic expression to mutiply then add integers"
   ]
  },
  {
   "cell_type": "code",
   "execution_count": 11,
   "id": "061c1479",
   "metadata": {},
   "outputs": [
    {
     "data": {
      "text/plain": [
       "3.3333333333333335"
      ]
     },
     "execution_count": 11,
     "metadata": {},
     "output_type": "execute_result"
    }
   ],
   "source": [
    "minutes = 200\n",
    "hours = minutes / 60\n",
    "# This will convert 200 minutes to hours by diving by 60\n",
    "hours"
   ]
  },
  {
   "cell_type": "markdown",
   "id": "3d7f9047",
   "metadata": {},
   "source": [
    "**Objectives:**\n",
    "* Create jupyter notebook\n",
    "* Add code and markdown cells\n",
    "* Add comment to code cells\n",
    "* Create markdown cells with lists\n",
    "* Create markdown cell with table"
   ]
  },
  {
   "cell_type": "markdown",
   "id": "a14b0b30",
   "metadata": {},
   "source": [
    "## Author\n",
    "Trofymova Anastasiia"
   ]
  },
  {
   "cell_type": "code",
   "execution_count": null,
   "id": "2ec111ab",
   "metadata": {},
   "outputs": [],
   "source": []
  }
 ],
 "metadata": {
  "kernelspec": {
   "display_name": "Python 3 (ipykernel)",
   "language": "python",
   "name": "python3"
  },
  "language_info": {
   "codemirror_mode": {
    "name": "ipython",
    "version": 3
   },
   "file_extension": ".py",
   "mimetype": "text/x-python",
   "name": "python",
   "nbconvert_exporter": "python",
   "pygments_lexer": "ipython3",
   "version": "3.8.12"
  }
 },
 "nbformat": 4,
 "nbformat_minor": 5
}

{
 "cells": [
  {
   "cell_type": "markdown",
   "id": "3e25b2a1-1c75-4740-aebe-f8f141a1ef94",
   "metadata": {},
   "source": [
    "<p style=\"text-align:center\">\n",
    "    <a href=\"https://skills.network/?utm_medium=Exinfluencer&utm_source=Exinfluencer&utm_content=000026UJ&utm_term=10006555&utm_id=NA-SkillsNetwork-Channel-SkillsNetworkCoursesIBMDeveloperSkillsNetworkML0101ENSkillsNetwork20718538-2022-01-01\" target=\"_blank\">\n",
    "    <img src=\"https://cf-courses-data.s3.us.cloud-object-storage.appdomain.cloud/assets/logos/SN_web_lightmode.png\" width=\"200\" alt=\"Skills Network Logo\">\n",
    "    </a>\n",
    "</p>\n",
    "\n",
    "<h1 align=\"center\"><font size=\"5\">Final Project: Classification with Python</font></h1>\n"
   ]
  },
  {
   "cell_type": "markdown",
   "id": "64a333d7-fcca-4bdf-9ddf-95c8c9f2d952",
   "metadata": {},
   "source": [
    "<h2>Table of Contents</h2>\n",
    "<div class=\"alert alert-block alert-info\" style=\"margin-top: 20px\">\n",
    "    <ul>\n",
    "    <li><a href=\"https://#Section_1\">Instructions</a></li>\n",
    "    <li><a href=\"https://#Section_2\">About the Data</a></li>\n",
    "    <li><a href=\"https://#Section_3\">Importing Data </a></li>\n",
    "    <li><a href=\"https://#Section_4\">Data Preprocessing</a> </li>\n",
    "    <li><a href=\"https://#Section_5\">One Hot Encoding </a></li>\n",
    "    <li><a href=\"https://#Section_6\">Train and Test Data Split </a></li>\n",
    "    <li><a href=\"https://#Section_7\">Train Logistic Regression, KNN, Decision Tree, SVM, and Linear Regression models and return their appropriate accuracy scores</a></li>\n",
    "</a></li>\n",
    "</div>\n",
    "<p>Estimated Time Needed: <strong>180 min</strong></p>\n",
    "</div>\n",
    "\n",
    "<hr>\n"
   ]
  },
  {
   "cell_type": "markdown",
   "id": "01c34459-837f-468d-8b0b-12a8d8b42f71",
   "metadata": {},
   "source": [
    "# Instructions\n"
   ]
  },
  {
   "cell_type": "markdown",
   "id": "b7e691c1-bd3f-4f20-91ad-667db2d59342",
   "metadata": {},
   "source": [
    "In this notebook, you will  practice all the classification algorithms that we have learned in this course.\n",
    "\n",
    "\n",
    "Below, is where we are going to use the classification algorithms to create a model based on our training data and evaluate our testing data using evaluation metrics learned in the course.\n",
    "\n",
    "We will use some of the algorithms taught in the course, specifically:\n",
    "\n",
    "1. Linear Regression\n",
    "2. KNN\n",
    "3. Decision Trees\n",
    "4. Logistic Regression\n",
    "5. SVM\n",
    "\n",
    "We will evaluate our models using:\n",
    "\n",
    "1.  Accuracy Score\n",
    "2.  Jaccard Index\n",
    "3.  F1-Score\n",
    "4.  LogLoss\n",
    "5.  Mean Absolute Error\n",
    "6.  Mean Squared Error\n",
    "7.  R2-Score\n",
    "\n",
    "Finally, you will use your models to generate the report at the end. \n"
   ]
  },
  {
   "cell_type": "markdown",
   "id": "888f661f-d6dd-4625-a950-b7af2ab4a4a7",
   "metadata": {},
   "source": [
    "# About The Dataset\n"
   ]
  },
  {
   "cell_type": "markdown",
   "id": "2ee7647a-c68f-4f68-adb4-f16f1957a694",
   "metadata": {},
   "source": [
    "The original source of the data is Australian Government's Bureau of Meteorology and the latest data can be gathered from [http://www.bom.gov.au/climate/dwo/](http://www.bom.gov.au/climate/dwo/?utm_medium=Exinfluencer&utm_source=Exinfluencer&utm_content=000026UJ&utm_term=10006555&utm_id=NA-SkillsNetwork-Channel-SkillsNetworkCoursesIBMDeveloperSkillsNetworkML0101ENSkillsNetwork20718538-2022-01-01).\n",
    "\n",
    "The dataset to be used has extra columns like 'RainToday' and our target is 'RainTomorrow', which was gathered from the Rattle at [https://bitbucket.org/kayontoga/rattle/src/master/data/weatherAUS.RData](https://bitbucket.org/kayontoga/rattle/src/master/data/weatherAUS.RData?utm_medium=Exinfluencer&utm_source=Exinfluencer&utm_content=000026UJ&utm_term=10006555&utm_id=NA-SkillsNetwork-Channel-SkillsNetworkCoursesIBMDeveloperSkillsNetworkML0101ENSkillsNetwork20718538-2022-01-01)\n",
    "\n",
    "\n"
   ]
  },
  {
   "cell_type": "markdown",
   "id": "54fc9230-6c94-49f8-9ed8-fdac52014f72",
   "metadata": {},
   "source": [
    "This dataset contains observations of weather metrics for each day from 2008 to 2017. The **weatherAUS.csv** dataset includes the following fields:\n",
    "\n",
    "| Field         | Description                                           | Unit            | Type   |\n",
    "| ------------- | ----------------------------------------------------- | --------------- | ------ |\n",
    "| Date          | Date of the Observation in YYYY-MM-DD                 | Date            | object |\n",
    "| Location      | Location of the Observation                           | Location        | object |\n",
    "| MinTemp       | Minimum temperature                                   | Celsius         | float  |\n",
    "| MaxTemp       | Maximum temperature                                   | Celsius         | float  |\n",
    "| Rainfall      | Amount of rainfall                                    | Millimeters     | float  |\n",
    "| Evaporation   | Amount of evaporation                                 | Millimeters     | float  |\n",
    "| Sunshine      | Amount of bright sunshine                             | hours           | float  |\n",
    "| WindGustDir   | Direction of the strongest gust                       | Compass Points  | object |\n",
    "| WindGustSpeed | Speed of the strongest gust                           | Kilometers/Hour | object |\n",
    "| WindDir9am    | Wind direction averaged of 10 minutes prior to 9am    | Compass Points  | object |\n",
    "| WindDir3pm    | Wind direction averaged of 10 minutes prior to 3pm    | Compass Points  | object |\n",
    "| WindSpeed9am  | Wind speed averaged of 10 minutes prior to 9am        | Kilometers/Hour | float  |\n",
    "| WindSpeed3pm  | Wind speed averaged of 10 minutes prior to 3pm        | Kilometers/Hour | float  |\n",
    "| Humidity9am   | Humidity at 9am                                       | Percent         | float  |\n",
    "| Humidity3pm   | Humidity at 3pm                                       | Percent         | float  |\n",
    "| Pressure9am   | Atmospheric pressure reduced to mean sea level at 9am | Hectopascal     | float  |\n",
    "| Pressure3pm   | Atmospheric pressure reduced to mean sea level at 3pm | Hectopascal     | float  |\n",
    "| Cloud9am      | Fraction of the sky obscured by cloud at 9am          | Eights          | float  |\n",
    "| Cloud3pm      | Fraction of the sky obscured by cloud at 3pm          | Eights          | float  |\n",
    "| Temp9am       | Temperature at 9am                                    | Celsius         | float  |\n",
    "| Temp3pm       | Temperature at 3pm                                    | Celsius         | float  |\n",
    "| RainToday     | If there was rain today                               | Yes/No          | object |\n",
    "| RainTomorrow  | If there is rain tomorrow                             | Yes/No          | float  |\n",
    "\n",
    "Column definitions were gathered from [http://www.bom.gov.au/climate/dwo/IDCJDW0000.shtml](http://www.bom.gov.au/climate/dwo/IDCJDW0000.shtml?utm_medium=Exinfluencer&utm_source=Exinfluencer&utm_content=000026UJ&utm_term=10006555&utm_id=NA-SkillsNetwork-Channel-SkillsNetworkCoursesIBMDeveloperSkillsNetworkML0101ENSkillsNetwork20718538-2022-01-01)\n",
    "\n"
   ]
  },
  {
   "cell_type": "markdown",
   "id": "edfd3145-ceef-4fd9-a6ea-bd33ecfec7e3",
   "metadata": {},
   "source": [
    "## **Import the required libraries**\n"
   ]
  },
  {
   "cell_type": "code",
   "execution_count": 1,
   "id": "768c96ef-3cb1-4809-8c65-4dff6f450338",
   "metadata": {},
   "outputs": [],
   "source": [
    "# All Libraries required for this lab are listed below. The libraries pre-installed on Skills Network Labs are commented.\n",
    "# !mamba install -qy pandas==1.3.4 numpy==1.21.4 seaborn==0.9.0 matplotlib==3.5.0 scikit-learn==0.20.1\n",
    "# Note: If your environment doesn't support \"!mamba install\", use \"!pip install\""
   ]
  },
  {
   "cell_type": "code",
   "execution_count": 2,
   "id": "bdc34c17-9fce-479a-b050-6e1ccd2c22b9",
   "metadata": {},
   "outputs": [],
   "source": [
    "# Surpress warnings:\n",
    "def warn(*args, **kwargs):\n",
    "    pass\n",
    "import warnings\n",
    "warnings.warn = warn"
   ]
  },
  {
   "cell_type": "code",
   "execution_count": null,
   "id": "f9004a35-35ce-4d2a-b925-27686e832041",
   "metadata": {},
   "outputs": [],
   "source": [
    "import pandas as pd\n",
    "from sklearn.linear_model import LogisticRegression\n",
    "from sklearn.linear_model import LinearRegression\n",
    "from sklearn import preprocessing\n",
    "import numpy as np\n",
    "from sklearn.neighbors import KNeighborsClassifier\n",
    "from sklearn.model_selection import train_test_split\n",
    "from sklearn.neighbors import KNeighborsClassifier\n",
    "from sklearn.tree import DecisionTreeClassifier\n",
    "from sklearn import svm\n",
    "from sklearn.metrics import jaccard_score\n",
    "from sklearn.metrics import f1_score\n",
    "from sklearn.metrics import log_loss\n",
    "from sklearn.metrics import confusion_matrix, accuracy_score\n",
    "import sklearn.metrics as metrics\n",
    "from sklearn.metrics import mean_absolute_error, mean_squared_error, r2_score"
   ]
  },
  {
   "cell_type": "markdown",
   "id": "2e3cc65e-7e37-4806-844d-d9125bc1c357",
   "metadata": {},
   "source": [
    "### Importing the Dataset\n"
   ]
  },
  {
   "cell_type": "code",
   "execution_count": 4,
   "id": "9d0c0a39-51f0-46c0-b062-1e2cc9de2701",
   "metadata": {},
   "outputs": [],
   "source": [
    "#from pyodide.http import pyfetch\n",
    "\n",
    "#async def download(url, filename):\n",
    "#    response = await pyfetch(url)\n",
    "#    if response.status == 200:\n",
    "#        with open(filename, \"wb\") as f:\n",
    "#            f.write(await response.bytes())"
   ]
  },
  {
   "cell_type": "code",
   "execution_count": 5,
   "id": "fe327516-e310-4aa2-a520-5c15c3073a75",
   "metadata": {},
   "outputs": [],
   "source": [
    "#path='https://cf-courses-data.s3.us.cloud-object-storage.appdomain.cloud/IBMDeveloperSkillsNetwork-ML0101EN-SkillUp/labs/ML-FinalAssignment/Weather_Data.csv'"
   ]
  },
  {
   "cell_type": "code",
   "execution_count": 6,
   "id": "15628dfb-f92b-40db-bd1f-d296de21cac5",
   "metadata": {},
   "outputs": [],
   "source": [
    "#await download(path, \"Weather_Data.csv\")\n",
    "#filename =\"Weather_Data.csv\""
   ]
  },
  {
   "cell_type": "code",
   "execution_count": 7,
   "id": "06891094-bcbe-4855-b55c-61e7ec51c92d",
   "metadata": {},
   "outputs": [],
   "source": [
    "df = pd.read_csv(\"https://cf-courses-data.s3.us.cloud-object-storage.appdomain.cloud/IBMDeveloperSkillsNetwork-ML0101EN-SkillUp/labs/ML-FinalAssignment/Weather_Data.csv\")"
   ]
  },
  {
   "cell_type": "markdown",
   "id": "512949c4-db76-4be7-9479-111c06fec261",
   "metadata": {},
   "source": [
    "> Note: This version of the lab is designed for JupyterLite, which necessitates downloading the dataset to the interface. However, when working with the downloaded version of this notebook on your local machines (Jupyter Anaconda), you can simply **skip the steps above of \"Importing the Dataset\"** and use the URL directly in the `pandas.read_csv()` function. You can uncomment and run the statements in the cell below.\n"
   ]
  },
  {
   "cell_type": "code",
   "execution_count": 8,
   "id": "cb6549f6-5e45-4215-bc0d-029266952b62",
   "metadata": {},
   "outputs": [],
   "source": [
    "#filepath = \"https://cf-courses-data.s3.us.cloud-object-storage.appdomain.cloud/IBMDeveloperSkillsNetwork-ML0101EN-SkillUp/labs/ML-FinalAssignment/Weather_Data.csv\"\n",
    "#df = pd.read_csv(filepath)"
   ]
  },
  {
   "cell_type": "code",
   "execution_count": 9,
   "id": "40479331-9d4a-4f4a-9633-9fd539aa33d1",
   "metadata": {},
   "outputs": [
    {
     "data": {
      "text/html": [
       "<div>\n",
       "<style scoped>\n",
       "    .dataframe tbody tr th:only-of-type {\n",
       "        vertical-align: middle;\n",
       "    }\n",
       "\n",
       "    .dataframe tbody tr th {\n",
       "        vertical-align: top;\n",
       "    }\n",
       "\n",
       "    .dataframe thead th {\n",
       "        text-align: right;\n",
       "    }\n",
       "</style>\n",
       "<table border=\"1\" class=\"dataframe\">\n",
       "  <thead>\n",
       "    <tr style=\"text-align: right;\">\n",
       "      <th></th>\n",
       "      <th>Date</th>\n",
       "      <th>MinTemp</th>\n",
       "      <th>MaxTemp</th>\n",
       "      <th>Rainfall</th>\n",
       "      <th>Evaporation</th>\n",
       "      <th>Sunshine</th>\n",
       "      <th>WindGustDir</th>\n",
       "      <th>WindGustSpeed</th>\n",
       "      <th>WindDir9am</th>\n",
       "      <th>WindDir3pm</th>\n",
       "      <th>...</th>\n",
       "      <th>Humidity9am</th>\n",
       "      <th>Humidity3pm</th>\n",
       "      <th>Pressure9am</th>\n",
       "      <th>Pressure3pm</th>\n",
       "      <th>Cloud9am</th>\n",
       "      <th>Cloud3pm</th>\n",
       "      <th>Temp9am</th>\n",
       "      <th>Temp3pm</th>\n",
       "      <th>RainToday</th>\n",
       "      <th>RainTomorrow</th>\n",
       "    </tr>\n",
       "  </thead>\n",
       "  <tbody>\n",
       "    <tr>\n",
       "      <th>0</th>\n",
       "      <td>2/1/2008</td>\n",
       "      <td>19.5</td>\n",
       "      <td>22.4</td>\n",
       "      <td>15.6</td>\n",
       "      <td>6.2</td>\n",
       "      <td>0.0</td>\n",
       "      <td>W</td>\n",
       "      <td>41</td>\n",
       "      <td>S</td>\n",
       "      <td>SSW</td>\n",
       "      <td>...</td>\n",
       "      <td>92</td>\n",
       "      <td>84</td>\n",
       "      <td>1017.6</td>\n",
       "      <td>1017.4</td>\n",
       "      <td>8</td>\n",
       "      <td>8</td>\n",
       "      <td>20.7</td>\n",
       "      <td>20.9</td>\n",
       "      <td>Yes</td>\n",
       "      <td>Yes</td>\n",
       "    </tr>\n",
       "    <tr>\n",
       "      <th>1</th>\n",
       "      <td>2/2/2008</td>\n",
       "      <td>19.5</td>\n",
       "      <td>25.6</td>\n",
       "      <td>6.0</td>\n",
       "      <td>3.4</td>\n",
       "      <td>2.7</td>\n",
       "      <td>W</td>\n",
       "      <td>41</td>\n",
       "      <td>W</td>\n",
       "      <td>E</td>\n",
       "      <td>...</td>\n",
       "      <td>83</td>\n",
       "      <td>73</td>\n",
       "      <td>1017.9</td>\n",
       "      <td>1016.4</td>\n",
       "      <td>7</td>\n",
       "      <td>7</td>\n",
       "      <td>22.4</td>\n",
       "      <td>24.8</td>\n",
       "      <td>Yes</td>\n",
       "      <td>Yes</td>\n",
       "    </tr>\n",
       "    <tr>\n",
       "      <th>2</th>\n",
       "      <td>2/3/2008</td>\n",
       "      <td>21.6</td>\n",
       "      <td>24.5</td>\n",
       "      <td>6.6</td>\n",
       "      <td>2.4</td>\n",
       "      <td>0.1</td>\n",
       "      <td>W</td>\n",
       "      <td>41</td>\n",
       "      <td>ESE</td>\n",
       "      <td>ESE</td>\n",
       "      <td>...</td>\n",
       "      <td>88</td>\n",
       "      <td>86</td>\n",
       "      <td>1016.7</td>\n",
       "      <td>1015.6</td>\n",
       "      <td>7</td>\n",
       "      <td>8</td>\n",
       "      <td>23.5</td>\n",
       "      <td>23.0</td>\n",
       "      <td>Yes</td>\n",
       "      <td>Yes</td>\n",
       "    </tr>\n",
       "    <tr>\n",
       "      <th>3</th>\n",
       "      <td>2/4/2008</td>\n",
       "      <td>20.2</td>\n",
       "      <td>22.8</td>\n",
       "      <td>18.8</td>\n",
       "      <td>2.2</td>\n",
       "      <td>0.0</td>\n",
       "      <td>W</td>\n",
       "      <td>41</td>\n",
       "      <td>NNE</td>\n",
       "      <td>E</td>\n",
       "      <td>...</td>\n",
       "      <td>83</td>\n",
       "      <td>90</td>\n",
       "      <td>1014.2</td>\n",
       "      <td>1011.8</td>\n",
       "      <td>8</td>\n",
       "      <td>8</td>\n",
       "      <td>21.4</td>\n",
       "      <td>20.9</td>\n",
       "      <td>Yes</td>\n",
       "      <td>Yes</td>\n",
       "    </tr>\n",
       "    <tr>\n",
       "      <th>4</th>\n",
       "      <td>2/5/2008</td>\n",
       "      <td>19.7</td>\n",
       "      <td>25.7</td>\n",
       "      <td>77.4</td>\n",
       "      <td>4.8</td>\n",
       "      <td>0.0</td>\n",
       "      <td>W</td>\n",
       "      <td>41</td>\n",
       "      <td>NNE</td>\n",
       "      <td>W</td>\n",
       "      <td>...</td>\n",
       "      <td>88</td>\n",
       "      <td>74</td>\n",
       "      <td>1008.3</td>\n",
       "      <td>1004.8</td>\n",
       "      <td>8</td>\n",
       "      <td>8</td>\n",
       "      <td>22.5</td>\n",
       "      <td>25.5</td>\n",
       "      <td>Yes</td>\n",
       "      <td>Yes</td>\n",
       "    </tr>\n",
       "  </tbody>\n",
       "</table>\n",
       "<p>5 rows × 22 columns</p>\n",
       "</div>"
      ],
      "text/plain": [
       "       Date  MinTemp  MaxTemp  Rainfall  Evaporation  Sunshine WindGustDir  \\\n",
       "0  2/1/2008     19.5     22.4      15.6          6.2       0.0           W   \n",
       "1  2/2/2008     19.5     25.6       6.0          3.4       2.7           W   \n",
       "2  2/3/2008     21.6     24.5       6.6          2.4       0.1           W   \n",
       "3  2/4/2008     20.2     22.8      18.8          2.2       0.0           W   \n",
       "4  2/5/2008     19.7     25.7      77.4          4.8       0.0           W   \n",
       "\n",
       "   WindGustSpeed WindDir9am WindDir3pm  ...  Humidity9am  Humidity3pm  \\\n",
       "0             41          S        SSW  ...           92           84   \n",
       "1             41          W          E  ...           83           73   \n",
       "2             41        ESE        ESE  ...           88           86   \n",
       "3             41        NNE          E  ...           83           90   \n",
       "4             41        NNE          W  ...           88           74   \n",
       "\n",
       "   Pressure9am  Pressure3pm  Cloud9am  Cloud3pm  Temp9am  Temp3pm  RainToday  \\\n",
       "0       1017.6       1017.4         8         8     20.7     20.9        Yes   \n",
       "1       1017.9       1016.4         7         7     22.4     24.8        Yes   \n",
       "2       1016.7       1015.6         7         8     23.5     23.0        Yes   \n",
       "3       1014.2       1011.8         8         8     21.4     20.9        Yes   \n",
       "4       1008.3       1004.8         8         8     22.5     25.5        Yes   \n",
       "\n",
       "   RainTomorrow  \n",
       "0           Yes  \n",
       "1           Yes  \n",
       "2           Yes  \n",
       "3           Yes  \n",
       "4           Yes  \n",
       "\n",
       "[5 rows x 22 columns]"
      ]
     },
     "execution_count": 9,
     "metadata": {},
     "output_type": "execute_result"
    }
   ],
   "source": [
    "df.head()"
   ]
  },
  {
   "cell_type": "markdown",
   "id": "6c2e6b6c-681c-4dab-b8c2-e4b4a3b9865a",
   "metadata": {},
   "source": [
    "### Data Preprocessing\n"
   ]
  },
  {
   "cell_type": "markdown",
   "id": "d8e184cf-7d18-487e-99b2-d20a5464ebf5",
   "metadata": {},
   "source": [
    "#### One Hot Encoding\n"
   ]
  },
  {
   "cell_type": "markdown",
   "id": "feaea6fc-58ed-40de-a928-0a0ef688207a",
   "metadata": {},
   "source": [
    "First, we need to perform one hot encoding to convert categorical variables to binary variables.\n"
   ]
  },
  {
   "cell_type": "code",
   "execution_count": 10,
   "id": "66a52820-9b4a-4b7a-af4c-d6e01297dc7f",
   "metadata": {},
   "outputs": [],
   "source": [
    "df_sydney_processed = pd.get_dummies(data=df, columns=['RainToday', 'WindGustDir', 'WindDir9am', 'WindDir3pm'])"
   ]
  },
  {
   "cell_type": "markdown",
   "id": "0826f051-c8d7-4ebb-ae92-4df9654dd747",
   "metadata": {},
   "source": [
    "Next, we replace the values of the 'RainTomorrow' column changing them from a categorical column to a binary column. We do not use the `get_dummies` method because we would end up with two columns for 'RainTomorrow' and we do not want, since 'RainTomorrow' is our target.\n"
   ]
  },
  {
   "cell_type": "code",
   "execution_count": 11,
   "id": "44ed63a3-6587-4ec5-885e-515719079a67",
   "metadata": {},
   "outputs": [],
   "source": [
    "df_sydney_processed.replace(['No', 'Yes'], [0,1], inplace=True)"
   ]
  },
  {
   "cell_type": "markdown",
   "id": "2e3cfa30-2d2d-4652-878f-a99f0fb02d2f",
   "metadata": {},
   "source": [
    "### Training Data and Test Data\n"
   ]
  },
  {
   "cell_type": "markdown",
   "id": "5a8c7d85-f098-4d88-ad8e-918448f0a408",
   "metadata": {},
   "source": [
    "Now, we set our 'features' or x values and our Y or target variable.\n"
   ]
  },
  {
   "cell_type": "code",
   "execution_count": 12,
   "id": "97c365ab-97b0-4125-af4f-5ffa38b37ca0",
   "metadata": {},
   "outputs": [],
   "source": [
    "df_sydney_processed.drop('Date',axis=1,inplace=True)"
   ]
  },
  {
   "cell_type": "code",
   "execution_count": 13,
   "id": "3d0cb951-2eb3-4b7d-99ff-4cdb7b3d5e35",
   "metadata": {},
   "outputs": [],
   "source": [
    "df_sydney_processed = df_sydney_processed.astype(float)"
   ]
  },
  {
   "cell_type": "code",
   "execution_count": 14,
   "id": "cbc8a10c-b1ad-447a-bf99-a2f391aead0b",
   "metadata": {},
   "outputs": [],
   "source": [
    "features = df_sydney_processed.drop(columns='RainTomorrow', axis=1)\n",
    "Y = df_sydney_processed['RainTomorrow']"
   ]
  },
  {
   "cell_type": "markdown",
   "id": "0cef42ae-5385-4648-abce-f9e6d1257776",
   "metadata": {},
   "source": [
    "### Linear Regression\n"
   ]
  },
  {
   "cell_type": "markdown",
   "id": "a5fd00b7-45ce-4bb5-ad3e-005ee94116f4",
   "metadata": {},
   "source": [
    "#### Q1) Use the `train_test_split` function to split the `features` and `Y` dataframes with a `test_size` of `0.2` and the `random_state` set to `10`.\n"
   ]
  },
  {
   "cell_type": "code",
   "execution_count": 15,
   "metadata": {},
   "outputs": [],
   "source": [
    "#Enter Your Code and Execute"
   ]
  },
  {
   "cell_type": "code",
   "execution_count": 16,
   "id": "7a191949-6f38-4994-aee6-c6409fb74c45",
   "metadata": {},
   "outputs": [
    {
     "name": "stdout",
     "output_type": "stream",
     "text": [
      "Training features shape: (2616, 66)\n",
      "Testing features shape: (655, 66)\n",
      "Training target shape: (2616,)\n",
      "Testing target shape: (655,)\n"
     ]
    }
   ],
   "source": [
    "# Split the data into training and testing sets\n",
    "X_train, X_test, y_train, y_test = train_test_split(features, Y, test_size=0.2, random_state=10)\n",
    "\n",
    "# Display the shapes of the resulting datasets\n",
    "print(\"Training features shape:\", X_train.shape)\n",
    "print(\"Testing features shape:\", X_test.shape)\n",
    "print(\"Training target shape:\", y_train.shape)\n",
    "print(\"Testing target shape:\", y_test.shape)\n"
   ]
  },
  {
   "cell_type": "markdown",
   "id": "1aa46059-a201-47c9-beeb-b5b67dd03665",
   "metadata": {},
   "source": [
    "#### Q2) Create and train a Linear Regression model called LinearReg using the training data (`x_train`, `y_train`).\n"
   ]
  },
  {
   "cell_type": "code",
   "execution_count": 17,
   "id": "871a7bd7-52bc-4847-b790-331210887ba4",
   "metadata": {},
   "outputs": [],
   "source": [
    "#Enter Your Code and Execute"
   ]
  },
  {
   "cell_type": "code",
   "execution_count": 18,
   "id": "07b59f24-f40f-49ce-a031-b3a9fc7e4550",
   "metadata": {},
   "outputs": [
    {
     "name": "stdout",
     "output_type": "stream",
     "text": [
      "Coefficients: [-2.36917590e-02  1.30054373e-02  7.29815718e-04  6.49074935e-03\n",
      " -3.51643560e-02  4.23764863e-03  1.82923556e-03  7.89868558e-04\n",
      "  9.56084036e-04  8.56062272e-03  7.69810332e-03 -9.24433319e-03\n",
      " -8.87439523e-03  1.00475778e-02  1.44655485e-02 -3.48059951e-03\n",
      "  3.53652210e+08  3.53652210e+08 -1.48636792e+08 -1.48636792e+08\n",
      " -1.48636792e+08 -1.48636792e+08 -1.48636792e+08 -1.48636792e+08\n",
      " -1.48636792e+08 -1.48636792e+08 -1.48636792e+08 -1.48636792e+08\n",
      " -1.48636792e+08 -1.48636792e+08 -1.48636792e+08 -1.48636792e+08\n",
      " -1.48636792e+08 -1.48636792e+08  2.45978566e+08  2.45978566e+08\n",
      "  2.45978566e+08  2.45978566e+08  2.45978566e+08  2.45978566e+08\n",
      "  2.45978566e+08  2.45978566e+08  2.45978566e+08  2.45978566e+08\n",
      "  2.45978566e+08  2.45978566e+08  2.45978566e+08  2.45978566e+08\n",
      "  2.45978566e+08  2.45978566e+08 -1.68435103e+08 -1.68435103e+08\n",
      " -1.68435103e+08 -1.68435103e+08 -1.68435103e+08 -1.68435103e+08\n",
      " -1.68435103e+08 -1.68435103e+08 -1.68435103e+08 -1.68435103e+08\n",
      " -1.68435103e+08 -1.68435103e+08 -1.68435103e+08 -1.68435103e+08\n",
      " -1.68435103e+08 -1.68435103e+08]\n",
      "Intercept: -282558880.30376893\n"
     ]
    }
   ],
   "source": [
    "# Create the Linear Regression model\n",
    "LinearReg = LinearRegression()\n",
    "\n",
    "# Train the model on the training data\n",
    "LinearReg.fit(X_train, y_train)\n",
    "\n",
    "# Print the coefficients and intercept of the trained model\n",
    "print(\"Coefficients:\", LinearReg.coef_)\n",
    "print(\"Intercept:\", LinearReg.intercept_)"
   ]
  },
  {
   "cell_type": "markdown",
   "id": "7caa9b37-022c-483d-bfe4-c0ed7d1877a1",
   "metadata": {},
   "source": [
    "#### Q3) Now use the `predict` method on the testing data (`x_test`) and save it to the array `predictions`.\n"
   ]
  },
  {
   "cell_type": "code",
   "execution_count": 19,
   "id": "495fe568-bc5c-46a7-abf7-b8ebfa06e599",
   "metadata": {},
   "outputs": [],
   "source": [
    "#Enter Your Code and Execute"
   ]
  },
  {
   "cell_type": "code",
   "execution_count": 20,
   "id": "10839948-f9ac-41d5-9432-d5de087a6823",
   "metadata": {},
   "outputs": [
    {
     "name": "stdout",
     "output_type": "stream",
     "text": [
      "Predictions: [ 1.31837666e-01  2.76184976e-01  9.78188813e-01  2.87457049e-01\n",
      "  1.32413983e-01  4.60464776e-01  3.56785357e-01  8.56409013e-01\n",
      "  6.75011694e-01  3.82469296e-02  4.77451086e-03  2.81215012e-01\n",
      "  3.39082420e-01  7.80925155e-02  6.25942945e-02  5.64438164e-01\n",
      " -6.15522265e-02  5.24162114e-01  1.53691232e-01  3.59700620e-01\n",
      "  6.05329871e-02  9.03560758e-01  4.67318714e-01  2.03370869e-01\n",
      " -7.10244775e-02  3.83878171e-01  5.36085367e-01 -2.28936672e-02\n",
      "  6.40129626e-01 -9.56752896e-02  3.78086269e-01  1.20264471e-01\n",
      " -1.81462169e-02  5.53833842e-02  5.63534856e-01  1.06298536e+00\n",
      " -6.75231218e-03  5.14394581e-01 -8.83882046e-02  6.91938996e-02\n",
      "  2.44745612e-02  8.71741116e-01  2.44666278e-01  3.94727230e-01\n",
      "  2.67560542e-01  4.46795344e-01 -4.75681424e-02  1.89430654e-01\n",
      "  7.76609361e-01  1.57759488e-01  3.94415855e-03 -5.19683957e-02\n",
      "  2.07340419e-01 -2.07888544e-01 -7.61141777e-02  2.49651730e-01\n",
      "  2.79297054e-01  6.02773964e-01  6.29590929e-01  4.90636110e-01\n",
      "  5.64552546e-02  1.05475008e-01  6.70027733e-01  7.64839292e-01\n",
      "  9.84497666e-02 -6.33071065e-02  4.13824379e-01  7.25370049e-02\n",
      "  2.49918520e-01  2.56467700e-01  3.77728939e-02 -6.88721538e-02\n",
      "  3.48220468e-01  1.73071206e-01  4.15422618e-01 -7.24981427e-02\n",
      "  3.41134250e-01  1.86975121e-01 -1.54848397e-01  7.99779177e-01\n",
      "  2.32431591e-01  2.37366319e-01  2.56127059e-01  1.03465140e-01\n",
      "  6.20764136e-01  1.29719675e-01  3.71425629e-01  4.83041465e-01\n",
      "  3.08265984e-01  1.19427562e-01  5.48297167e-02  1.12822175e-01\n",
      " -1.62480414e-01 -1.58031881e-01  7.29075074e-02  7.76420832e-01\n",
      "  8.43121409e-02  6.43081188e-01  1.21773660e-01  1.78041041e-01\n",
      "  3.04931462e-01  1.85480773e-01  1.13147730e+00  3.44453394e-01\n",
      "  8.26850891e-01  5.38890541e-01  2.74327457e-01  6.29414678e-01\n",
      " -6.72569275e-02  9.63551283e-01  5.61926365e-01  2.34398246e-02\n",
      "  1.05622292e-01  9.38529372e-02  8.15322995e-02  2.92136669e-01\n",
      "  5.55062354e-01  6.69165254e-02  4.25459146e-02  9.35137272e-04\n",
      "  1.37669146e-01 -2.18007386e-01  7.01257586e-02  1.19820058e-01\n",
      "  1.92734897e-01 -3.82744670e-02  1.55997515e-01  7.12628782e-01\n",
      "  2.62338758e-01  5.34840107e-01  3.97807777e-01 -4.64935899e-02\n",
      "  2.44018137e-01  2.06291080e-01  2.80376792e-01 -1.28245354e-01\n",
      "  1.19487822e-01  3.83370340e-01  1.84383273e-01  7.28564620e-01\n",
      "  3.31828058e-01 -1.03241980e-01  2.39503026e-01  3.06034029e-01\n",
      "  6.63119972e-01  2.21364498e-02  1.60040617e-01  5.21620214e-01\n",
      " -4.34336066e-02  7.98399329e-01  2.21740127e-01  3.89905870e-01\n",
      " -5.63736558e-02  4.02369440e-01  2.34167397e-01  1.20399892e-01\n",
      "  3.05496871e-01  7.86223710e-01  3.32341790e-02  1.22549826e+00\n",
      "  8.94653678e-01  8.18182230e-02 -1.52124166e-02  1.71020687e-01\n",
      " -6.85725808e-02 -1.07848048e-01 -5.02238870e-02  2.98690617e-01\n",
      "  3.57075870e-01  9.57829356e-02  8.85308206e-01 -3.33687663e-02\n",
      "  5.99243045e-01  8.95580649e-02  9.83807445e-02  3.54103565e-01\n",
      "  2.35978782e-01 -6.72902465e-02  1.44298255e-01  4.17878568e-01\n",
      "  5.87427080e-01  2.16773927e-01 -3.33041549e-02  1.00633496e+00\n",
      "  4.25831676e-02 -1.73478723e-02  2.48308241e-01 -5.93542457e-02\n",
      "  2.22219527e-01 -7.19211698e-02  8.47031474e-02  7.15319514e-02\n",
      "  3.49234343e-02  4.43498433e-01  1.86801732e-01  1.83138490e-01\n",
      "  7.56332278e-02  1.36691928e-02  1.84671223e-01  2.32347488e-01\n",
      "  5.30615628e-01  1.60344660e-01  3.95285547e-01 -4.49271798e-02\n",
      "  8.39269340e-01  1.65973306e-02 -1.69866681e-02 -2.14106441e-02\n",
      "  1.46429241e-01  1.38098061e-01 -3.34638953e-02  4.14846003e-01\n",
      "  6.57283068e-01 -4.94623184e-03  2.86290050e-02  4.61174846e-02\n",
      " -7.21706152e-02  2.73774505e-01  5.28619111e-01 -5.90629578e-02\n",
      "  8.43160212e-01  3.25853109e-01  3.18871737e-01  3.63736749e-02\n",
      " -8.52000713e-02  2.83311784e-01  3.01279604e-01  1.37741745e-01\n",
      "  3.35830986e-01  4.12462771e-01  3.75246406e-01  1.24084294e-01\n",
      "  2.87875831e-01  9.06207085e-01  4.45534289e-01  2.74797440e-01\n",
      " -6.60628080e-03  6.91803634e-01  6.71926320e-01  1.15392268e-01\n",
      "  7.74550140e-01  9.94358897e-01  5.87651134e-01  3.14302027e-01\n",
      "  2.26392686e-01 -4.47503328e-02  2.25994647e-01  2.30601847e-01\n",
      "  3.54958832e-01 -1.26603186e-01  3.52358818e-02  1.82239592e-01\n",
      "  2.15339601e-01  1.76156223e-01 -2.96401381e-02  1.00051439e+00\n",
      "  1.88197792e-01  7.52112687e-01  6.19809151e-01  7.17823148e-01\n",
      "  3.15624893e-01  2.23616958e-02  3.26421320e-01 -6.89810514e-03\n",
      "  2.81563342e-01 -2.27780938e-02  7.98767209e-02 -2.34240294e-03\n",
      "  3.57091129e-01  1.36475742e-01  2.65778184e-01  1.39967799e-02\n",
      "  2.21067965e-01  7.07375944e-01  1.59528732e-01  2.04516709e-01\n",
      "  5.38237989e-01 -1.52590454e-01  2.54850924e-01  2.76409030e-01\n",
      "  2.64024019e-01  6.69035316e-02  9.74349320e-01  1.99997008e-01\n",
      "  7.55762458e-01 -3.49898338e-02  4.87676203e-01  5.89805841e-03\n",
      " -7.24421144e-02  3.05635929e-01 -2.05079436e-01  1.90976381e-01\n",
      " -2.46277452e-02 -7.71508813e-02  2.78943360e-01  7.84275532e-02\n",
      "  2.33906150e-01  4.44840848e-01  6.62372708e-02 -3.31177115e-02\n",
      "  5.83151817e-01  5.77883124e-02  3.20459902e-01  7.24197865e-01\n",
      "  1.35356963e-01 -2.21989155e-02  7.33073413e-01 -3.08298647e-01\n",
      "  1.09130269e+00  2.85931766e-01  8.85044217e-01  6.96588695e-01\n",
      "  5.85258722e-01 -2.22651362e-02  9.52063918e-01  7.14983344e-01\n",
      "  4.48497653e-01  5.80447793e-01  1.87102377e-01  2.29640663e-01\n",
      " -5.77927232e-02  3.15228820e-01  8.74666572e-01 -1.67723894e-02\n",
      "  2.52541840e-01 -3.35200429e-02 -4.39975858e-02  4.13339734e-02\n",
      "  2.35945165e-01  2.03050315e-01  8.82001698e-01  5.87243021e-01\n",
      "  1.20085180e-01 -2.02731490e-02 -1.92939043e-02  1.03504002e-01\n",
      "  8.29833746e-03  2.29169548e-01 -1.69499516e-02  7.15160966e-02\n",
      "  1.62671387e-01  1.70108378e-01  2.46574581e-01  1.47717237e-01\n",
      "  3.91752064e-01 -6.66146874e-02  1.15671217e-01  1.84459984e-01\n",
      "  9.07032490e-02 -1.79901123e-02  2.09283173e-01 -1.30223632e-02\n",
      "  5.46445608e-01  4.15835679e-01  1.78164363e-01  1.71989799e-02\n",
      "  4.93856192e-01  1.47164285e-01  5.24793625e-01  5.98114550e-01\n",
      "  3.08285892e-01  3.09305549e-01  4.46425080e-01  1.68165147e-01\n",
      "  2.60765731e-01  7.56254733e-01  4.06205952e-01  4.90662992e-01\n",
      "  5.14289618e-01 -1.30231917e-01  7.90177584e-02  3.50569427e-01\n",
      "  1.00467324e+00  2.73416579e-01  6.35380685e-01  5.78586280e-01\n",
      "  4.68217194e-01  3.76313925e-03  3.59022200e-01  6.74716234e-02\n",
      " -4.23733592e-02  7.03299165e-01  1.27127290e-01  8.00076723e-01\n",
      "  4.70826566e-01 -1.74193382e-02  2.93276906e-02  5.55237532e-01\n",
      "  5.00965714e-02  1.15263760e-01 -9.70453024e-03  1.47504449e-01\n",
      "  4.71182287e-01 -9.26908851e-02  8.08721185e-02  3.10185552e-02\n",
      "  3.94801676e-01  2.23751783e-01  1.00329906e+00  7.08092511e-01\n",
      "  3.55996072e-01  2.62933671e-01 -2.83683538e-02 -9.62501764e-03\n",
      "  3.09122801e-02  1.41732872e-01  7.82549977e-02  5.12603045e-01\n",
      "  2.04800785e-01  3.11706841e-01  5.28490007e-01  4.61890876e-01\n",
      "  5.35897613e-02  8.17250431e-01  5.33890784e-01 -1.38186634e-01\n",
      "  5.09413719e-01  1.94086254e-01  4.56179678e-01  1.85179889e-01\n",
      "  2.21970201e-01  1.15603745e-01  6.32789731e-02  7.36985803e-02\n",
      "  1.02421522e-01  5.51402628e-01  7.02956975e-01  5.22119164e-01\n",
      "  5.35079658e-01  3.19625735e-02  1.11083865e-01 -1.18641078e-01\n",
      "  5.31876981e-01 -1.74416125e-01  4.54460740e-01  9.74376857e-01\n",
      "  4.18190539e-01 -1.16023362e-01  8.70703280e-01  1.62187994e-01\n",
      "  6.13060117e-01  3.17185462e-01 -7.86493421e-02  4.93940353e-01\n",
      "  7.44882405e-01  6.05550408e-02  6.03660941e-02  2.36819565e-01\n",
      "  5.79183280e-01  1.10724926e-01  3.81820679e-01  6.02239370e-01\n",
      "  5.84385991e-02  2.21816182e-01  3.89000058e-01  6.63728178e-01\n",
      "  1.56120479e-01  3.97304833e-01  5.80168843e-01  5.03781021e-01\n",
      "  1.06431305e-01  1.49774790e-01  2.33248234e-01 -3.34125757e-03\n",
      " -2.86272764e-02  2.65909255e-01  2.60582626e-01 -6.16484284e-02\n",
      "  1.46268368e-01  8.24799716e-01  5.68478525e-01 -9.56284404e-02\n",
      " -1.02451682e-01  8.49195123e-02  1.61634207e-01 -7.92546868e-02\n",
      "  9.43894684e-01  7.93974996e-02  3.38423610e-01  1.57981098e-01\n",
      " -6.94008470e-02  2.15110064e-01  4.78867829e-01  2.15632915e-02\n",
      "  5.34418881e-01  1.42541409e-01 -1.58411145e-01  9.97608900e-03\n",
      "  2.26734042e-01  3.34775627e-01  6.04681969e-02 -2.09431648e-02\n",
      " -1.07870281e-01  3.34319592e-01  5.10159314e-01  3.45960617e-01\n",
      " -8.67025256e-02 -4.99644279e-02  5.05306065e-01  8.22550058e-02\n",
      "  6.74914718e-02  3.23138058e-01  3.38196933e-01  5.37319541e-01\n",
      "  2.91821420e-01  3.30545604e-01 -4.10524607e-02  8.27465773e-01\n",
      "  6.03420615e-01  2.36682475e-01  7.02315271e-01  4.44649518e-01\n",
      "  5.81153035e-01  1.90035760e-01  5.45203686e-02  9.38389301e-02\n",
      " -6.77280426e-02  1.05980337e-01 -2.49447227e-02 -2.94544697e-02\n",
      "  6.55909777e-02  9.60842967e-02  1.03282511e-01  1.77727163e-01\n",
      "  1.02110684e-01  6.64127707e-01  1.97716296e-01  1.04741395e-01\n",
      "  1.13420427e-01 -3.24749947e-02  1.46583498e-01  4.64938581e-01\n",
      "  7.55549490e-01  2.03912854e-01  4.90148962e-01 -1.01313174e-01\n",
      "  6.61667466e-01  7.53462851e-01  9.01058972e-01  7.72956073e-01\n",
      "  2.73426712e-01  2.98064947e-01  1.87134624e-01  7.19882309e-01\n",
      "  2.29814112e-01  3.34673166e-01  8.51559997e-01  3.06656957e-02\n",
      " -3.71319056e-03 -7.81566501e-02  7.49832094e-01  2.04636574e-01\n",
      "  4.06049907e-01  3.32294405e-01  1.81994081e-01  8.23373437e-01\n",
      "  5.03206968e-01  6.34025395e-01 -5.08357882e-02  4.25789356e-02\n",
      "  1.11135006e-01  1.89193785e-01  6.01011157e-01  4.09053266e-01\n",
      "  6.87737584e-01  2.89890349e-01 -9.20665860e-02  4.46640849e-02\n",
      "  1.98934019e-01  6.18893743e-01  1.41850710e-01  6.98896706e-01\n",
      "  3.11864674e-01  1.26811504e-01  8.11484933e-01  6.24735355e-02\n",
      " -1.04440272e-01  6.59983754e-02  1.23667538e-01  5.18710136e-01\n",
      " -5.96609712e-02  6.39724553e-01 -1.29832625e-02  3.84283662e-02\n",
      " -1.04922235e-01  1.96532071e-01  3.36148679e-01  4.88002598e-01\n",
      "  1.93822622e-01  7.93252349e-01  1.69408441e-01  8.55869651e-02\n",
      "  1.68643296e-01  1.73185647e-01  3.23809385e-02  4.69272912e-01\n",
      "  2.03094900e-01  8.46702516e-01  4.20869291e-01  2.17929900e-01\n",
      "  1.81157529e-01  1.54872119e-01  7.26319015e-01  4.45230842e-01\n",
      "  4.87515688e-01  1.01610124e-01  4.13119972e-01 -1.13234341e-01\n",
      "  1.79376900e-01 -9.75471735e-03  1.39083326e-01  1.12007737e-01\n",
      "  6.09595954e-01  2.16457248e-02  1.88287437e-01 -1.35344803e-01\n",
      "  7.06457317e-01  4.33112800e-01 -5.83465695e-02  9.28719223e-01\n",
      "  5.40611923e-01 -1.65140629e-03  9.18999434e-01 -2.18833685e-02\n",
      "  1.65421307e-01  1.77811265e-01  4.72883105e-01 -2.82686949e-03\n",
      "  4.00386989e-01  1.42001510e-02  1.95334733e-01 -6.80013895e-02\n",
      "  5.87243259e-01  1.92465723e-01  2.33323872e-01  2.73651302e-01\n",
      "  9.40691829e-01  7.10111737e-01  1.33385003e-01  7.37258196e-02\n",
      "  5.58281541e-02 -2.26405799e-01  4.11029458e-02  5.17066121e-02\n",
      "  3.10254693e-02  2.93611228e-01  9.69354630e-01  7.98664570e-01\n",
      " -2.29927897e-02  5.26711941e-02  2.64843464e-01  1.75158441e-01\n",
      "  7.06316650e-01  1.73840821e-01  3.44309986e-01]\n"
     ]
    }
   ],
   "source": [
    "# Make predictions on the testing data\n",
    "predictions = LinearReg.predict(X_test)\n",
    "\n",
    "# Display the predictions\n",
    "print(\"Predictions:\", predictions)"
   ]
  },
  {
   "cell_type": "markdown",
   "id": "03e5aca1-3bf5-4527-9298-35b140218d78",
   "metadata": {},
   "source": [
    "#### Q4) Using the `predictions` and the `y_test` dataframe calculate the value for each metric using the appropriate function.\n"
   ]
  },
  {
   "cell_type": "code",
   "execution_count": 21,
   "id": "2e600c79-5fbc-41d1-8e8a-8bb02c7bb14a",
   "metadata": {},
   "outputs": [],
   "source": [
    "#Enter Your Code and Execute"
   ]
  },
  {
   "cell_type": "code",
   "execution_count": 22,
   "id": "22ac6cad-ee09-4f12-937a-ac4963129b0f",
   "metadata": {},
   "outputs": [
    {
     "name": "stdout",
     "output_type": "stream",
     "text": [
      "LinearRegression_MAE: 0.2563175028517046\n",
      "LinearRegression_MSE: 0.11572058034078113\n",
      "LinearRegression_R2: 0.42713211967248643\n"
     ]
    }
   ],
   "source": [
    "# Calculate the metrics\n",
    "LinearRegression_MAE = mean_absolute_error(y_test, predictions)\n",
    "LinearRegression_MSE = mean_squared_error(y_test, predictions)\n",
    "LinearRegression_R2 = r2_score(y_test, predictions)\n",
    "\n",
    "# Display the results\n",
    "print(\"LinearRegression_MAE:\", LinearRegression_MAE)\n",
    "print(\"LinearRegression_MSE:\", LinearRegression_MSE)\n",
    "print(\"LinearRegression_R2:\", LinearRegression_R2)"
   ]
  },
  {
   "cell_type": "markdown",
   "id": "bd4e4765-58df-42f7-b7b2-cbd333edd2b4",
   "metadata": {},
   "source": [
    "#### Q5) Show the MAE, MSE, and R2 in a tabular format using data frame for the linear model.\n"
   ]
  },
  {
   "cell_type": "code",
   "execution_count": 23,
   "id": "3514ec1c-2340-4788-a00e-a44ace58afd4",
   "metadata": {},
   "outputs": [],
   "source": [
    "#Enter Your Code and Execute"
   ]
  },
  {
   "cell_type": "code",
   "execution_count": 26,
   "id": "6a0ca646-d46a-4689-b7b8-9b3ca6083164",
   "metadata": {},
   "outputs": [
    {
     "name": "stdout",
     "output_type": "stream",
     "text": [
      "                      Metric     Value\n",
      "0  Mean Absolute Error (MAE)  0.256318\n",
      "1   Mean Squared Error (MSE)  0.115721\n",
      "2             R-squared (R2)  0.427132\n"
     ]
    }
   ],
   "source": [
    "# Create a dictionary for the metrics\n",
    "metrics_data = {\n",
    "    \"Metric\": [\"Mean Absolute Error (MAE)\", \"Mean Squared Error (MSE)\", \"R-squared (R2)\"],\n",
    "    \"Value\": [LinearRegression_MAE, LinearRegression_MSE, LinearRegression_R2]\n",
    "}\n",
    "\n",
    "# Create a DataFrame from the dictionary\n",
    "Report = pd.DataFrame(metrics_data)\n",
    "\n",
    "# Display the DataFrame\n",
    "print(Report)"
   ]
  },
  {
   "cell_type": "markdown",
   "id": "99695b77-5363-4de0-a26c-baf7ef296d14",
   "metadata": {},
   "source": [
    "### KNN\n"
   ]
  },
  {
   "cell_type": "markdown",
   "id": "2e485f53-f6f1-4924-8417-f67271b3a9c8",
   "metadata": {},
   "source": [
    "#### Q6) Create and train a KNN model called KNN using the training data (`x_train`, `y_train`) with the `n_neighbors` parameter set to `4`.\n"
   ]
  },
  {
   "cell_type": "code",
   "execution_count": null,
   "id": "743a8c94-a0e1-4785-8353-b7a66958cb8b",
   "metadata": {},
   "outputs": [],
   "source": [
    "#Enter Your Code and Execute"
   ]
  },
  {
   "cell_type": "code",
   "execution_count": 28,
   "id": "076b9e15-137e-4642-b2a4-f0b9086eb921",
   "metadata": {},
   "outputs": [
    {
     "name": "stdout",
     "output_type": "stream",
     "text": [
      "KNN model trained successfully!\n"
     ]
    }
   ],
   "source": [
    "# Create the KNN model with n_neighbors=4\n",
    "KNN = KNeighborsClassifier(n_neighbors=4)\n",
    "\n",
    "# Train the model using the training data\n",
    "KNN.fit(X_train, y_train)\n",
    "\n",
    "# Confirm the model has been trained\n",
    "print(\"KNN model trained successfully!\")"
   ]
  },
  {
   "cell_type": "markdown",
   "id": "b3f04498-d929-4f38-be04-5e8113396beb",
   "metadata": {},
   "source": [
    "#### Q7) Now use the `predict` method on the testing data (`x_test`) and save it to the array `predictions`.\n"
   ]
  },
  {
   "cell_type": "code",
   "execution_count": null,
   "id": "140ca0a5-2dc9-44a7-93c2-f78127a354a8",
   "metadata": {},
   "outputs": [],
   "source": [
    "#Enter Your Code and Execute"
   ]
  },
  {
   "cell_type": "code",
   "execution_count": 30,
   "id": "c060ab3e-d93f-4c9a-afd0-ce39375509e0",
   "metadata": {},
   "outputs": [],
   "source": [
    "# Make predictions using the KNN model on the testing data\n",
    "predictions = KNN.predict(X_test)"
   ]
  },
  {
   "cell_type": "markdown",
   "id": "003b1288-9942-406c-9811-eee84f2df091",
   "metadata": {},
   "source": [
    "#### Q8) Using the `predictions` and the `y_test` dataframe calculate the value for each metric using the appropriate function.\n"
   ]
  },
  {
   "cell_type": "code",
   "execution_count": 31,
   "id": "ccf20cd0-c874-4000-afca-0aa7af168f17",
   "metadata": {},
   "outputs": [],
   "source": [
    "#Enter Your Code and Execute"
   ]
  },
  {
   "cell_type": "code",
   "execution_count": 32,
   "id": "f4372bae-68b8-4b77-ba7a-3fa6f9a652d5",
   "metadata": {},
   "outputs": [
    {
     "name": "stdout",
     "output_type": "stream",
     "text": [
      "KNN_Accuracy_Score: 0.8183206106870229\n",
      "KNN_JaccardIndex: 0.4251207729468599\n",
      "KNN_F1_Score: 0.5966101694915255\n"
     ]
    }
   ],
   "source": [
    "# Calculate the metrics\n",
    "KNN_Accuracy_Score = accuracy_score(y_test, predictions)\n",
    "KNN_JaccardIndex = jaccard_score(y_test, predictions)\n",
    "KNN_F1_Score = f1_score(y_test, predictions)\n",
    "\n",
    "# Display the results\n",
    "print(\"KNN_Accuracy_Score:\", KNN_Accuracy_Score)\n",
    "print(\"KNN_JaccardIndex:\", KNN_JaccardIndex)\n",
    "print(\"KNN_F1_Score:\", KNN_F1_Score)"
   ]
  },
  {
   "cell_type": "markdown",
   "id": "b9c0101b-83e4-43a0-b4a9-864758dfbd12",
   "metadata": {},
   "source": [
    "### Decision Tree\n"
   ]
  },
  {
   "cell_type": "markdown",
   "id": "9a47408a-8e4e-4e2d-8380-4ae1c57e481c",
   "metadata": {},
   "source": [
    "#### Q9) Create and train a Decision Tree model called Tree using the training data (`x_train`, `y_train`).\n"
   ]
  },
  {
   "cell_type": "code",
   "execution_count": 33,
   "id": "e909447d-f37e-41de-9b3c-1e7d84c58027",
   "metadata": {},
   "outputs": [],
   "source": [
    "#Enter Your Code and Execute"
   ]
  },
  {
   "cell_type": "code",
   "execution_count": 34,
   "id": "e0ef97f4-35d0-461e-b248-375f1cfe22a9",
   "metadata": {},
   "outputs": [
    {
     "name": "stdout",
     "output_type": "stream",
     "text": [
      "Decision Tree model trained successfully!\n"
     ]
    }
   ],
   "source": [
    "# Create the Decision Tree model\n",
    "Tree = DecisionTreeClassifier()\n",
    "\n",
    "# Train the model using the training data\n",
    "Tree.fit(X_train, y_train)\n",
    "\n",
    "# Confirm the model has been trained\n",
    "print(\"Decision Tree model trained successfully!\")"
   ]
  },
  {
   "cell_type": "markdown",
   "id": "3dbb3bad-45af-44c2-81fa-0b1a101c636e",
   "metadata": {},
   "source": [
    "#### Q10) Now use the `predict` method on the testing data (`x_test`) and save it to the array `predictions`.\n"
   ]
  },
  {
   "cell_type": "code",
   "execution_count": 35,
   "id": "c92e47de-aeea-4efa-8f06-2b2f3546494a",
   "metadata": {},
   "outputs": [],
   "source": [
    "#Enter Your Code and Execute"
   ]
  },
  {
   "cell_type": "code",
   "execution_count": 36,
   "id": "c455e660-29c4-42e7-968d-73bfc7f99577",
   "metadata": {},
   "outputs": [],
   "source": [
    "# Make predictions using the Decision Tree model on the testing data\n",
    "predictions = Tree.predict(X_test)"
   ]
  },
  {
   "cell_type": "markdown",
   "id": "5f62e69e-6778-43b0-aa82-4d04107acd63",
   "metadata": {},
   "source": [
    "#### Q11) Using the `predictions` and the `y_test` dataframe calculate the value for each metric using the appropriate function.\n"
   ]
  },
  {
   "cell_type": "code",
   "execution_count": 37,
   "id": "ac39549e-e175-497a-87b7-635362b43460",
   "metadata": {},
   "outputs": [],
   "source": [
    "#Enter Your Code and Execute"
   ]
  },
  {
   "cell_type": "code",
   "execution_count": 38,
   "id": "301accd2-9515-43e2-ad5f-c525ad649104",
   "metadata": {},
   "outputs": [
    {
     "name": "stdout",
     "output_type": "stream",
     "text": [
      "Tree_Accuracy_Score: 0.749618320610687\n",
      "Tree_JaccardIndex: 0.39705882352941174\n",
      "Tree_F1_Score: 0.5684210526315789\n"
     ]
    }
   ],
   "source": [
    "# Calculate the metrics\n",
    "Tree_Accuracy_Score = accuracy_score(y_test, predictions)\n",
    "Tree_JaccardIndex = jaccard_score(y_test, predictions)\n",
    "Tree_F1_Score = f1_score(y_test, predictions)\n",
    "\n",
    "# Display the results\n",
    "print(\"Tree_Accuracy_Score:\", Tree_Accuracy_Score)\n",
    "print(\"Tree_JaccardIndex:\", Tree_JaccardIndex)\n",
    "print(\"Tree_F1_Score:\", Tree_F1_Score)"
   ]
  },
  {
   "cell_type": "markdown",
   "id": "3e9e7a03-a6b2-4c19-8ca6-2bc049cebc9c",
   "metadata": {},
   "source": [
    "### Logistic Regression\n"
   ]
  },
  {
   "cell_type": "markdown",
   "id": "f0482cc1-21a7-401e-94e7-9aa2e50f1404",
   "metadata": {},
   "source": [
    "#### Q12) Use the `train_test_split` function to split the `features` and `Y` dataframes with a `test_size` of `0.2` and the `random_state` set to `1`.\n"
   ]
  },
  {
   "cell_type": "code",
   "execution_count": 39,
   "id": "c6ffd905-3443-47d4-b4c0-18a117755e77",
   "metadata": {},
   "outputs": [],
   "source": [
    "#Enter Your Code and Execute"
   ]
  },
  {
   "cell_type": "code",
   "execution_count": 40,
   "id": "17e453da-e01c-4966-b4bb-b15574b3f70d",
   "metadata": {},
   "outputs": [
    {
     "name": "stdout",
     "output_type": "stream",
     "text": [
      "Training features shape: (2616, 66)\n",
      "Testing features shape: (655, 66)\n",
      "Training target shape: (2616,)\n",
      "Testing target shape: (655,)\n"
     ]
    }
   ],
   "source": [
    "# Split the data into training and testing sets\n",
    "X_train, X_test, y_train, y_test = train_test_split(features, Y, test_size=0.2, random_state=1)\n",
    "\n",
    "# Display the shapes of the resulting datasets\n",
    "print(\"Training features shape:\", X_train.shape)\n",
    "print(\"Testing features shape:\", X_test.shape)\n",
    "print(\"Training target shape:\", y_train.shape)\n",
    "print(\"Testing target shape:\", y_test.shape)"
   ]
  },
  {
   "cell_type": "markdown",
   "id": "c484345e-e801-432c-8615-a92f72ba9d71",
   "metadata": {},
   "source": [
    "#### Q13) Create and train a LogisticRegression model called LR using the training data (`x_train`, `y_train`) with the `solver` parameter set to `liblinear`.\n"
   ]
  },
  {
   "cell_type": "code",
   "execution_count": 41,
   "id": "b4e10d23-92f8-40be-b712-bf04c1240dd8",
   "metadata": {},
   "outputs": [],
   "source": [
    "#Enter Your Code and Execute"
   ]
  },
  {
   "cell_type": "code",
   "execution_count": 42,
   "id": "ae15404c-7a9f-4d04-8f1f-31807292a42b",
   "metadata": {},
   "outputs": [
    {
     "name": "stdout",
     "output_type": "stream",
     "text": [
      "Logistic Regression model trained successfully!\n"
     ]
    }
   ],
   "source": [
    "# Create the Logistic Regression model\n",
    "LR = LogisticRegression(solver='liblinear')\n",
    "\n",
    "# Train the model using the training data\n",
    "LR.fit(X_train, y_train)\n",
    "\n",
    "# Confirm the model has been trained\n",
    "print(\"Logistic Regression model trained successfully!\")"
   ]
  },
  {
   "cell_type": "markdown",
   "id": "2e507e6a-d838-41c7-b02e-fc6059966b1d",
   "metadata": {},
   "source": [
    "#### Q14) Now, use the `predict` and `predict_proba` methods on the testing data (`x_test`) and save it as 2 arrays `predictions` and `predict_proba`.\n"
   ]
  },
  {
   "cell_type": "code",
   "execution_count": 43,
   "id": "6ebb6845-f367-4884-a59c-a94fff42d1be",
   "metadata": {},
   "outputs": [],
   "source": [
    "#Enter Your Code and Execute"
   ]
  },
  {
   "cell_type": "code",
   "execution_count": 44,
   "id": "e3ca4134-33f9-4998-9b86-e1617368fcaa",
   "metadata": {},
   "outputs": [],
   "source": [
    "# Make predictions using the Logistic Regression model\n",
    "predictions = LR.predict(X_test)"
   ]
  },
  {
   "cell_type": "code",
   "execution_count": 45,
   "id": "b3de7f83-35e3-45af-a860-e55136cac08a",
   "metadata": {},
   "outputs": [],
   "source": [
    "# Get the probabilities of each class for the testing data\n",
    "predict_proba = LR.predict_proba(X_test)\n"
   ]
  },
  {
   "cell_type": "markdown",
   "id": "b8512dbb-b19b-4d3b-a1f4-ab9695c378d4",
   "metadata": {},
   "source": [
    "#### Q15) Using the `predictions`, `predict_proba` and the `y_test` dataframe calculate the value for each metric using the appropriate function.\n"
   ]
  },
  {
   "cell_type": "code",
   "execution_count": 46,
   "id": "bd7367b5-cd89-4db8-aaab-913676b3dfad",
   "metadata": {},
   "outputs": [],
   "source": [
    "#Enter Your Code and Execute"
   ]
  },
  {
   "cell_type": "code",
   "execution_count": 47,
   "id": "46ecffff-0dab-4dc3-8815-0e7712722f20",
   "metadata": {},
   "outputs": [
    {
     "name": "stdout",
     "output_type": "stream",
     "text": [
      "Logistic Regression Accuracy Score: 0.8366412213740458\n",
      "Logistic Regression Jaccard Index: 0.5091743119266054\n",
      "Logistic Regression F1 Score: 0.6747720364741642\n",
      "Logistic Regression Log Loss: 0.3804510672347215\n"
     ]
    }
   ],
   "source": [
    "# Calculate the metrics\n",
    "LogReg_Accuracy_Score = accuracy_score(y_test, predictions)\n",
    "LogReg_JaccardIndex = jaccard_score(y_test, predictions)\n",
    "LogReg_F1_Score = f1_score(y_test, predictions)\n",
    "LogReg_Log_Loss = log_loss(y_test, predict_proba)\n",
    "\n",
    "# Display the results\n",
    "print(\"Logistic Regression Accuracy Score:\", LogReg_Accuracy_Score)\n",
    "print(\"Logistic Regression Jaccard Index:\", LogReg_JaccardIndex)\n",
    "print(\"Logistic Regression F1 Score:\", LogReg_F1_Score)\n",
    "print(\"Logistic Regression Log Loss:\", LogReg_Log_Loss)"
   ]
  },
  {
   "cell_type": "markdown",
   "id": "94298343-aca9-4311-a267-a8ac024b1033",
   "metadata": {},
   "source": [
    "### SVM\n"
   ]
  },
  {
   "cell_type": "markdown",
   "id": "1e7f9a35-fb3f-487c-9d96-47bd17df393d",
   "metadata": {},
   "source": [
    "#### Q16) Create and train a SVM model called SVM using the training data (`x_train`, `y_train`).\n"
   ]
  },
  {
   "cell_type": "code",
   "execution_count": 48,
   "id": "37b64a59-7e29-4e4f-a689-065c1819fc96",
   "metadata": {},
   "outputs": [],
   "source": [
    "#Enter Your Code and Execute"
   ]
  },
  {
   "cell_type": "code",
   "execution_count": 51,
   "id": "3a77b850-a3ec-45e7-ba3f-8501ef4d3b5f",
   "metadata": {},
   "outputs": [
    {
     "name": "stdout",
     "output_type": "stream",
     "text": [
      "SVM model trained successfully!\n"
     ]
    }
   ],
   "source": [
    "# Create the SVM model\n",
    "SVM = svm.SVC(probability=True)\n",
    "\n",
    "# Train the model using the training data\n",
    "SVM.fit(X_train, y_train)\n",
    "\n",
    "# Confirm the model has been trained\n",
    "print(\"SVM model trained successfully!\")"
   ]
  },
  {
   "cell_type": "markdown",
   "id": "e50e7032-0b80-414c-93ea-e35ff941e49b",
   "metadata": {},
   "source": [
    "#### Q17) Now use the `predict` method on the testing data (`x_test`) and save it to the array `predictions`.\n"
   ]
  },
  {
   "cell_type": "code",
   "execution_count": 52,
   "id": "aeeca7de-09d5-45ad-aacc-f0457ca6ee37",
   "metadata": {},
   "outputs": [],
   "source": [
    "#Enter Your Code and Execute"
   ]
  },
  {
   "cell_type": "code",
   "execution_count": 53,
   "id": "7b26f131-584e-413a-bb4c-1af859b01e19",
   "metadata": {},
   "outputs": [],
   "source": [
    "# Make predictions using the SVM model on the testing data\n",
    "predictions = SVM.predict(X_test)"
   ]
  },
  {
   "cell_type": "markdown",
   "id": "87096852-98e6-4115-bdb2-a8603cee605a",
   "metadata": {},
   "source": [
    "#### Q18) Using the `predictions` and the `y_test` dataframe calculate the value for each metric using the appropriate function.\n"
   ]
  },
  {
   "cell_type": "code",
   "execution_count": 54,
   "id": "da8140a8-563e-4b01-be32-869b8120c85e",
   "metadata": {},
   "outputs": [
    {
     "name": "stdout",
     "output_type": "stream",
     "text": [
      "SVM Accuracy Score: 0.7221374045801526\n",
      "SVM Jaccard Index: 0.0\n",
      "SVM F1 Score: 0.0\n"
     ]
    }
   ],
   "source": [
    "# Calculate the metrics\n",
    "SVM_Accuracy_Score = accuracy_score(y_test, predictions)\n",
    "SVM_JaccardIndex = jaccard_score(y_test, predictions)\n",
    "SVM_F1_Score = f1_score(y_test, predictions)\n",
    "\n",
    "# Display the results\n",
    "print(\"SVM Accuracy Score:\", SVM_Accuracy_Score)\n",
    "print(\"SVM Jaccard Index:\", SVM_JaccardIndex)\n",
    "print(\"SVM F1 Score:\", SVM_F1_Score)"
   ]
  },
  {
   "cell_type": "markdown",
   "id": "c359d67e-2279-48f7-8f4e-5cfbce38787f",
   "metadata": {},
   "source": [
    "### Report\n"
   ]
  },
  {
   "cell_type": "markdown",
   "id": "8b34aeff-18d6-4f17-99ee-bb66f6cdb5ec",
   "metadata": {},
   "source": [
    "#### Q19) Show the Accuracy,Jaccard Index,F1-Score and LogLoss in a tabular format using data frame for all of the above models.\n",
    "\n",
    "\\*LogLoss is only for Logistic Regression Model\n"
   ]
  },
  {
   "cell_type": "code",
   "execution_count": 56,
   "id": "b641ad9b-6453-4d42-b0c2-ae4847728180",
   "metadata": {},
   "outputs": [
    {
     "name": "stdout",
     "output_type": "stream",
     "text": [
      "                 Model  Accuracy  Jaccard Index  F1 Score  Log Loss\n",
      "0    Linear Regression       NaN            NaN       NaN       NaN\n",
      "1                  KNN  0.818321       0.425121  0.596610       NaN\n",
      "2        Decision Tree  0.749618       0.397059  0.568421       NaN\n",
      "3  Logistic Regression  0.836641       0.509174  0.674772  0.380451\n",
      "4                  SVM  0.722137       0.000000  0.000000       NaN\n"
     ]
    }
   ],
   "source": [
    "# Calculate metrics for each model if not already done\n",
    "# Replace with actual calculations if available\n",
    "LinearRegression_Accuracy = None  # Accuracy is not applicable for Linear Regression\n",
    "LinearRegression_Jaccard = None  # Jaccard is not applicable for Linear Regression\n",
    "LinearRegression_F1 = None  # F1 Score is not applicable for Linear Regression\n",
    "LinearRegression_LogLoss = None  # Log Loss is not applicable for Linear Regression\n",
    "\n",
    "KNN_Accuracy = KNN_Accuracy_Score\n",
    "KNN_Jaccard = KNN_JaccardIndex\n",
    "KNN_F1 = KNN_F1_Score\n",
    "KNN_LogLoss = None  # Log Loss is not applicable for KNN\n",
    "\n",
    "Tree_Accuracy = Tree_Accuracy_Score\n",
    "Tree_Jaccard = Tree_JaccardIndex\n",
    "Tree_F1 = Tree_F1_Score\n",
    "Tree_LogLoss = None  # Log Loss is not applicable for Decision Tree\n",
    "\n",
    "LogReg_Accuracy = LogReg_Accuracy_Score\n",
    "LogReg_Jaccard = LogReg_JaccardIndex\n",
    "LogReg_F1 = LogReg_F1_Score\n",
    "LogReg_LogLoss = LogReg_Log_Loss\n",
    "\n",
    "SVM_Accuracy = SVM_Accuracy_Score\n",
    "SVM_Jaccard = SVM_JaccardIndex\n",
    "SVM_F1 = SVM_F1_Score\n",
    "SVM_LogLoss = None  # Log Loss is not applicable for SVM\n",
    "\n",
    "# Create a dictionary for the DataFrame\n",
    "metrics_data = {\n",
    "    \"Model\": [\"Linear Regression\", \"KNN\", \"Decision Tree\", \"Logistic Regression\", \"SVM\"],\n",
    "    \"Accuracy\": [LinearRegression_Accuracy, KNN_Accuracy, Tree_Accuracy, LogReg_Accuracy, SVM_Accuracy],\n",
    "    \"Jaccard Index\": [LinearRegression_Jaccard, KNN_Jaccard, Tree_Jaccard, LogReg_Jaccard, SVM_Jaccard],\n",
    "    \"F1 Score\": [LinearRegression_F1, KNN_F1, Tree_F1, LogReg_F1, SVM_F1],\n",
    "    \"Log Loss\": [LinearRegression_LogLoss, KNN_LogLoss, Tree_LogLoss, LogReg_LogLoss, SVM_LogLoss],\n",
    "}\n",
    "\n",
    "# Create a DataFrame\n",
    "Report = pd.DataFrame(metrics_data)\n",
    "\n",
    "# Display the DataFrame\n",
    "print(Report) "
   ]
  },
  {
   "cell_type": "markdown",
   "id": "e26f707c-9e55-46f8-a96e-d683ead0d845",
   "metadata": {},
   "source": [
    "<h2 id=\"Section_5\">  How to submit </h2>\n",
    "\n",
    "<p>Once you complete your notebook you will have to share it. You can download the notebook by navigating to \"File\" and clicking on \"Download\" button.\n",
    "\n",
    "<p>This will save the (.ipynb) file on your computer. Once saved, you can upload this file in the \"My Submission\" tab, of the \"Peer-graded Assignment\" section.  \n"
   ]
  },
  {
   "cell_type": "markdown",
   "id": "7998511d-7e88-4f2f-95f5-6d27bcb167f1",
   "metadata": {},
   "source": [
    "<h2>About the Authors:</h2> \n",
    "\n",
    "<a href=\"https://www.linkedin.com/in/joseph-s-50398b136/?utm_medium=Exinfluencer&utm_source=Exinfluencer&utm_content=000026UJ&utm_term=10006555&utm_id=NA-SkillsNetwork-Channel-SkillsNetworkCoursesIBMDeveloperSkillsNetworkML0101ENSkillsNetwork20718538-2022-01-01\">Joseph Santarcangelo</a> has a PhD in Electrical Engineering, his research focused on using machine learning, signal processing, and computer vision to determine how videos impact human cognition. Joseph has been working for IBM since he completed his PhD.\n",
    "\n",
    "### Other Contributors\n",
    "\n",
    "[Svitlana Kramar](https://www.linkedin.com/in/svitlana-kramar/?utm_medium=Exinfluencer&utm_source=Exinfluencer&utm_content=000026UJ&utm_term=10006555&utm_id=NA-SkillsNetwork-Channel-SkillsNetworkCoursesIBMML0232ENSkillsNetwork30654641-2022-01-01)\n"
   ]
  },
  {
   "cell_type": "markdown",
   "id": "90cd7956-858f-47af-8890-dd86a9387fe6",
   "metadata": {},
   "source": [
    "## <h3 align=\"center\"> © IBM Corporation 2020. All rights reserved. <h3/>\n",
    "\n",
    "<!--\n",
    "## Change Log\n",
    "\n",
    "| Date (YYYY-MM-DD) | Version | Changed By    | Change Description          |\n",
    "| ----------------- | ------- | ------------- | --------------------------- |\n",
    "| 2022-06-22        | 2.0     | Svitlana K.   | Deleted GridSearch and Mock |\n",
    "--!>"
   ]
  }
 ],
 "metadata": {
  "kernelspec": {
   "display_name": "Python 3",
   "language": "python",
   "name": "python3"
  },
  "language_info": {
   "codemirror_mode": {
    "name": "ipython",
    "version": 3
   },
   "file_extension": ".py",
   "mimetype": "text/x-python",
   "name": "python",
   "nbconvert_exporter": "python",
   "pygments_lexer": "ipython3",
   "version": "3.11.9"
  },
  "prev_pub_hash": "b45b938fc7420206c5fa3f040f896f2a578fd1045d763cf82b4c02f8772d2aee"
 },
 "nbformat": 4,
 "nbformat_minor": 4
}
